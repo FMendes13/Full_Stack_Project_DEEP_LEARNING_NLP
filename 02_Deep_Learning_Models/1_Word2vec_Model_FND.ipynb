{
  "cells": [
    {
      "cell_type": "markdown",
      "metadata": {
        "id": "eM5ByXPOYCO1"
      },
      "source": [
        "# Library"
      ]
    },
    {
      "cell_type": "code",
      "execution_count": 113,
      "metadata": {
        "id": "IICUJRybYCO5"
      },
      "outputs": [],
      "source": [
        "import pandas as pd\n",
        "import numpy as np\n",
        "\n",
        "import tensorflow as tf\n",
        "from tensorflow.keras.preprocessing.text import Tokenizer\n",
        "from tensorflow.keras.preprocessing.sequence import pad_sequences\n",
        "from tensorflow.keras import regularizers\n",
        "\n",
        "from gensim.models import Word2Vec\n",
        "\n",
        "import matplotlib.pyplot as plt\n",
        "\n",
        "import mlflow\n",
        "import mlflow.keras\n",
        "\n",
        "from sklearn.metrics import accuracy_score"
      ]
    },
    {
      "cell_type": "markdown",
      "metadata": {
        "id": "ZB0iCFKsYCO6"
      },
      "source": [
        "# Preprocessing"
      ]
    },
    {
      "cell_type": "code",
      "execution_count": 114,
      "metadata": {
        "colab": {
          "base_uri": "https://localhost:8080/",
          "height": 223
        },
        "id": "WtDaqy54YCO6",
        "outputId": "c355fd97-13cc-4349-85c3-bbc26fa1839a"
      },
      "outputs": [
        {
          "data": {
            "text/html": [
              "<div>\n",
              "<style scoped>\n",
              "    .dataframe tbody tr th:only-of-type {\n",
              "        vertical-align: middle;\n",
              "    }\n",
              "\n",
              "    .dataframe tbody tr th {\n",
              "        vertical-align: top;\n",
              "    }\n",
              "\n",
              "    .dataframe thead th {\n",
              "        text-align: right;\n",
              "    }\n",
              "</style>\n",
              "<table border=\"1\" class=\"dataframe\">\n",
              "  <thead>\n",
              "    <tr style=\"text-align: right;\">\n",
              "      <th></th>\n",
              "      <th>label</th>\n",
              "      <th>message</th>\n",
              "      <th>message_clean</th>\n",
              "    </tr>\n",
              "  </thead>\n",
              "  <tbody>\n",
              "    <tr>\n",
              "      <th>0</th>\n",
              "      <td>0</td>\n",
              "      <td>LAW ENFORCEMENT ON HIGH ALERT Following Threat...</td>\n",
              "      <td>law enforcement high alert follow threat cop w...</td>\n",
              "    </tr>\n",
              "    <tr>\n",
              "      <th>1</th>\n",
              "      <td>0</td>\n",
              "      <td>UNBELIEVABLE! OBAMA’S ATTORNEY GENERAL SAYS MO...</td>\n",
              "      <td>unbelievable obamas attorney general charlotte...</td>\n",
              "    </tr>\n",
              "    <tr>\n",
              "      <th>2</th>\n",
              "      <td>1</td>\n",
              "      <td>Bobby Jindal, raised Hindu, uses story of Chri...</td>\n",
              "      <td>bobby jindal raise hindu use story christian c...</td>\n",
              "    </tr>\n",
              "    <tr>\n",
              "      <th>3</th>\n",
              "      <td>0</td>\n",
              "      <td>SATAN 2: Russia unvelis an image of its terrif...</td>\n",
              "      <td>satan 2 russia unvelis image terrifying new su...</td>\n",
              "    </tr>\n",
              "    <tr>\n",
              "      <th>4</th>\n",
              "      <td>0</td>\n",
              "      <td>About Time! Christian Group Sues Amazon and SP...</td>\n",
              "      <td>time christian group sue amazon splc designati...</td>\n",
              "    </tr>\n",
              "  </tbody>\n",
              "</table>\n",
              "</div>"
            ],
            "text/plain": [
              "   label                                            message  \\\n",
              "0      0  LAW ENFORCEMENT ON HIGH ALERT Following Threat...   \n",
              "1      0  UNBELIEVABLE! OBAMA’S ATTORNEY GENERAL SAYS MO...   \n",
              "2      1  Bobby Jindal, raised Hindu, uses story of Chri...   \n",
              "3      0  SATAN 2: Russia unvelis an image of its terrif...   \n",
              "4      0  About Time! Christian Group Sues Amazon and SP...   \n",
              "\n",
              "                                       message_clean  \n",
              "0  law enforcement high alert follow threat cop w...  \n",
              "1  unbelievable obamas attorney general charlotte...  \n",
              "2  bobby jindal raise hindu use story christian c...  \n",
              "3  satan 2 russia unvelis image terrifying new su...  \n",
              "4  time christian group sue amazon splc designati...  "
            ]
          },
          "execution_count": 114,
          "metadata": {},
          "output_type": "execute_result"
        }
      ],
      "source": [
        "fnd_data_0=pd.read_csv('https://fnd-jedha-project.s3.eu-west-3.amazonaws.com/3_WELFake_Embedding_workbase.csv')\n",
        "fnd_data_0.head()"
      ]
    },
    {
      "cell_type": "code",
      "execution_count": 115,
      "metadata": {
        "id": "buvHpNXgYCO7"
      },
      "outputs": [],
      "source": [
        "fnd_data=fnd_data_0.sample(10000)"
      ]
    },
    {
      "cell_type": "code",
      "execution_count": 116,
      "metadata": {
        "id": "2CcDO2LrYCO7"
      },
      "outputs": [],
      "source": [
        "sentences = fnd_data['message_clean'].tolist()\n",
        "labels = fnd_data['label'].tolist()"
      ]
    },
    {
      "cell_type": "code",
      "execution_count": 117,
      "metadata": {
        "colab": {
          "base_uri": "https://localhost:8080/"
        },
        "id": "beHJcMl2YCO7",
        "outputId": "e0a03066-4f6a-4812-df1b-60820669e0a9"
      },
      "outputs": [],
      "source": [
        "# Entraîner le modèle Word2Vec\n",
        "embedding_dim = 8  # Dimension des vecteurs Word2Vec\n",
        "word2vec_model = Word2Vec(sentences, vector_size=embedding_dim, window=5, min_count=1, workers=4)\n"
      ]
    },
    {
      "cell_type": "code",
      "execution_count": 118,
      "metadata": {
        "id": "oLvryFB_YCO7"
      },
      "outputs": [],
      "source": [
        "# Tokenizer Keras\n",
        "tokenizer = Tokenizer()\n",
        "tokenizer.fit_on_texts([\" \".join(sentence) for sentence in sentences])\n",
        "vocab_size = len(tokenizer.word_index) + 1"
      ]
    },
    {
      "cell_type": "code",
      "execution_count": 119,
      "metadata": {
        "id": "QHRj1QMEYCO8"
      },
      "outputs": [],
      "source": [
        "# Créer une matrice d'embedding\n",
        "embedding_matrix = np.zeros((vocab_size, embedding_dim))\n",
        "\n",
        "for word, i in tokenizer.word_index.items():\n",
        "    if word in word2vec_model.wv:\n",
        "        embedding_matrix[i] = word2vec_model.wv[word]"
      ]
    },
    {
      "cell_type": "code",
      "execution_count": 120,
      "metadata": {
        "id": "GquigyTYYCO8"
      },
      "outputs": [],
      "source": [
        "# Définir la longueur maximale des séquences\n",
        "max_length = max(len(sentence) for sentence in sentences)"
      ]
    },
    {
      "cell_type": "markdown",
      "metadata": {
        "id": "P-UsIo9cYCO8"
      },
      "source": [
        "# Modelling"
      ]
    },
    {
      "cell_type": "code",
      "execution_count": 121,
      "metadata": {
        "id": "Y5A2OPdBYCO8"
      },
      "outputs": [],
      "source": [
        "# Préparer les données d'entraînement\n",
        "X_train = tokenizer.texts_to_sequences([\" \".join(sentence) for sentence in sentences])\n",
        "X_train = pad_sequences(X_train, maxlen=100, padding='post')\n",
        "y_train = np.array(labels)"
      ]
    },
    {
      "cell_type": "code",
      "execution_count": 122,
      "metadata": {
        "id": "Ghbu3LODYCO8"
      },
      "outputs": [
        {
          "name": "stderr",
          "output_type": "stream",
          "text": [
            "/home/zeus/miniconda3/envs/cloudspace/lib/python3.10/site-packages/keras/src/layers/core/embedding.py:90: UserWarning: Argument `input_length` is deprecated. Just remove it.\n",
            "  warnings.warn(\n"
          ]
        }
      ],
      "source": [
        "\n",
        "# Définir le modèle Keras\n",
        "base_model = tf.keras.Sequential([\n",
        "    # Couche d'Input Word Embedding avec la matrice d'embedding pré-entraînée\n",
        "    tf.keras.layers.Embedding(vocab_size, embedding_dim, weights=[embedding_matrix], input_length=max_length, trainable=True, name=\"embedding\"),\n",
        "    # Couche LSTM\n",
        "    tf.keras.layers.LSTM(32, return_sequences=True,kernel_regularizer=regularizers.l2(0.01)),\n",
        "    # Global Average Pooling\n",
        "    tf.keras.layers.GlobalAveragePooling1D(),\n",
        "    # Couche Dense classique\n",
        "    tf.keras.layers.Dense(64, activation='relu'),\n",
        "    #Drop out pour prévenir de l'over-fitting\n",
        "    tf.keras.layers.Dropout(0.5), \n",
        "    # Couche de sortie\n",
        "    tf.keras.layers.Dense(1, activation=\"sigmoid\")\n",
        "])\n",
        "\n",
        "# Compilation du modèle\n",
        "base_model.compile(\n",
        "    optimizer=tf.keras.optimizers.Adam(learning_rate=0.005),\n",
        "    loss=tf.keras.losses.BinaryCrossentropy(),\n",
        "    metrics=[\n",
        "        tf.keras.metrics.BinaryAccuracy(),\n",
        "        #tf.keras.metrics.Precision(),\n",
        "        #tf.keras.metrics.Recall(),\n",
        "        #tf.keras.metrics.AUC()\n",
        "    ]\n",
        ")"
      ]
    },
    {
      "cell_type": "code",
      "execution_count": 123,
      "metadata": {
        "id": "D2LPJ9iAYCO9"
      },
      "outputs": [
        {
          "name": "stderr",
          "output_type": "stream",
          "text": [
            "2025/01/28 15:48:08 INFO mlflow.utils.autologging_utils: Created MLflow autologging run with ID 'b60f05d3f2b54eaa8a332fa5d31da7d1', which will track hyperparameters, performance metrics, model artifacts, and lineage information for the current keras workflow\n"
          ]
        },
        {
          "data": {
            "text/html": [
              "<pre style=\"white-space:pre;overflow-x:auto;line-height:normal;font-family:Menlo,'DejaVu Sans Mono',consolas,'Courier New',monospace\"></pre>\n"
            ],
            "text/plain": []
          },
          "metadata": {},
          "output_type": "display_data"
        },
        {
          "name": "stderr",
          "output_type": "stream",
          "text": [
            "2025/01/28 15:48:13 WARNING mlflow.utils.autologging_utils: Encountered unexpected error during autologging: Failed to upload /tmp/tmpwstdi3xd/model_summary.txt to fnd-jedha-project/9/b60f05d3f2b54eaa8a332fa5d31da7d1/artifacts/model_summary.txt: An error occurred (AccessDenied) when calling the PutObject operation: Access Denied\n"
          ]
        },
        {
          "name": "stdout",
          "output_type": "stream",
          "text": [
            "Epoch 1/100\n",
            "\u001b[1m125/125\u001b[0m \u001b[32m━━━━━━━━━━━━━━━━━━━━\u001b[0m\u001b[37m\u001b[0m \u001b[1m4s\u001b[0m 23ms/step - binary_accuracy: 0.5673 - loss: 0.7376 - val_binary_accuracy: 0.5840 - val_loss: 0.6773\n",
            "Epoch 2/100\n",
            "\u001b[1m125/125\u001b[0m \u001b[32m━━━━━━━━━━━━━━━━━━━━\u001b[0m\u001b[37m\u001b[0m \u001b[1m3s\u001b[0m 23ms/step - binary_accuracy: 0.5706 - loss: 0.6824 - val_binary_accuracy: 0.6505 - val_loss: 0.6465\n",
            "Epoch 3/100\n",
            "\u001b[1m125/125\u001b[0m \u001b[32m━━━━━━━━━━━━━━━━━━━━\u001b[0m\u001b[37m\u001b[0m \u001b[1m3s\u001b[0m 23ms/step - binary_accuracy: 0.6341 - loss: 0.6472 - val_binary_accuracy: 0.6955 - val_loss: 0.5934\n",
            "Epoch 4/100\n",
            "\u001b[1m125/125\u001b[0m \u001b[32m━━━━━━━━━━━━━━━━━━━━\u001b[0m\u001b[37m\u001b[0m \u001b[1m3s\u001b[0m 22ms/step - binary_accuracy: 0.7036 - loss: 0.5892 - val_binary_accuracy: 0.7150 - val_loss: 0.5656\n",
            "Epoch 5/100\n",
            "\u001b[1m125/125\u001b[0m \u001b[32m━━━━━━━━━━━━━━━━━━━━\u001b[0m\u001b[37m\u001b[0m \u001b[1m3s\u001b[0m 22ms/step - binary_accuracy: 0.7047 - loss: 0.5739 - val_binary_accuracy: 0.7210 - val_loss: 0.5656\n",
            "Epoch 6/100\n",
            "\u001b[1m125/125\u001b[0m \u001b[32m━━━━━━━━━━━━━━━━━━━━\u001b[0m\u001b[37m\u001b[0m \u001b[1m3s\u001b[0m 23ms/step - binary_accuracy: 0.7135 - loss: 0.5639 - val_binary_accuracy: 0.7170 - val_loss: 0.5570\n",
            "Epoch 7/100\n",
            "\u001b[1m125/125\u001b[0m \u001b[32m━━━━━━━━━━━━━━━━━━━━\u001b[0m\u001b[37m\u001b[0m \u001b[1m3s\u001b[0m 22ms/step - binary_accuracy: 0.7120 - loss: 0.5581 - val_binary_accuracy: 0.7160 - val_loss: 0.5522\n",
            "Epoch 8/100\n",
            "\u001b[1m125/125\u001b[0m \u001b[32m━━━━━━━━━━━━━━━━━━━━\u001b[0m\u001b[37m\u001b[0m \u001b[1m3s\u001b[0m 24ms/step - binary_accuracy: 0.7204 - loss: 0.5508 - val_binary_accuracy: 0.7215 - val_loss: 0.5660\n",
            "Epoch 9/100\n",
            "\u001b[1m125/125\u001b[0m \u001b[32m━━━━━━━━━━━━━━━━━━━━\u001b[0m\u001b[37m\u001b[0m \u001b[1m3s\u001b[0m 22ms/step - binary_accuracy: 0.7195 - loss: 0.5536 - val_binary_accuracy: 0.7200 - val_loss: 0.5466\n",
            "Epoch 10/100\n",
            "\u001b[1m125/125\u001b[0m \u001b[32m━━━━━━━━━━━━━━━━━━━━\u001b[0m\u001b[37m\u001b[0m \u001b[1m3s\u001b[0m 23ms/step - binary_accuracy: 0.7259 - loss: 0.5431 - val_binary_accuracy: 0.7160 - val_loss: 0.5622\n",
            "Epoch 11/100\n",
            "\u001b[1m125/125\u001b[0m \u001b[32m━━━━━━━━━━━━━━━━━━━━\u001b[0m\u001b[37m\u001b[0m \u001b[1m3s\u001b[0m 22ms/step - binary_accuracy: 0.7246 - loss: 0.5445 - val_binary_accuracy: 0.7230 - val_loss: 0.5427\n",
            "Epoch 12/100\n",
            "\u001b[1m125/125\u001b[0m \u001b[32m━━━━━━━━━━━━━━━━━━━━\u001b[0m\u001b[37m\u001b[0m \u001b[1m3s\u001b[0m 22ms/step - binary_accuracy: 0.7152 - loss: 0.5499 - val_binary_accuracy: 0.7190 - val_loss: 0.5567\n",
            "Epoch 13/100\n",
            "\u001b[1m125/125\u001b[0m \u001b[32m━━━━━━━━━━━━━━━━━━━━\u001b[0m\u001b[37m\u001b[0m \u001b[1m3s\u001b[0m 23ms/step - binary_accuracy: 0.7313 - loss: 0.5361 - val_binary_accuracy: 0.7290 - val_loss: 0.5500\n",
            "Epoch 14/100\n",
            "\u001b[1m125/125\u001b[0m \u001b[32m━━━━━━━━━━━━━━━━━━━━\u001b[0m\u001b[37m\u001b[0m \u001b[1m3s\u001b[0m 24ms/step - binary_accuracy: 0.7288 - loss: 0.5393 - val_binary_accuracy: 0.7335 - val_loss: 0.5398\n",
            "Epoch 15/100\n",
            "\u001b[1m125/125\u001b[0m \u001b[32m━━━━━━━━━━━━━━━━━━━━\u001b[0m\u001b[37m\u001b[0m \u001b[1m3s\u001b[0m 24ms/step - binary_accuracy: 0.7376 - loss: 0.5315 - val_binary_accuracy: 0.7325 - val_loss: 0.5428\n",
            "Epoch 16/100\n",
            "\u001b[1m125/125\u001b[0m \u001b[32m━━━━━━━━━━━━━━━━━━━━\u001b[0m\u001b[37m\u001b[0m \u001b[1m3s\u001b[0m 26ms/step - binary_accuracy: 0.7318 - loss: 0.5314 - val_binary_accuracy: 0.7285 - val_loss: 0.5346\n",
            "Epoch 17/100\n",
            "\u001b[1m125/125\u001b[0m \u001b[32m━━━━━━━━━━━━━━━━━━━━\u001b[0m\u001b[37m\u001b[0m \u001b[1m3s\u001b[0m 24ms/step - binary_accuracy: 0.7348 - loss: 0.5332 - val_binary_accuracy: 0.7340 - val_loss: 0.5419\n",
            "Epoch 18/100\n",
            "\u001b[1m125/125\u001b[0m \u001b[32m━━━━━━━━━━━━━━━━━━━━\u001b[0m\u001b[37m\u001b[0m \u001b[1m3s\u001b[0m 24ms/step - binary_accuracy: 0.7414 - loss: 0.5287 - val_binary_accuracy: 0.7270 - val_loss: 0.5434\n",
            "Epoch 19/100\n",
            "\u001b[1m125/125\u001b[0m \u001b[32m━━━━━━━━━━━━━━━━━━━━\u001b[0m\u001b[37m\u001b[0m \u001b[1m3s\u001b[0m 22ms/step - binary_accuracy: 0.7312 - loss: 0.5424 - val_binary_accuracy: 0.7330 - val_loss: 0.5364\n",
            "Epoch 20/100\n",
            "\u001b[1m125/125\u001b[0m \u001b[32m━━━━━━━━━━━━━━━━━━━━\u001b[0m\u001b[37m\u001b[0m \u001b[1m3s\u001b[0m 22ms/step - binary_accuracy: 0.7465 - loss: 0.5264 - val_binary_accuracy: 0.7270 - val_loss: 0.5381\n",
            "Epoch 21/100\n",
            "\u001b[1m125/125\u001b[0m \u001b[32m━━━━━━━━━━━━━━━━━━━━\u001b[0m\u001b[37m\u001b[0m \u001b[1m3s\u001b[0m 23ms/step - binary_accuracy: 0.7425 - loss: 0.5168 - val_binary_accuracy: 0.7265 - val_loss: 0.5476\n",
            "Epoch 22/100\n",
            "\u001b[1m125/125\u001b[0m \u001b[32m━━━━━━━━━━━━━━━━━━━━\u001b[0m\u001b[37m\u001b[0m \u001b[1m3s\u001b[0m 23ms/step - binary_accuracy: 0.7494 - loss: 0.5120 - val_binary_accuracy: 0.7385 - val_loss: 0.5352\n",
            "Epoch 23/100\n",
            "\u001b[1m125/125\u001b[0m \u001b[32m━━━━━━━━━━━━━━━━━━━━\u001b[0m\u001b[37m\u001b[0m \u001b[1m3s\u001b[0m 21ms/step - binary_accuracy: 0.7462 - loss: 0.5173 - val_binary_accuracy: 0.7250 - val_loss: 0.5710\n",
            "Epoch 24/100\n",
            "\u001b[1m125/125\u001b[0m \u001b[32m━━━━━━━━━━━━━━━━━━━━\u001b[0m\u001b[37m\u001b[0m \u001b[1m3s\u001b[0m 23ms/step - binary_accuracy: 0.7422 - loss: 0.5264 - val_binary_accuracy: 0.7370 - val_loss: 0.5402\n",
            "Epoch 25/100\n",
            "\u001b[1m125/125\u001b[0m \u001b[32m━━━━━━━━━━━━━━━━━━━━\u001b[0m\u001b[37m\u001b[0m \u001b[1m3s\u001b[0m 22ms/step - binary_accuracy: 0.7535 - loss: 0.5129 - val_binary_accuracy: 0.7405 - val_loss: 0.5254\n",
            "Epoch 26/100\n",
            "\u001b[1m125/125\u001b[0m \u001b[32m━━━━━━━━━━━━━━━━━━━━\u001b[0m\u001b[37m\u001b[0m \u001b[1m3s\u001b[0m 22ms/step - binary_accuracy: 0.7496 - loss: 0.5115 - val_binary_accuracy: 0.7305 - val_loss: 0.5405\n",
            "Epoch 27/100\n",
            "\u001b[1m125/125\u001b[0m \u001b[32m━━━━━━━━━━━━━━━━━━━━\u001b[0m\u001b[37m\u001b[0m \u001b[1m3s\u001b[0m 21ms/step - binary_accuracy: 0.7454 - loss: 0.5157 - val_binary_accuracy: 0.7370 - val_loss: 0.5234\n",
            "Epoch 28/100\n",
            "\u001b[1m125/125\u001b[0m \u001b[32m━━━━━━━━━━━━━━━━━━━━\u001b[0m\u001b[37m\u001b[0m \u001b[1m3s\u001b[0m 22ms/step - binary_accuracy: 0.7506 - loss: 0.5050 - val_binary_accuracy: 0.7350 - val_loss: 0.5434\n",
            "Epoch 29/100\n",
            "\u001b[1m125/125\u001b[0m \u001b[32m━━━━━━━━━━━━━━━━━━━━\u001b[0m\u001b[37m\u001b[0m \u001b[1m3s\u001b[0m 23ms/step - binary_accuracy: 0.7510 - loss: 0.5062 - val_binary_accuracy: 0.7260 - val_loss: 0.5390\n",
            "Epoch 30/100\n",
            "\u001b[1m125/125\u001b[0m \u001b[32m━━━━━━━━━━━━━━━━━━━━\u001b[0m\u001b[37m\u001b[0m \u001b[1m3s\u001b[0m 22ms/step - binary_accuracy: 0.7595 - loss: 0.4947 - val_binary_accuracy: 0.7375 - val_loss: 0.5369\n",
            "Epoch 31/100\n",
            "\u001b[1m125/125\u001b[0m \u001b[32m━━━━━━━━━━━━━━━━━━━━\u001b[0m\u001b[37m\u001b[0m \u001b[1m3s\u001b[0m 22ms/step - binary_accuracy: 0.7639 - loss: 0.4914 - val_binary_accuracy: 0.7410 - val_loss: 0.5263\n",
            "Epoch 32/100\n",
            "\u001b[1m125/125\u001b[0m \u001b[32m━━━━━━━━━━━━━━━━━━━━\u001b[0m\u001b[37m\u001b[0m \u001b[1m3s\u001b[0m 22ms/step - binary_accuracy: 0.7789 - loss: 0.4766 - val_binary_accuracy: 0.7330 - val_loss: 0.5335\n",
            "Epoch 33/100\n",
            "\u001b[1m125/125\u001b[0m \u001b[32m━━━━━━━━━━━━━━━━━━━━\u001b[0m\u001b[37m\u001b[0m \u001b[1m3s\u001b[0m 23ms/step - binary_accuracy: 0.7768 - loss: 0.4779 - val_binary_accuracy: 0.7365 - val_loss: 0.5225\n",
            "Epoch 34/100\n",
            "\u001b[1m125/125\u001b[0m \u001b[32m━━━━━━━━━━━━━━━━━━━━\u001b[0m\u001b[37m\u001b[0m \u001b[1m3s\u001b[0m 23ms/step - binary_accuracy: 0.7602 - loss: 0.4890 - val_binary_accuracy: 0.7430 - val_loss: 0.5352\n",
            "Epoch 35/100\n",
            "\u001b[1m125/125\u001b[0m \u001b[32m━━━━━━━━━━━━━━━━━━━━\u001b[0m\u001b[37m\u001b[0m \u001b[1m3s\u001b[0m 24ms/step - binary_accuracy: 0.7697 - loss: 0.4762 - val_binary_accuracy: 0.7380 - val_loss: 0.5556\n",
            "Epoch 36/100\n",
            "\u001b[1m125/125\u001b[0m \u001b[32m━━━━━━━━━━━━━━━━━━━━\u001b[0m\u001b[37m\u001b[0m \u001b[1m3s\u001b[0m 22ms/step - binary_accuracy: 0.7728 - loss: 0.4900 - val_binary_accuracy: 0.7470 - val_loss: 0.5298\n",
            "Epoch 37/100\n",
            "\u001b[1m125/125\u001b[0m \u001b[32m━━━━━━━━━━━━━━━━━━━━\u001b[0m\u001b[37m\u001b[0m \u001b[1m3s\u001b[0m 24ms/step - binary_accuracy: 0.7793 - loss: 0.4669 - val_binary_accuracy: 0.7375 - val_loss: 0.5379\n",
            "Epoch 38/100\n",
            "\u001b[1m125/125\u001b[0m \u001b[32m━━━━━━━━━━━━━━━━━━━━\u001b[0m\u001b[37m\u001b[0m \u001b[1m3s\u001b[0m 24ms/step - binary_accuracy: 0.7898 - loss: 0.4577 - val_binary_accuracy: 0.7525 - val_loss: 0.5249\n",
            "Epoch 39/100\n",
            "\u001b[1m125/125\u001b[0m \u001b[32m━━━━━━━━━━━━━━━━━━━━\u001b[0m\u001b[37m\u001b[0m \u001b[1m3s\u001b[0m 23ms/step - binary_accuracy: 0.7866 - loss: 0.4580 - val_binary_accuracy: 0.7450 - val_loss: 0.5411\n",
            "Epoch 40/100\n",
            "\u001b[1m125/125\u001b[0m \u001b[32m━━━━━━━━━━━━━━━━━━━━\u001b[0m\u001b[37m\u001b[0m \u001b[1m3s\u001b[0m 23ms/step - binary_accuracy: 0.7861 - loss: 0.4611 - val_binary_accuracy: 0.7525 - val_loss: 0.5157\n",
            "Epoch 41/100\n",
            "\u001b[1m125/125\u001b[0m \u001b[32m━━━━━━━━━━━━━━━━━━━━\u001b[0m\u001b[37m\u001b[0m \u001b[1m3s\u001b[0m 22ms/step - binary_accuracy: 0.7877 - loss: 0.4608 - val_binary_accuracy: 0.7490 - val_loss: 0.5334\n",
            "Epoch 42/100\n",
            "\u001b[1m125/125\u001b[0m \u001b[32m━━━━━━━━━━━━━━━━━━━━\u001b[0m\u001b[37m\u001b[0m \u001b[1m3s\u001b[0m 22ms/step - binary_accuracy: 0.7956 - loss: 0.4471 - val_binary_accuracy: 0.7425 - val_loss: 0.5525\n",
            "Epoch 43/100\n",
            "\u001b[1m125/125\u001b[0m \u001b[32m━━━━━━━━━━━━━━━━━━━━\u001b[0m\u001b[37m\u001b[0m \u001b[1m3s\u001b[0m 22ms/step - binary_accuracy: 0.7993 - loss: 0.4420 - val_binary_accuracy: 0.7470 - val_loss: 0.5229\n",
            "Epoch 44/100\n",
            "\u001b[1m125/125\u001b[0m \u001b[32m━━━━━━━━━━━━━━━━━━━━\u001b[0m\u001b[37m\u001b[0m \u001b[1m3s\u001b[0m 22ms/step - binary_accuracy: 0.7954 - loss: 0.4416 - val_binary_accuracy: 0.7470 - val_loss: 0.5632\n",
            "Epoch 45/100\n",
            "\u001b[1m125/125\u001b[0m \u001b[32m━━━━━━━━━━━━━━━━━━━━\u001b[0m\u001b[37m\u001b[0m \u001b[1m3s\u001b[0m 22ms/step - binary_accuracy: 0.8013 - loss: 0.4448 - val_binary_accuracy: 0.7585 - val_loss: 0.5265\n",
            "Epoch 46/100\n",
            "\u001b[1m125/125\u001b[0m \u001b[32m━━━━━━━━━━━━━━━━━━━━\u001b[0m\u001b[37m\u001b[0m \u001b[1m3s\u001b[0m 22ms/step - binary_accuracy: 0.7918 - loss: 0.4529 - val_binary_accuracy: 0.7425 - val_loss: 0.5318\n",
            "Epoch 47/100\n",
            "\u001b[1m125/125\u001b[0m \u001b[32m━━━━━━━━━━━━━━━━━━━━\u001b[0m\u001b[37m\u001b[0m \u001b[1m3s\u001b[0m 21ms/step - binary_accuracy: 0.8060 - loss: 0.4328 - val_binary_accuracy: 0.7460 - val_loss: 0.5486\n",
            "Epoch 48/100\n",
            "\u001b[1m125/125\u001b[0m \u001b[32m━━━━━━━━━━━━━━━━━━━━\u001b[0m\u001b[37m\u001b[0m \u001b[1m3s\u001b[0m 22ms/step - binary_accuracy: 0.8117 - loss: 0.4347 - val_binary_accuracy: 0.7580 - val_loss: 0.5412\n",
            "Epoch 49/100\n",
            "\u001b[1m125/125\u001b[0m \u001b[32m━━━━━━━━━━━━━━━━━━━━\u001b[0m\u001b[37m\u001b[0m \u001b[1m3s\u001b[0m 22ms/step - binary_accuracy: 0.8163 - loss: 0.4173 - val_binary_accuracy: 0.7540 - val_loss: 0.5413\n",
            "Epoch 50/100\n",
            "\u001b[1m125/125\u001b[0m \u001b[32m━━━━━━━━━━━━━━━━━━━━\u001b[0m\u001b[37m\u001b[0m \u001b[1m3s\u001b[0m 22ms/step - binary_accuracy: 0.8144 - loss: 0.4236 - val_binary_accuracy: 0.7510 - val_loss: 0.5290\n",
            "Epoch 51/100\n",
            "\u001b[1m125/125\u001b[0m \u001b[32m━━━━━━━━━━━━━━━━━━━━\u001b[0m\u001b[37m\u001b[0m \u001b[1m3s\u001b[0m 23ms/step - binary_accuracy: 0.8187 - loss: 0.4156 - val_binary_accuracy: 0.7470 - val_loss: 0.5571\n",
            "Epoch 52/100\n",
            "\u001b[1m125/125\u001b[0m \u001b[32m━━━━━━━━━━━━━━━━━━━━\u001b[0m\u001b[37m\u001b[0m \u001b[1m3s\u001b[0m 22ms/step - binary_accuracy: 0.8159 - loss: 0.4196 - val_binary_accuracy: 0.7510 - val_loss: 0.5493\n",
            "Epoch 53/100\n",
            "\u001b[1m125/125\u001b[0m \u001b[32m━━━━━━━━━━━━━━━━━━━━\u001b[0m\u001b[37m\u001b[0m \u001b[1m3s\u001b[0m 23ms/step - binary_accuracy: 0.8256 - loss: 0.4124 - val_binary_accuracy: 0.7420 - val_loss: 0.5424\n",
            "Epoch 54/100\n",
            "\u001b[1m125/125\u001b[0m \u001b[32m━━━━━━━━━━━━━━━━━━━━\u001b[0m\u001b[37m\u001b[0m \u001b[1m3s\u001b[0m 23ms/step - binary_accuracy: 0.8275 - loss: 0.4066 - val_binary_accuracy: 0.7440 - val_loss: 0.5899\n",
            "Epoch 55/100\n",
            "\u001b[1m125/125\u001b[0m \u001b[32m━━━━━━━━━━━━━━━━━━━━\u001b[0m\u001b[37m\u001b[0m \u001b[1m3s\u001b[0m 25ms/step - binary_accuracy: 0.8235 - loss: 0.4078 - val_binary_accuracy: 0.7465 - val_loss: 0.5524\n",
            "Epoch 56/100\n",
            "\u001b[1m125/125\u001b[0m \u001b[32m━━━━━━━━━━━━━━━━━━━━\u001b[0m\u001b[37m\u001b[0m \u001b[1m3s\u001b[0m 23ms/step - binary_accuracy: 0.8259 - loss: 0.4108 - val_binary_accuracy: 0.7645 - val_loss: 0.5597\n",
            "Epoch 57/100\n",
            "\u001b[1m125/125\u001b[0m \u001b[32m━━━━━━━━━━━━━━━━━━━━\u001b[0m\u001b[37m\u001b[0m \u001b[1m3s\u001b[0m 22ms/step - binary_accuracy: 0.8373 - loss: 0.3903 - val_binary_accuracy: 0.7580 - val_loss: 0.5397\n",
            "Epoch 58/100\n",
            "\u001b[1m125/125\u001b[0m \u001b[32m━━━━━━━━━━━━━━━━━━━━\u001b[0m\u001b[37m\u001b[0m \u001b[1m3s\u001b[0m 22ms/step - binary_accuracy: 0.8360 - loss: 0.3904 - val_binary_accuracy: 0.7565 - val_loss: 0.5753\n",
            "Epoch 59/100\n",
            "\u001b[1m125/125\u001b[0m \u001b[32m━━━━━━━━━━━━━━━━━━━━\u001b[0m\u001b[37m\u001b[0m \u001b[1m3s\u001b[0m 22ms/step - binary_accuracy: 0.8383 - loss: 0.3863 - val_binary_accuracy: 0.7490 - val_loss: 0.5727\n",
            "Epoch 60/100\n",
            "\u001b[1m125/125\u001b[0m \u001b[32m━━━━━━━━━━━━━━━━━━━━\u001b[0m\u001b[37m\u001b[0m \u001b[1m3s\u001b[0m 23ms/step - binary_accuracy: 0.8389 - loss: 0.3918 - val_binary_accuracy: 0.7640 - val_loss: 0.5805\n",
            "Epoch 61/100\n",
            "\u001b[1m125/125\u001b[0m \u001b[32m━━━━━━━━━━━━━━━━━━━━\u001b[0m\u001b[37m\u001b[0m \u001b[1m3s\u001b[0m 22ms/step - binary_accuracy: 0.8438 - loss: 0.3852 - val_binary_accuracy: 0.7320 - val_loss: 0.6387\n",
            "Epoch 62/100\n",
            "\u001b[1m125/125\u001b[0m \u001b[32m━━━━━━━━━━━━━━━━━━━━\u001b[0m\u001b[37m\u001b[0m \u001b[1m3s\u001b[0m 22ms/step - binary_accuracy: 0.8313 - loss: 0.4047 - val_binary_accuracy: 0.7560 - val_loss: 0.5692\n",
            "Epoch 63/100\n",
            "\u001b[1m125/125\u001b[0m \u001b[32m━━━━━━━━━━━━━━━━━━━━\u001b[0m\u001b[37m\u001b[0m \u001b[1m3s\u001b[0m 24ms/step - binary_accuracy: 0.8394 - loss: 0.4032 - val_binary_accuracy: 0.7515 - val_loss: 0.5371\n",
            "Epoch 64/100\n",
            "\u001b[1m125/125\u001b[0m \u001b[32m━━━━━━━━━━━━━━━━━━━━\u001b[0m\u001b[37m\u001b[0m \u001b[1m3s\u001b[0m 21ms/step - binary_accuracy: 0.8306 - loss: 0.4081 - val_binary_accuracy: 0.7450 - val_loss: 0.6158\n",
            "Epoch 65/100\n",
            "\u001b[1m125/125\u001b[0m \u001b[32m━━━━━━━━━━━━━━━━━━━━\u001b[0m\u001b[37m\u001b[0m \u001b[1m3s\u001b[0m 23ms/step - binary_accuracy: 0.8329 - loss: 0.3987 - val_binary_accuracy: 0.7510 - val_loss: 0.5623\n",
            "Epoch 66/100\n",
            "\u001b[1m125/125\u001b[0m \u001b[32m━━━━━━━━━━━━━━━━━━━━\u001b[0m\u001b[37m\u001b[0m \u001b[1m3s\u001b[0m 23ms/step - binary_accuracy: 0.8415 - loss: 0.3735 - val_binary_accuracy: 0.7640 - val_loss: 0.5618\n",
            "Epoch 67/100\n",
            "\u001b[1m125/125\u001b[0m \u001b[32m━━━━━━━━━━━━━━━━━━━━\u001b[0m\u001b[37m\u001b[0m \u001b[1m3s\u001b[0m 25ms/step - binary_accuracy: 0.8469 - loss: 0.3758 - val_binary_accuracy: 0.7540 - val_loss: 0.5951\n",
            "Epoch 68/100\n",
            "\u001b[1m125/125\u001b[0m \u001b[32m━━━━━━━━━━━━━━━━━━━━\u001b[0m\u001b[37m\u001b[0m \u001b[1m3s\u001b[0m 24ms/step - binary_accuracy: 0.8395 - loss: 0.3761 - val_binary_accuracy: 0.7635 - val_loss: 0.5606\n",
            "Epoch 69/100\n",
            "\u001b[1m125/125\u001b[0m \u001b[32m━━━━━━━━━━━━━━━━━━━━\u001b[0m\u001b[37m\u001b[0m \u001b[1m3s\u001b[0m 24ms/step - binary_accuracy: 0.8407 - loss: 0.3806 - val_binary_accuracy: 0.7430 - val_loss: 0.6057\n",
            "Epoch 70/100\n",
            "\u001b[1m125/125\u001b[0m \u001b[32m━━━━━━━━━━━━━━━━━━━━\u001b[0m\u001b[37m\u001b[0m \u001b[1m3s\u001b[0m 23ms/step - binary_accuracy: 0.8368 - loss: 0.3841 - val_binary_accuracy: 0.7570 - val_loss: 0.5724\n",
            "Epoch 71/100\n",
            "\u001b[1m125/125\u001b[0m \u001b[32m━━━━━━━━━━━━━━━━━━━━\u001b[0m\u001b[37m\u001b[0m \u001b[1m3s\u001b[0m 22ms/step - binary_accuracy: 0.8457 - loss: 0.3724 - val_binary_accuracy: 0.7635 - val_loss: 0.6015\n",
            "Epoch 72/100\n",
            "\u001b[1m125/125\u001b[0m \u001b[32m━━━━━━━━━━━━━━━━━━━━\u001b[0m\u001b[37m\u001b[0m \u001b[1m3s\u001b[0m 23ms/step - binary_accuracy: 0.8455 - loss: 0.3809 - val_binary_accuracy: 0.7565 - val_loss: 0.6102\n",
            "Epoch 73/100\n",
            "\u001b[1m125/125\u001b[0m \u001b[32m━━━━━━━━━━━━━━━━━━━━\u001b[0m\u001b[37m\u001b[0m \u001b[1m3s\u001b[0m 22ms/step - binary_accuracy: 0.8513 - loss: 0.3623 - val_binary_accuracy: 0.7555 - val_loss: 0.6035\n",
            "Epoch 74/100\n",
            "\u001b[1m125/125\u001b[0m \u001b[32m━━━━━━━━━━━━━━━━━━━━\u001b[0m\u001b[37m\u001b[0m \u001b[1m3s\u001b[0m 22ms/step - binary_accuracy: 0.8506 - loss: 0.3720 - val_binary_accuracy: 0.7400 - val_loss: 0.6495\n",
            "Epoch 75/100\n",
            "\u001b[1m125/125\u001b[0m \u001b[32m━━━━━━━━━━━━━━━━━━━━\u001b[0m\u001b[37m\u001b[0m \u001b[1m3s\u001b[0m 23ms/step - binary_accuracy: 0.8503 - loss: 0.3685 - val_binary_accuracy: 0.7640 - val_loss: 0.6231\n",
            "Epoch 76/100\n",
            "\u001b[1m125/125\u001b[0m \u001b[32m━━━━━━━━━━━━━━━━━━━━\u001b[0m\u001b[37m\u001b[0m \u001b[1m3s\u001b[0m 23ms/step - binary_accuracy: 0.8537 - loss: 0.3684 - val_binary_accuracy: 0.7635 - val_loss: 0.5763\n",
            "Epoch 77/100\n",
            "\u001b[1m125/125\u001b[0m \u001b[32m━━━━━━━━━━━━━━━━━━━━\u001b[0m\u001b[37m\u001b[0m \u001b[1m3s\u001b[0m 23ms/step - binary_accuracy: 0.8517 - loss: 0.3675 - val_binary_accuracy: 0.7415 - val_loss: 0.6231\n",
            "Epoch 78/100\n",
            "\u001b[1m125/125\u001b[0m \u001b[32m━━━━━━━━━━━━━━━━━━━━\u001b[0m\u001b[37m\u001b[0m \u001b[1m3s\u001b[0m 23ms/step - binary_accuracy: 0.8635 - loss: 0.3526 - val_binary_accuracy: 0.7570 - val_loss: 0.6294\n",
            "Epoch 79/100\n",
            "\u001b[1m125/125\u001b[0m \u001b[32m━━━━━━━━━━━━━━━━━━━━\u001b[0m\u001b[37m\u001b[0m \u001b[1m3s\u001b[0m 21ms/step - binary_accuracy: 0.8595 - loss: 0.3494 - val_binary_accuracy: 0.7470 - val_loss: 0.6074\n",
            "Epoch 80/100\n",
            "\u001b[1m125/125\u001b[0m \u001b[32m━━━━━━━━━━━━━━━━━━━━\u001b[0m\u001b[37m\u001b[0m \u001b[1m3s\u001b[0m 21ms/step - binary_accuracy: 0.8534 - loss: 0.3643 - val_binary_accuracy: 0.7530 - val_loss: 0.5953\n",
            "Epoch 81/100\n",
            "\u001b[1m125/125\u001b[0m \u001b[32m━━━━━━━━━━━━━━━━━━━━\u001b[0m\u001b[37m\u001b[0m \u001b[1m3s\u001b[0m 23ms/step - binary_accuracy: 0.8473 - loss: 0.3746 - val_binary_accuracy: 0.7565 - val_loss: 0.5836\n",
            "Epoch 82/100\n",
            "\u001b[1m125/125\u001b[0m \u001b[32m━━━━━━━━━━━━━━━━━━━━\u001b[0m\u001b[37m\u001b[0m \u001b[1m3s\u001b[0m 23ms/step - binary_accuracy: 0.8464 - loss: 0.3851 - val_binary_accuracy: 0.7615 - val_loss: 0.6128\n",
            "Epoch 83/100\n",
            "\u001b[1m125/125\u001b[0m \u001b[32m━━━━━━━━━━━━━━━━━━━━\u001b[0m\u001b[37m\u001b[0m \u001b[1m3s\u001b[0m 21ms/step - binary_accuracy: 0.8574 - loss: 0.3675 - val_binary_accuracy: 0.7550 - val_loss: 0.6320\n",
            "Epoch 84/100\n",
            "\u001b[1m125/125\u001b[0m \u001b[32m━━━━━━━━━━━━━━━━━━━━\u001b[0m\u001b[37m\u001b[0m \u001b[1m3s\u001b[0m 21ms/step - binary_accuracy: 0.8463 - loss: 0.3814 - val_binary_accuracy: 0.7595 - val_loss: 0.5716\n",
            "Epoch 85/100\n",
            "\u001b[1m125/125\u001b[0m \u001b[32m━━━━━━━━━━━━━━━━━━━━\u001b[0m\u001b[37m\u001b[0m \u001b[1m3s\u001b[0m 22ms/step - binary_accuracy: 0.8517 - loss: 0.3638 - val_binary_accuracy: 0.7690 - val_loss: 0.6024\n",
            "Epoch 86/100\n",
            "\u001b[1m125/125\u001b[0m \u001b[32m━━━━━━━━━━━━━━━━━━━━\u001b[0m\u001b[37m\u001b[0m \u001b[1m3s\u001b[0m 21ms/step - binary_accuracy: 0.8722 - loss: 0.3314 - val_binary_accuracy: 0.7545 - val_loss: 0.5888\n",
            "Epoch 87/100\n",
            "\u001b[1m125/125\u001b[0m \u001b[32m━━━━━━━━━━━━━━━━━━━━\u001b[0m\u001b[37m\u001b[0m \u001b[1m3s\u001b[0m 21ms/step - binary_accuracy: 0.8454 - loss: 0.3868 - val_binary_accuracy: 0.7690 - val_loss: 0.6331\n",
            "Epoch 88/100\n",
            "\u001b[1m125/125\u001b[0m \u001b[32m━━━━━━━━━━━━━━━━━━━━\u001b[0m\u001b[37m\u001b[0m \u001b[1m3s\u001b[0m 21ms/step - binary_accuracy: 0.8428 - loss: 0.3868 - val_binary_accuracy: 0.7480 - val_loss: 0.6175\n",
            "Epoch 89/100\n",
            "\u001b[1m125/125\u001b[0m \u001b[32m━━━━━━━━━━━━━━━━━━━━\u001b[0m\u001b[37m\u001b[0m \u001b[1m3s\u001b[0m 21ms/step - binary_accuracy: 0.8631 - loss: 0.3451 - val_binary_accuracy: 0.7525 - val_loss: 0.6326\n",
            "Epoch 90/100\n",
            "\u001b[1m125/125\u001b[0m \u001b[32m━━━━━━━━━━━━━━━━━━━━\u001b[0m\u001b[37m\u001b[0m \u001b[1m3s\u001b[0m 21ms/step - binary_accuracy: 0.8662 - loss: 0.3408 - val_binary_accuracy: 0.7520 - val_loss: 0.6600\n",
            "Epoch 91/100\n",
            "\u001b[1m125/125\u001b[0m \u001b[32m━━━━━━━━━━━━━━━━━━━━\u001b[0m\u001b[37m\u001b[0m \u001b[1m3s\u001b[0m 22ms/step - binary_accuracy: 0.8464 - loss: 0.3748 - val_binary_accuracy: 0.7600 - val_loss: 0.5979\n",
            "Epoch 92/100\n",
            "\u001b[1m125/125\u001b[0m \u001b[32m━━━━━━━━━━━━━━━━━━━━\u001b[0m\u001b[37m\u001b[0m \u001b[1m3s\u001b[0m 21ms/step - binary_accuracy: 0.8639 - loss: 0.3282 - val_binary_accuracy: 0.7675 - val_loss: 0.5762\n",
            "Epoch 93/100\n",
            "\u001b[1m125/125\u001b[0m \u001b[32m━━━━━━━━━━━━━━━━━━━━\u001b[0m\u001b[37m\u001b[0m \u001b[1m3s\u001b[0m 21ms/step - binary_accuracy: 0.8719 - loss: 0.3368 - val_binary_accuracy: 0.7540 - val_loss: 0.6307\n",
            "Epoch 94/100\n",
            "\u001b[1m125/125\u001b[0m \u001b[32m━━━━━━━━━━━━━━━━━━━━\u001b[0m\u001b[37m\u001b[0m \u001b[1m3s\u001b[0m 21ms/step - binary_accuracy: 0.8624 - loss: 0.3427 - val_binary_accuracy: 0.7535 - val_loss: 0.6599\n",
            "Epoch 95/100\n",
            "\u001b[1m125/125\u001b[0m \u001b[32m━━━━━━━━━━━━━━━━━━━━\u001b[0m\u001b[37m\u001b[0m \u001b[1m3s\u001b[0m 22ms/step - binary_accuracy: 0.8638 - loss: 0.3459 - val_binary_accuracy: 0.7550 - val_loss: 0.6233\n",
            "Epoch 96/100\n",
            "\u001b[1m125/125\u001b[0m \u001b[32m━━━━━━━━━━━━━━━━━━━━\u001b[0m\u001b[37m\u001b[0m \u001b[1m3s\u001b[0m 22ms/step - binary_accuracy: 0.8735 - loss: 0.3388 - val_binary_accuracy: 0.7645 - val_loss: 0.6577\n",
            "Epoch 97/100\n",
            "\u001b[1m125/125\u001b[0m \u001b[32m━━━━━━━━━━━━━━━━━━━━\u001b[0m\u001b[37m\u001b[0m \u001b[1m3s\u001b[0m 25ms/step - binary_accuracy: 0.8670 - loss: 0.3606 - val_binary_accuracy: 0.7625 - val_loss: 0.6295\n",
            "Epoch 98/100\n",
            "\u001b[1m125/125\u001b[0m \u001b[32m━━━━━━━━━━━━━━━━━━━━\u001b[0m\u001b[37m\u001b[0m \u001b[1m3s\u001b[0m 25ms/step - binary_accuracy: 0.8739 - loss: 0.3267 - val_binary_accuracy: 0.7665 - val_loss: 0.6276\n",
            "Epoch 99/100\n",
            "\u001b[1m125/125\u001b[0m \u001b[32m━━━━━━━━━━━━━━━━━━━━\u001b[0m\u001b[37m\u001b[0m \u001b[1m3s\u001b[0m 23ms/step - binary_accuracy: 0.8776 - loss: 0.3280 - val_binary_accuracy: 0.7605 - val_loss: 0.6087\n",
            "Epoch 100/100\n",
            "\u001b[1m125/125\u001b[0m \u001b[32m━━━━━━━━━━━━━━━━━━━━\u001b[0m\u001b[37m\u001b[0m \u001b[1m3s\u001b[0m 24ms/step - binary_accuracy: 0.8607 - loss: 0.3624 - val_binary_accuracy: 0.7610 - val_loss: 0.6069\n",
            "🏃 View run aged-sheep-680 at: https://fmendes13-fake-news-detector.hf.space/#/experiments/9/runs/b60f05d3f2b54eaa8a332fa5d31da7d1\n",
            "🧪 View experiment at: https://fmendes13-fake-news-detector.hf.space/#/experiments/9\n"
          ]
        },
        {
          "name": "stderr",
          "output_type": "stream",
          "text": [
            "2025/01/28 15:53:01 WARNING mlflow.utils.autologging_utils: Encountered unexpected error during keras autologging: All input schema' first dimension should be -1, which represents the dynamic batch dimension.\n"
          ]
        }
      ],
      "source": [
        "# Entraînement du modèle\n",
        "history=base_model.fit(X_train, y_train, epochs=100, batch_size=64, validation_split=0.2)"
      ]
    },
    {
      "cell_type": "markdown",
      "metadata": {
        "id": "bFLWPdn3YCO9"
      },
      "source": [
        "## Check Metrics"
      ]
    },
    {
      "cell_type": "code",
      "execution_count": 124,
      "metadata": {
        "id": "24xWGbIWYCO9"
      },
      "outputs": [
        {
          "data": {
            "image/png": "[encoded data removed]",
            "text/plain": [
              "<Figure size 640x480 with 1 Axes>"
            ]
          },
          "metadata": {},
          "output_type": "display_data"
        }
      ],
      "source": [
        "plt.plot(history.history['loss'], color='b', label='loss')\n",
        "plt.plot(history.history['val_loss'], color='r', label='val_loss')\n",
        "plt.ylabel('loss')\n",
        "plt.xlabel('Epochs')\n",
        "plt.legend()\n",
        "plt.show()"
      ]
    },
    {
      "cell_type": "code",
      "execution_count": 125,
      "metadata": {
        "id": "ZeBEDdz4YCO9"
      },
      "outputs": [
        {
          "data": {
            "image/png": "[encoded data removed]",
            "text/plain": [
              "<Figure size 640x480 with 1 Axes>"
            ]
          },
          "metadata": {},
          "output_type": "display_data"
        }
      ],
      "source": [
        "plt.plot(history.history['binary_accuracy'], color='b', label='binary_accuracy')\n",
        "plt.plot(history.history['val_binary_accuracy'], color='r', label='val_binary_accuracy')\n",
        "plt.ylabel('accuracy')\n",
        "plt.xlabel('Epochs')\n",
        "plt.legend()\n",
        "plt.show()"
      ]
    },
    {
      "cell_type": "markdown",
      "metadata": {},
      "source": [
        "# ML Flow - Log Model"
      ]
    },
    {
      "cell_type": "code",
      "execution_count": 127,
      "metadata": {},
      "outputs": [
        {
          "data": {
            "text/html": [
              "<pre style=\"white-space:pre;overflow-x:auto;line-height:normal;font-family:Menlo,'DejaVu Sans Mono',consolas,'Courier New',monospace\"></pre>\n"
            ],
            "text/plain": []
          },
          "metadata": {},
          "output_type": "display_data"
        },
        {
          "name": "stderr",
          "output_type": "stream",
          "text": [
            "2025/01/28 15:56:57 WARNING mlflow.utils.autologging_utils: Encountered unexpected error during autologging: Failed to upload /tmp/tmp5cme_ql5/model_summary.txt to fnd-jedha-project/9/57ca9f738b274e18b081373ece5f7dfc/artifacts/model_summary.txt: An error occurred (AccessDenied) when calling the PutObject operation: Access Denied\n"
          ]
        },
        {
          "name": "stdout",
          "output_type": "stream",
          "text": [
            "Epoch 1/100\n",
            "\u001b[1m125/125\u001b[0m \u001b[32m━━━━━━━━━━━━━━━━━━━━\u001b[0m\u001b[37m\u001b[0m \u001b[1m4s\u001b[0m 24ms/step - accuracy: 0.5286 - loss: 0.7397 - val_accuracy: 0.5835 - val_loss: 0.6752\n",
            "Epoch 2/100\n",
            "\u001b[1m125/125\u001b[0m \u001b[32m━━━━━━━━━━━━━━━━━━━━\u001b[0m\u001b[37m\u001b[0m \u001b[1m3s\u001b[0m 23ms/step - accuracy: 0.5707 - loss: 0.6836 - val_accuracy: 0.6410 - val_loss: 0.6483\n",
            "Epoch 3/100\n",
            "\u001b[1m125/125\u001b[0m \u001b[32m━━━━━━━━━━━━━━━━━━━━\u001b[0m\u001b[37m\u001b[0m \u001b[1m3s\u001b[0m 24ms/step - accuracy: 0.6371 - loss: 0.6568 - val_accuracy: 0.6790 - val_loss: 0.6188\n",
            "Epoch 4/100\n",
            "\u001b[1m125/125\u001b[0m \u001b[32m━━━━━━━━━━━━━━━━━━━━\u001b[0m\u001b[37m\u001b[0m \u001b[1m3s\u001b[0m 22ms/step - accuracy: 0.6764 - loss: 0.6291 - val_accuracy: 0.7100 - val_loss: 0.5901\n",
            "Epoch 5/100\n",
            "\u001b[1m125/125\u001b[0m \u001b[32m━━━━━━━━━━━━━━━━━━━━\u001b[0m\u001b[37m\u001b[0m \u001b[1m3s\u001b[0m 21ms/step - accuracy: 0.6809 - loss: 0.6020 - val_accuracy: 0.7055 - val_loss: 0.5957\n",
            "Epoch 6/100\n",
            "\u001b[1m125/125\u001b[0m \u001b[32m━━━━━━━━━━━━━━━━━━━━\u001b[0m\u001b[37m\u001b[0m \u001b[1m3s\u001b[0m 22ms/step - accuracy: 0.6976 - loss: 0.5802 - val_accuracy: 0.6970 - val_loss: 0.5971\n",
            "Epoch 7/100\n",
            "\u001b[1m125/125\u001b[0m \u001b[32m━━━━━━━━━━━━━━━━━━━━\u001b[0m\u001b[37m\u001b[0m \u001b[1m3s\u001b[0m 22ms/step - accuracy: 0.7064 - loss: 0.5662 - val_accuracy: 0.7125 - val_loss: 0.5675\n",
            "Epoch 8/100\n",
            "\u001b[1m125/125\u001b[0m \u001b[32m━━━━━━━━━━━━━━━━━━━━\u001b[0m\u001b[37m\u001b[0m \u001b[1m3s\u001b[0m 21ms/step - accuracy: 0.7034 - loss: 0.5639 - val_accuracy: 0.6920 - val_loss: 0.6021\n",
            "Epoch 9/100\n",
            "\u001b[1m125/125\u001b[0m \u001b[32m━━━━━━━━━━━━━━━━━━━━\u001b[0m\u001b[37m\u001b[0m \u001b[1m3s\u001b[0m 21ms/step - accuracy: 0.7055 - loss: 0.5755 - val_accuracy: 0.7130 - val_loss: 0.5611\n",
            "Epoch 10/100\n",
            "\u001b[1m125/125\u001b[0m \u001b[32m━━━━━━━━━━━━━━━━━━━━\u001b[0m\u001b[37m\u001b[0m \u001b[1m3s\u001b[0m 21ms/step - accuracy: 0.7193 - loss: 0.5480 - val_accuracy: 0.7085 - val_loss: 0.5601\n",
            "Epoch 11/100\n",
            "\u001b[1m125/125\u001b[0m \u001b[32m━━━━━━━━━━━━━━━━━━━━\u001b[0m\u001b[37m\u001b[0m \u001b[1m3s\u001b[0m 21ms/step - accuracy: 0.7140 - loss: 0.5480 - val_accuracy: 0.7265 - val_loss: 0.5579\n",
            "Epoch 12/100\n",
            "\u001b[1m125/125\u001b[0m \u001b[32m━━━━━━━━━━━━━━━━━━━━\u001b[0m\u001b[37m\u001b[0m \u001b[1m3s\u001b[0m 21ms/step - accuracy: 0.7189 - loss: 0.5429 - val_accuracy: 0.7215 - val_loss: 0.5461\n",
            "Epoch 13/100\n",
            "\u001b[1m125/125\u001b[0m \u001b[32m━━━━━━━━━━━━━━━━━━━━\u001b[0m\u001b[37m\u001b[0m \u001b[1m3s\u001b[0m 21ms/step - accuracy: 0.7243 - loss: 0.5417 - val_accuracy: 0.7105 - val_loss: 0.5746\n",
            "Epoch 14/100\n",
            "\u001b[1m125/125\u001b[0m \u001b[32m━━━━━━━━━━━━━━━━━━━━\u001b[0m\u001b[37m\u001b[0m \u001b[1m3s\u001b[0m 21ms/step - accuracy: 0.7063 - loss: 0.5690 - val_accuracy: 0.7040 - val_loss: 0.5739\n",
            "Epoch 15/100\n",
            "\u001b[1m125/125\u001b[0m \u001b[32m━━━━━━━━━━━━━━━━━━━━\u001b[0m\u001b[37m\u001b[0m \u001b[1m3s\u001b[0m 21ms/step - accuracy: 0.7150 - loss: 0.5513 - val_accuracy: 0.7210 - val_loss: 0.5520\n",
            "Epoch 16/100\n",
            "\u001b[1m125/125\u001b[0m \u001b[32m━━━━━━━━━━━━━━━━━━━━\u001b[0m\u001b[37m\u001b[0m \u001b[1m3s\u001b[0m 23ms/step - accuracy: 0.7175 - loss: 0.5461 - val_accuracy: 0.7240 - val_loss: 0.5495\n",
            "Epoch 17/100\n",
            "\u001b[1m125/125\u001b[0m \u001b[32m━━━━━━━━━━━━━━━━━━━━\u001b[0m\u001b[37m\u001b[0m \u001b[1m3s\u001b[0m 21ms/step - accuracy: 0.7245 - loss: 0.5429 - val_accuracy: 0.7245 - val_loss: 0.5461\n",
            "Epoch 18/100\n",
            "\u001b[1m125/125\u001b[0m \u001b[32m━━━━━━━━━━━━━━━━━━━━\u001b[0m\u001b[37m\u001b[0m \u001b[1m3s\u001b[0m 20ms/step - accuracy: 0.7331 - loss: 0.5347 - val_accuracy: 0.7200 - val_loss: 0.5469\n",
            "Epoch 19/100\n",
            "\u001b[1m125/125\u001b[0m \u001b[32m━━━━━━━━━━━━━━━━━━━━\u001b[0m\u001b[37m\u001b[0m \u001b[1m3s\u001b[0m 22ms/step - accuracy: 0.7261 - loss: 0.5402 - val_accuracy: 0.7300 - val_loss: 0.5579\n",
            "Epoch 20/100\n",
            "\u001b[1m125/125\u001b[0m \u001b[32m━━━━━━━━━━━━━━━━━━━━\u001b[0m\u001b[37m\u001b[0m \u001b[1m3s\u001b[0m 22ms/step - accuracy: 0.7189 - loss: 0.5587 - val_accuracy: 0.7325 - val_loss: 0.5420\n",
            "Epoch 21/100\n",
            "\u001b[1m125/125\u001b[0m \u001b[32m━━━━━━━━━━━━━━━━━━━━\u001b[0m\u001b[37m\u001b[0m \u001b[1m3s\u001b[0m 20ms/step - accuracy: 0.7244 - loss: 0.5369 - val_accuracy: 0.7155 - val_loss: 0.5524\n",
            "Epoch 22/100\n",
            "\u001b[1m125/125\u001b[0m \u001b[32m━━━━━━━━━━━━━━━━━━━━\u001b[0m\u001b[37m\u001b[0m \u001b[1m3s\u001b[0m 21ms/step - accuracy: 0.7070 - loss: 0.5446 - val_accuracy: 0.7270 - val_loss: 0.5475\n",
            "Epoch 23/100\n",
            "\u001b[1m125/125\u001b[0m \u001b[32m━━━━━━━━━━━━━━━━━━━━\u001b[0m\u001b[37m\u001b[0m \u001b[1m3s\u001b[0m 22ms/step - accuracy: 0.7182 - loss: 0.5598 - val_accuracy: 0.7340 - val_loss: 0.5418\n",
            "Epoch 24/100\n",
            "\u001b[1m125/125\u001b[0m \u001b[32m━━━━━━━━━━━━━━━━━━━━\u001b[0m\u001b[37m\u001b[0m \u001b[1m3s\u001b[0m 21ms/step - accuracy: 0.7328 - loss: 0.5282 - val_accuracy: 0.7290 - val_loss: 0.5389\n",
            "Epoch 25/100\n",
            "\u001b[1m125/125\u001b[0m \u001b[32m━━━━━━━━━━━━━━━━━━━━\u001b[0m\u001b[37m\u001b[0m \u001b[1m3s\u001b[0m 21ms/step - accuracy: 0.7377 - loss: 0.5260 - val_accuracy: 0.7125 - val_loss: 0.5643\n",
            "Epoch 26/100\n",
            "\u001b[1m125/125\u001b[0m \u001b[32m━━━━━━━━━━━━━━━━━━━━\u001b[0m\u001b[37m\u001b[0m \u001b[1m3s\u001b[0m 22ms/step - accuracy: 0.7219 - loss: 0.5416 - val_accuracy: 0.7305 - val_loss: 0.5403\n",
            "Epoch 27/100\n",
            "\u001b[1m125/125\u001b[0m \u001b[32m━━━━━━━━━━━━━━━━━━━━\u001b[0m\u001b[37m\u001b[0m \u001b[1m3s\u001b[0m 21ms/step - accuracy: 0.7441 - loss: 0.5239 - val_accuracy: 0.7320 - val_loss: 0.5493\n",
            "Epoch 28/100\n",
            "\u001b[1m125/125\u001b[0m \u001b[32m━━━━━━━━━━━━━━━━━━━━\u001b[0m\u001b[37m\u001b[0m \u001b[1m3s\u001b[0m 22ms/step - accuracy: 0.7325 - loss: 0.5283 - val_accuracy: 0.7350 - val_loss: 0.5359\n",
            "Epoch 29/100\n",
            "\u001b[1m125/125\u001b[0m \u001b[32m━━━━━━━━━━━━━━━━━━━━\u001b[0m\u001b[37m\u001b[0m \u001b[1m3s\u001b[0m 21ms/step - accuracy: 0.7385 - loss: 0.5216 - val_accuracy: 0.7195 - val_loss: 0.5545\n",
            "Epoch 30/100\n",
            "\u001b[1m125/125\u001b[0m \u001b[32m━━━━━━━━━━━━━━━━━━━━\u001b[0m\u001b[37m\u001b[0m \u001b[1m3s\u001b[0m 21ms/step - accuracy: 0.7541 - loss: 0.5128 - val_accuracy: 0.7385 - val_loss: 0.5365\n",
            "Epoch 31/100\n",
            "\u001b[1m125/125\u001b[0m \u001b[32m━━━━━━━━━━━━━━━━━━━━\u001b[0m\u001b[37m\u001b[0m \u001b[1m3s\u001b[0m 21ms/step - accuracy: 0.7509 - loss: 0.5075 - val_accuracy: 0.7350 - val_loss: 0.5356\n",
            "Epoch 32/100\n",
            "\u001b[1m125/125\u001b[0m \u001b[32m━━━━━━━━━━━━━━━━━━━━\u001b[0m\u001b[37m\u001b[0m \u001b[1m3s\u001b[0m 22ms/step - accuracy: 0.7439 - loss: 0.5170 - val_accuracy: 0.7270 - val_loss: 0.5410\n",
            "Epoch 33/100\n",
            "\u001b[1m125/125\u001b[0m \u001b[32m━━━━━━━━━━━━━━━━━━━━\u001b[0m\u001b[37m\u001b[0m \u001b[1m3s\u001b[0m 22ms/step - accuracy: 0.7558 - loss: 0.5096 - val_accuracy: 0.7380 - val_loss: 0.5216\n",
            "Epoch 34/100\n",
            "\u001b[1m125/125\u001b[0m \u001b[32m━━━━━━━━━━━━━━━━━━━━\u001b[0m\u001b[37m\u001b[0m \u001b[1m3s\u001b[0m 21ms/step - accuracy: 0.7573 - loss: 0.5014 - val_accuracy: 0.7400 - val_loss: 0.5242\n",
            "Epoch 35/100\n",
            "\u001b[1m125/125\u001b[0m \u001b[32m━━━━━━━━━━━━━━━━━━━━\u001b[0m\u001b[37m\u001b[0m \u001b[1m3s\u001b[0m 21ms/step - accuracy: 0.7536 - loss: 0.5044 - val_accuracy: 0.7345 - val_loss: 0.5342\n",
            "Epoch 36/100\n",
            "\u001b[1m125/125\u001b[0m \u001b[32m━━━━━━━━━━━━━━━━━━━━\u001b[0m\u001b[37m\u001b[0m \u001b[1m3s\u001b[0m 21ms/step - accuracy: 0.7648 - loss: 0.5014 - val_accuracy: 0.6935 - val_loss: 0.5878\n",
            "Epoch 37/100\n",
            "\u001b[1m125/125\u001b[0m \u001b[32m━━━━━━━━━━━━━━━━━━━━\u001b[0m\u001b[37m\u001b[0m \u001b[1m3s\u001b[0m 21ms/step - accuracy: 0.7426 - loss: 0.5138 - val_accuracy: 0.7480 - val_loss: 0.5270\n",
            "Epoch 38/100\n",
            "\u001b[1m125/125\u001b[0m \u001b[32m━━━━━━━━━━━━━━━━━━━━\u001b[0m\u001b[37m\u001b[0m \u001b[1m3s\u001b[0m 22ms/step - accuracy: 0.7634 - loss: 0.4923 - val_accuracy: 0.7480 - val_loss: 0.5092\n",
            "Epoch 39/100\n",
            "\u001b[1m125/125\u001b[0m \u001b[32m━━━━━━━━━━━━━━━━━━━━\u001b[0m\u001b[37m\u001b[0m \u001b[1m3s\u001b[0m 23ms/step - accuracy: 0.7660 - loss: 0.4832 - val_accuracy: 0.7550 - val_loss: 0.5168\n",
            "Epoch 40/100\n",
            "\u001b[1m125/125\u001b[0m \u001b[32m━━━━━━━━━━━━━━━━━━━━\u001b[0m\u001b[37m\u001b[0m \u001b[1m3s\u001b[0m 22ms/step - accuracy: 0.7645 - loss: 0.4913 - val_accuracy: 0.7555 - val_loss: 0.5125\n",
            "Epoch 41/100\n",
            "\u001b[1m125/125\u001b[0m \u001b[32m━━━━━━━━━━━━━━━━━━━━\u001b[0m\u001b[37m\u001b[0m \u001b[1m3s\u001b[0m 22ms/step - accuracy: 0.7692 - loss: 0.4901 - val_accuracy: 0.7495 - val_loss: 0.5259\n",
            "Epoch 42/100\n",
            "\u001b[1m125/125\u001b[0m \u001b[32m━━━━━━━━━━━━━━━━━━━━\u001b[0m\u001b[37m\u001b[0m \u001b[1m3s\u001b[0m 22ms/step - accuracy: 0.7781 - loss: 0.4715 - val_accuracy: 0.7515 - val_loss: 0.5280\n",
            "Epoch 43/100\n",
            "\u001b[1m125/125\u001b[0m \u001b[32m━━━━━━━━━━━━━━━━━━━━\u001b[0m\u001b[37m\u001b[0m \u001b[1m3s\u001b[0m 23ms/step - accuracy: 0.7743 - loss: 0.4800 - val_accuracy: 0.7540 - val_loss: 0.5289\n",
            "Epoch 44/100\n",
            "\u001b[1m125/125\u001b[0m \u001b[32m━━━━━━━━━━━━━━━━━━━━\u001b[0m\u001b[37m\u001b[0m \u001b[1m3s\u001b[0m 22ms/step - accuracy: 0.7810 - loss: 0.4701 - val_accuracy: 0.7545 - val_loss: 0.5192\n",
            "Epoch 45/100\n",
            "\u001b[1m125/125\u001b[0m \u001b[32m━━━━━━━━━━━━━━━━━━━━\u001b[0m\u001b[37m\u001b[0m \u001b[1m3s\u001b[0m 22ms/step - accuracy: 0.7822 - loss: 0.4622 - val_accuracy: 0.7450 - val_loss: 0.5262\n",
            "Epoch 46/100\n",
            "\u001b[1m125/125\u001b[0m \u001b[32m━━━━━━━━━━━━━━━━━━━━\u001b[0m\u001b[37m\u001b[0m \u001b[1m3s\u001b[0m 22ms/step - accuracy: 0.7770 - loss: 0.4750 - val_accuracy: 0.7505 - val_loss: 0.5122\n",
            "Epoch 47/100\n",
            "\u001b[1m125/125\u001b[0m \u001b[32m━━━━━━━━━━━━━━━━━━━━\u001b[0m\u001b[37m\u001b[0m \u001b[1m3s\u001b[0m 22ms/step - accuracy: 0.7842 - loss: 0.4693 - val_accuracy: 0.7585 - val_loss: 0.5258\n",
            "Epoch 48/100\n",
            "\u001b[1m125/125\u001b[0m \u001b[32m━━━━━━━━━━━━━━━━━━━━\u001b[0m\u001b[37m\u001b[0m \u001b[1m3s\u001b[0m 22ms/step - accuracy: 0.7889 - loss: 0.4569 - val_accuracy: 0.7550 - val_loss: 0.5219\n",
            "Epoch 49/100\n",
            "\u001b[1m125/125\u001b[0m \u001b[32m━━━━━━━━━━━━━━━━━━━━\u001b[0m\u001b[37m\u001b[0m \u001b[1m3s\u001b[0m 22ms/step - accuracy: 0.7966 - loss: 0.4583 - val_accuracy: 0.7535 - val_loss: 0.5205\n",
            "Epoch 50/100\n",
            "\u001b[1m125/125\u001b[0m \u001b[32m━━━━━━━━━━━━━━━━━━━━\u001b[0m\u001b[37m\u001b[0m \u001b[1m3s\u001b[0m 21ms/step - accuracy: 0.7871 - loss: 0.4654 - val_accuracy: 0.7590 - val_loss: 0.5198\n",
            "Epoch 51/100\n",
            "\u001b[1m125/125\u001b[0m \u001b[32m━━━━━━━━━━━━━━━━━━━━\u001b[0m\u001b[37m\u001b[0m \u001b[1m3s\u001b[0m 22ms/step - accuracy: 0.7902 - loss: 0.4660 - val_accuracy: 0.7520 - val_loss: 0.5200\n",
            "Epoch 52/100\n",
            "\u001b[1m125/125\u001b[0m \u001b[32m━━━━━━━━━━━━━━━━━━━━\u001b[0m\u001b[37m\u001b[0m \u001b[1m3s\u001b[0m 21ms/step - accuracy: 0.7930 - loss: 0.4522 - val_accuracy: 0.7540 - val_loss: 0.5471\n",
            "Epoch 53/100\n",
            "\u001b[1m125/125\u001b[0m \u001b[32m━━━━━━━━━━━━━━━━━━━━\u001b[0m\u001b[37m\u001b[0m \u001b[1m3s\u001b[0m 21ms/step - accuracy: 0.7968 - loss: 0.4453 - val_accuracy: 0.7505 - val_loss: 0.5441\n",
            "Epoch 54/100\n",
            "\u001b[1m125/125\u001b[0m \u001b[32m━━━━━━━━━━━━━━━━━━━━\u001b[0m\u001b[37m\u001b[0m \u001b[1m3s\u001b[0m 22ms/step - accuracy: 0.8007 - loss: 0.4492 - val_accuracy: 0.7560 - val_loss: 0.5247\n",
            "Epoch 55/100\n",
            "\u001b[1m125/125\u001b[0m \u001b[32m━━━━━━━━━━━━━━━━━━━━\u001b[0m\u001b[37m\u001b[0m \u001b[1m5s\u001b[0m 21ms/step - accuracy: 0.7947 - loss: 0.4562 - val_accuracy: 0.7520 - val_loss: 0.5115\n",
            "Epoch 56/100\n",
            "\u001b[1m125/125\u001b[0m \u001b[32m━━━━━━━━━━━━━━━━━━━━\u001b[0m\u001b[37m\u001b[0m \u001b[1m3s\u001b[0m 23ms/step - accuracy: 0.8091 - loss: 0.4415 - val_accuracy: 0.7430 - val_loss: 0.5414\n",
            "Epoch 57/100\n",
            "\u001b[1m125/125\u001b[0m \u001b[32m━━━━━━━━━━━━━━━━━━━━\u001b[0m\u001b[37m\u001b[0m \u001b[1m3s\u001b[0m 21ms/step - accuracy: 0.8016 - loss: 0.4481 - val_accuracy: 0.7540 - val_loss: 0.5302\n",
            "Epoch 58/100\n",
            "\u001b[1m125/125\u001b[0m \u001b[32m━━━━━━━━━━━━━━━━━━━━\u001b[0m\u001b[37m\u001b[0m \u001b[1m3s\u001b[0m 23ms/step - accuracy: 0.7961 - loss: 0.4543 - val_accuracy: 0.7545 - val_loss: 0.5253\n",
            "Epoch 59/100\n",
            "\u001b[1m125/125\u001b[0m \u001b[32m━━━━━━━━━━━━━━━━━━━━\u001b[0m\u001b[37m\u001b[0m \u001b[1m3s\u001b[0m 22ms/step - accuracy: 0.8142 - loss: 0.4272 - val_accuracy: 0.7545 - val_loss: 0.5506\n",
            "Epoch 60/100\n",
            "\u001b[1m125/125\u001b[0m \u001b[32m━━━━━━━━━━━━━━━━━━━━\u001b[0m\u001b[37m\u001b[0m \u001b[1m3s\u001b[0m 22ms/step - accuracy: 0.8020 - loss: 0.4382 - val_accuracy: 0.7645 - val_loss: 0.5189\n",
            "Epoch 61/100\n",
            "\u001b[1m125/125\u001b[0m \u001b[32m━━━━━━━━━━━━━━━━━━━━\u001b[0m\u001b[37m\u001b[0m \u001b[1m3s\u001b[0m 22ms/step - accuracy: 0.8032 - loss: 0.4266 - val_accuracy: 0.7510 - val_loss: 0.5396\n",
            "Epoch 62/100\n",
            "\u001b[1m125/125\u001b[0m \u001b[32m━━━━━━━━━━━━━━━━━━━━\u001b[0m\u001b[37m\u001b[0m \u001b[1m3s\u001b[0m 22ms/step - accuracy: 0.8201 - loss: 0.4241 - val_accuracy: 0.7520 - val_loss: 0.5559\n",
            "Epoch 63/100\n",
            "\u001b[1m125/125\u001b[0m \u001b[32m━━━━━━━━━━━━━━━━━━━━\u001b[0m\u001b[37m\u001b[0m \u001b[1m3s\u001b[0m 21ms/step - accuracy: 0.8149 - loss: 0.4273 - val_accuracy: 0.7555 - val_loss: 0.5528\n",
            "Epoch 64/100\n",
            "\u001b[1m125/125\u001b[0m \u001b[32m━━━━━━━━━━━━━━━━━━━━\u001b[0m\u001b[37m\u001b[0m \u001b[1m3s\u001b[0m 22ms/step - accuracy: 0.8136 - loss: 0.4265 - val_accuracy: 0.7580 - val_loss: 0.5322\n",
            "Epoch 65/100\n",
            "\u001b[1m125/125\u001b[0m \u001b[32m━━━━━━━━━━━━━━━━━━━━\u001b[0m\u001b[37m\u001b[0m \u001b[1m3s\u001b[0m 22ms/step - accuracy: 0.8060 - loss: 0.4310 - val_accuracy: 0.7530 - val_loss: 0.5426\n",
            "Epoch 66/100\n",
            "\u001b[1m125/125\u001b[0m \u001b[32m━━━━━━━━━━━━━━━━━━━━\u001b[0m\u001b[37m\u001b[0m \u001b[1m3s\u001b[0m 22ms/step - accuracy: 0.8242 - loss: 0.4147 - val_accuracy: 0.7540 - val_loss: 0.5444\n",
            "Epoch 67/100\n",
            "\u001b[1m125/125\u001b[0m \u001b[32m━━━━━━━━━━━━━━━━━━━━\u001b[0m\u001b[37m\u001b[0m \u001b[1m3s\u001b[0m 21ms/step - accuracy: 0.8209 - loss: 0.4205 - val_accuracy: 0.7585 - val_loss: 0.5474\n",
            "Epoch 68/100\n",
            "\u001b[1m125/125\u001b[0m \u001b[32m━━━━━━━━━━━━━━━━━━━━\u001b[0m\u001b[37m\u001b[0m \u001b[1m3s\u001b[0m 22ms/step - accuracy: 0.8204 - loss: 0.4183 - val_accuracy: 0.7625 - val_loss: 0.5616\n",
            "Epoch 69/100\n",
            "\u001b[1m125/125\u001b[0m \u001b[32m━━━━━━━━━━━━━━━━━━━━\u001b[0m\u001b[37m\u001b[0m \u001b[1m3s\u001b[0m 21ms/step - accuracy: 0.8223 - loss: 0.4122 - val_accuracy: 0.7585 - val_loss: 0.5233\n",
            "Epoch 70/100\n",
            "\u001b[1m125/125\u001b[0m \u001b[32m━━━━━━━━━━━━━━━━━━━━\u001b[0m\u001b[37m\u001b[0m \u001b[1m3s\u001b[0m 22ms/step - accuracy: 0.8275 - loss: 0.4095 - val_accuracy: 0.7550 - val_loss: 0.5483\n",
            "Epoch 71/100\n",
            "\u001b[1m125/125\u001b[0m \u001b[32m━━━━━━━━━━━━━━━━━━━━\u001b[0m\u001b[37m\u001b[0m \u001b[1m3s\u001b[0m 22ms/step - accuracy: 0.8267 - loss: 0.3989 - val_accuracy: 0.7515 - val_loss: 0.5588\n",
            "Epoch 72/100\n",
            "\u001b[1m125/125\u001b[0m \u001b[32m━━━━━━━━━━━━━━━━━━━━\u001b[0m\u001b[37m\u001b[0m \u001b[1m3s\u001b[0m 23ms/step - accuracy: 0.8269 - loss: 0.4158 - val_accuracy: 0.7580 - val_loss: 0.5750\n",
            "Epoch 73/100\n",
            "\u001b[1m125/125\u001b[0m \u001b[32m━━━━━━━━━━━━━━━━━━━━\u001b[0m\u001b[37m\u001b[0m \u001b[1m3s\u001b[0m 23ms/step - accuracy: 0.8176 - loss: 0.4243 - val_accuracy: 0.7545 - val_loss: 0.5424\n",
            "Epoch 74/100\n",
            "\u001b[1m125/125\u001b[0m \u001b[32m━━━━━━━━━━━━━━━━━━━━\u001b[0m\u001b[37m\u001b[0m \u001b[1m3s\u001b[0m 22ms/step - accuracy: 0.8221 - loss: 0.4256 - val_accuracy: 0.7600 - val_loss: 0.5365\n",
            "Epoch 75/100\n",
            "\u001b[1m125/125\u001b[0m \u001b[32m━━━━━━━━━━━━━━━━━━━━\u001b[0m\u001b[37m\u001b[0m \u001b[1m3s\u001b[0m 21ms/step - accuracy: 0.8234 - loss: 0.4053 - val_accuracy: 0.7560 - val_loss: 0.5446\n",
            "Epoch 76/100\n",
            "\u001b[1m125/125\u001b[0m \u001b[32m━━━━━━━━━━━━━━━━━━━━\u001b[0m\u001b[37m\u001b[0m \u001b[1m3s\u001b[0m 22ms/step - accuracy: 0.8368 - loss: 0.3945 - val_accuracy: 0.7655 - val_loss: 0.5848\n",
            "Epoch 77/100\n",
            "\u001b[1m125/125\u001b[0m \u001b[32m━━━━━━━━━━━━━━━━━━━━\u001b[0m\u001b[37m\u001b[0m \u001b[1m3s\u001b[0m 22ms/step - accuracy: 0.8347 - loss: 0.3968 - val_accuracy: 0.7580 - val_loss: 0.5630\n",
            "Epoch 78/100\n",
            "\u001b[1m125/125\u001b[0m \u001b[32m━━━━━━━━━━━━━━━━━━━━\u001b[0m\u001b[37m\u001b[0m \u001b[1m3s\u001b[0m 22ms/step - accuracy: 0.8385 - loss: 0.3962 - val_accuracy: 0.7625 - val_loss: 0.5445\n",
            "Epoch 79/100\n",
            "\u001b[1m125/125\u001b[0m \u001b[32m━━━━━━━━━━━━━━━━━━━━\u001b[0m\u001b[37m\u001b[0m \u001b[1m3s\u001b[0m 21ms/step - accuracy: 0.8348 - loss: 0.4125 - val_accuracy: 0.7565 - val_loss: 0.5607\n",
            "Epoch 80/100\n",
            "\u001b[1m125/125\u001b[0m \u001b[32m━━━━━━━━━━━━━━━━━━━━\u001b[0m\u001b[37m\u001b[0m \u001b[1m3s\u001b[0m 23ms/step - accuracy: 0.8209 - loss: 0.4303 - val_accuracy: 0.7600 - val_loss: 0.5476\n",
            "Epoch 81/100\n",
            "\u001b[1m125/125\u001b[0m \u001b[32m━━━━━━━━━━━━━━━━━━━━\u001b[0m\u001b[37m\u001b[0m \u001b[1m3s\u001b[0m 23ms/step - accuracy: 0.8330 - loss: 0.4007 - val_accuracy: 0.7685 - val_loss: 0.5396\n",
            "Epoch 82/100\n",
            "\u001b[1m125/125\u001b[0m \u001b[32m━━━━━━━━━━━━━━━━━━━━\u001b[0m\u001b[37m\u001b[0m \u001b[1m3s\u001b[0m 23ms/step - accuracy: 0.8441 - loss: 0.3823 - val_accuracy: 0.7595 - val_loss: 0.5586\n",
            "Epoch 83/100\n",
            "\u001b[1m125/125\u001b[0m \u001b[32m━━━━━━━━━━━━━━━━━━━━\u001b[0m\u001b[37m\u001b[0m \u001b[1m3s\u001b[0m 22ms/step - accuracy: 0.8340 - loss: 0.4001 - val_accuracy: 0.7650 - val_loss: 0.5391\n",
            "Epoch 84/100\n",
            "\u001b[1m125/125\u001b[0m \u001b[32m━━━━━━━━━━━━━━━━━━━━\u001b[0m\u001b[37m\u001b[0m \u001b[1m3s\u001b[0m 21ms/step - accuracy: 0.8194 - loss: 0.4076 - val_accuracy: 0.7650 - val_loss: 0.5409\n",
            "Epoch 85/100\n",
            "\u001b[1m125/125\u001b[0m \u001b[32m━━━━━━━━━━━━━━━━━━━━\u001b[0m\u001b[37m\u001b[0m \u001b[1m3s\u001b[0m 22ms/step - accuracy: 0.8301 - loss: 0.4014 - val_accuracy: 0.7475 - val_loss: 0.6164\n",
            "Epoch 86/100\n",
            "\u001b[1m125/125\u001b[0m \u001b[32m━━━━━━━━━━━━━━━━━━━━\u001b[0m\u001b[37m\u001b[0m \u001b[1m3s\u001b[0m 23ms/step - accuracy: 0.8304 - loss: 0.4067 - val_accuracy: 0.7595 - val_loss: 0.5486\n",
            "Epoch 87/100\n",
            "\u001b[1m125/125\u001b[0m \u001b[32m━━━━━━━━━━━━━━━━━━━━\u001b[0m\u001b[37m\u001b[0m \u001b[1m3s\u001b[0m 22ms/step - accuracy: 0.8279 - loss: 0.3981 - val_accuracy: 0.7630 - val_loss: 0.5533\n",
            "Epoch 88/100\n",
            "\u001b[1m125/125\u001b[0m \u001b[32m━━━━━━━━━━━━━━━━━━━━\u001b[0m\u001b[37m\u001b[0m \u001b[1m3s\u001b[0m 24ms/step - accuracy: 0.8462 - loss: 0.3801 - val_accuracy: 0.7565 - val_loss: 0.5609\n",
            "Epoch 89/100\n",
            "\u001b[1m125/125\u001b[0m \u001b[32m━━━━━━━━━━━━━━━━━━━━\u001b[0m\u001b[37m\u001b[0m \u001b[1m3s\u001b[0m 22ms/step - accuracy: 0.8361 - loss: 0.3880 - val_accuracy: 0.7485 - val_loss: 0.5890\n",
            "Epoch 90/100\n",
            "\u001b[1m125/125\u001b[0m \u001b[32m━━━━━━━━━━━━━━━━━━━━\u001b[0m\u001b[37m\u001b[0m \u001b[1m3s\u001b[0m 23ms/step - accuracy: 0.8509 - loss: 0.3727 - val_accuracy: 0.7550 - val_loss: 0.5997\n",
            "Epoch 91/100\n",
            "\u001b[1m125/125\u001b[0m \u001b[32m━━━━━━━━━━━━━━━━━━━━\u001b[0m\u001b[37m\u001b[0m \u001b[1m3s\u001b[0m 23ms/step - accuracy: 0.8374 - loss: 0.4086 - val_accuracy: 0.7615 - val_loss: 0.6093\n",
            "Epoch 92/100\n",
            "\u001b[1m125/125\u001b[0m \u001b[32m━━━━━━━━━━━━━━━━━━━━\u001b[0m\u001b[37m\u001b[0m \u001b[1m3s\u001b[0m 22ms/step - accuracy: 0.8494 - loss: 0.3686 - val_accuracy: 0.7605 - val_loss: 0.6110\n",
            "Epoch 93/100\n",
            "\u001b[1m125/125\u001b[0m \u001b[32m━━━━━━━━━━━━━━━━━━━━\u001b[0m\u001b[37m\u001b[0m \u001b[1m3s\u001b[0m 22ms/step - accuracy: 0.8497 - loss: 0.3695 - val_accuracy: 0.7580 - val_loss: 0.5933\n",
            "Epoch 94/100\n",
            "\u001b[1m125/125\u001b[0m \u001b[32m━━━━━━━━━━━━━━━━━━━━\u001b[0m\u001b[37m\u001b[0m \u001b[1m3s\u001b[0m 23ms/step - accuracy: 0.8571 - loss: 0.3638 - val_accuracy: 0.7605 - val_loss: 0.6066\n",
            "Epoch 95/100\n",
            "\u001b[1m125/125\u001b[0m \u001b[32m━━━━━━━━━━━━━━━━━━━━\u001b[0m\u001b[37m\u001b[0m \u001b[1m3s\u001b[0m 22ms/step - accuracy: 0.8532 - loss: 0.3703 - val_accuracy: 0.7570 - val_loss: 0.5881\n",
            "Epoch 96/100\n",
            "\u001b[1m125/125\u001b[0m \u001b[32m━━━━━━━━━━━━━━━━━━━━\u001b[0m\u001b[37m\u001b[0m \u001b[1m3s\u001b[0m 23ms/step - accuracy: 0.8586 - loss: 0.3584 - val_accuracy: 0.7510 - val_loss: 0.6118\n",
            "Epoch 97/100\n",
            "\u001b[1m125/125\u001b[0m \u001b[32m━━━━━━━━━━━━━━━━━━━━\u001b[0m\u001b[37m\u001b[0m \u001b[1m3s\u001b[0m 22ms/step - accuracy: 0.8548 - loss: 0.3664 - val_accuracy: 0.7465 - val_loss: 0.6302\n",
            "Epoch 98/100\n",
            "\u001b[1m125/125\u001b[0m \u001b[32m━━━━━━━━━━━━━━━━━━━━\u001b[0m\u001b[37m\u001b[0m \u001b[1m3s\u001b[0m 23ms/step - accuracy: 0.8560 - loss: 0.3642 - val_accuracy: 0.7615 - val_loss: 0.5911\n",
            "Epoch 99/100\n",
            "\u001b[1m125/125\u001b[0m \u001b[32m━━━━━━━━━━━━━━━━━━━━\u001b[0m\u001b[37m\u001b[0m \u001b[1m3s\u001b[0m 22ms/step - accuracy: 0.8554 - loss: 0.3650 - val_accuracy: 0.7380 - val_loss: 0.6163\n",
            "Epoch 100/100\n",
            "\u001b[1m125/125\u001b[0m \u001b[32m━━━━━━━━━━━━━━━━━━━━\u001b[0m\u001b[37m\u001b[0m \u001b[1m3s\u001b[0m 23ms/step - accuracy: 0.8431 - loss: 0.3821 - val_accuracy: 0.7500 - val_loss: 0.6241\n"
          ]
        },
        {
          "name": "stderr",
          "output_type": "stream",
          "text": [
            "2025/01/28 16:01:36 WARNING mlflow.utils.autologging_utils: Encountered unexpected error during keras autologging: All input schema' first dimension should be -1, which represents the dynamic batch dimension.\n"
          ]
        },
        {
          "name": "stdout",
          "output_type": "stream",
          "text": [
            "\u001b[1m313/313\u001b[0m \u001b[32m━━━━━━━━━━━━━━━━━━━━\u001b[0m\u001b[37m\u001b[0m \u001b[1m2s\u001b[0m 6ms/step\n",
            "Modèle Word2Vec + Keras\n",
            "Accuracy sur l'ensemble d'entraînement : 0.8348\n",
            "🏃 View run efficient-dove-140 at: https://fmendes13-fake-news-detector.hf.space/#/experiments/9/runs/57ca9f738b274e18b081373ece5f7dfc\n",
            "🧪 View experiment at: https://fmendes13-fake-news-detector.hf.space/#/experiments/9\n"
          ]
        }
      ],
      "source": [
        "# Configuration de MLflow\n",
        "EXPERIMENT_NAME = \"Fake News Detector - Word2vec Model\"\n",
        "mlflow.set_tracking_uri('https://fmendes13-fake-news-detector.hf.space')\n",
        "mlflow.set_experiment(EXPERIMENT_NAME)\n",
        "\n",
        "experiment = mlflow.get_experiment_by_name(EXPERIMENT_NAME)\n",
        "\n",
        "# Activer l'autologging pour Keras\n",
        "mlflow.keras.autolog()\n",
        "\n",
        "# Démarrer une nouvelle run MLflow\n",
        "with mlflow.start_run(experiment_id=experiment.experiment_id):\n",
        "    # Entraînement du modèle Word2Vec\n",
        "    word2vec_model = Word2Vec(sentences, vector_size=embedding_dim, window=5, min_count=1, workers=4)\n",
        "    \n",
        "    # Création de la matrice d'embedding\n",
        "    embedding_matrix = np.zeros((vocab_size, embedding_dim))\n",
        "    for word, i in tokenizer.word_index.items():\n",
        "        if word in word2vec_model.wv:\n",
        "            embedding_matrix[i] = word2vec_model.wv[word]\n",
        "\n",
        "    # Construction du modèle Keras\n",
        "    base_model = tf.keras.Sequential([\n",
        "    tf.keras.layers.Embedding(vocab_size, embedding_dim, weights=[embedding_matrix], input_length=max_length, trainable=True, name=\"embedding\"),\n",
        "    tf.keras.layers.LSTM(32, return_sequences=True,kernel_regularizer=regularizers.l2(0.01)),\n",
        "    tf.keras.layers.GlobalAveragePooling1D(),\n",
        "    tf.keras.layers.Dense(64, activation='relu'),\n",
        "    tf.keras.layers.Dropout(0.5),\n",
        "    tf.keras.layers.Dense(1, activation=\"sigmoid\")\n",
        "    ])\n",
        "\n",
        "    # Compilation du modèle\n",
        "    base_model.compile(\n",
        "        optimizer=tf.keras.optimizers.Adam(learning_rate=0.005),\n",
        "        loss=tf.keras.losses.BinaryCrossentropy(),\n",
        "        metrics=['accuracy']\n",
        "    )\n",
        "\n",
        "    # Entraînement du modèle\n",
        "    history = base_model.fit(X_train, y_train, epochs=100, batch_size=64, validation_split=0.2)\n",
        "\n",
        "    # Évaluation du modèle\n",
        "    y_pred = (base_model.predict(X_train) > 0.5).astype(\"int32\")\n",
        "    accuracy = accuracy_score(y_train, y_pred)\n",
        "\n",
        "    # Affichage des résultats\n",
        "    print(\"Modèle Word2Vec + Keras\")\n",
        "    print(f\"Accuracy sur l'ensemble d'entraînement : {accuracy}\")"
      ]
    }
  ],
  "metadata": {
    "colab": {
      "provenance": []
    },
    "kernelspec": {
      "display_name": "Python 3",
      "name": "python3"
    },
    "language_info": {
      "name": "python"
    }
  },
  "nbformat": 4,
  "nbformat_minor": 0
}
