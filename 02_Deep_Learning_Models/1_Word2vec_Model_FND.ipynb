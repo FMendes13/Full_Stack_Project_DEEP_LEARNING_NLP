{
  "cells": [
    {
      "cell_type": "markdown",
      "metadata": {
        "id": "eM5ByXPOYCO1"
      },
      "source": [
        "# Library"
      ]
    },
    {
      "cell_type": "code",
      "execution_count": 19,
      "metadata": {
        "id": "IICUJRybYCO5"
      },
      "outputs": [],
      "source": [
        "import pandas as pd\n",
        "import numpy as np\n",
        "\n",
        "import tensorflow as tf\n",
        "from tensorflow.keras.preprocessing.text import Tokenizer\n",
        "from tensorflow.keras.preprocessing.sequence import pad_sequences\n",
        "\n",
        "from gensim.models import Word2Vec\n",
        "\n",
        "import matplotlib.pyplot as plt\n",
        "\n",
        "import mlflow\n",
        "import mlflow.keras\n",
        "from sklearn.metrics import accuracy_score"
      ]
    },
    {
      "cell_type": "markdown",
      "metadata": {
        "id": "ZB0iCFKsYCO6"
      },
      "source": [
        "# Preprocessing"
      ]
    },
    {
      "cell_type": "code",
      "execution_count": 2,
      "metadata": {
        "colab": {
          "base_uri": "https://localhost:8080/",
          "height": 223
        },
        "id": "WtDaqy54YCO6",
        "outputId": "c355fd97-13cc-4349-85c3-bbc26fa1839a"
      },
      "outputs": [
        {
          "data": {
            "text/html": [
              "<div>\n",
              "<style scoped>\n",
              "    .dataframe tbody tr th:only-of-type {\n",
              "        vertical-align: middle;\n",
              "    }\n",
              "\n",
              "    .dataframe tbody tr th {\n",
              "        vertical-align: top;\n",
              "    }\n",
              "\n",
              "    .dataframe thead th {\n",
              "        text-align: right;\n",
              "    }\n",
              "</style>\n",
              "<table border=\"1\" class=\"dataframe\">\n",
              "  <thead>\n",
              "    <tr style=\"text-align: right;\">\n",
              "      <th></th>\n",
              "      <th>label</th>\n",
              "      <th>message</th>\n",
              "      <th>message_clean</th>\n",
              "    </tr>\n",
              "  </thead>\n",
              "  <tbody>\n",
              "    <tr>\n",
              "      <th>0</th>\n",
              "      <td>0</td>\n",
              "      <td>LAW ENFORCEMENT ON HIGH ALERT Following Threat...</td>\n",
              "      <td>law enforcement high alert follow threat cop w...</td>\n",
              "    </tr>\n",
              "    <tr>\n",
              "      <th>1</th>\n",
              "      <td>0</td>\n",
              "      <td>UNBELIEVABLE! OBAMA’S ATTORNEY GENERAL SAYS MO...</td>\n",
              "      <td>unbelievable obamas attorney general charlotte...</td>\n",
              "    </tr>\n",
              "    <tr>\n",
              "      <th>2</th>\n",
              "      <td>1</td>\n",
              "      <td>Bobby Jindal, raised Hindu, uses story of Chri...</td>\n",
              "      <td>bobby jindal raise hindu use story christian c...</td>\n",
              "    </tr>\n",
              "    <tr>\n",
              "      <th>3</th>\n",
              "      <td>0</td>\n",
              "      <td>SATAN 2: Russia unvelis an image of its terrif...</td>\n",
              "      <td>satan 2 russia unvelis image terrifying new su...</td>\n",
              "    </tr>\n",
              "    <tr>\n",
              "      <th>4</th>\n",
              "      <td>0</td>\n",
              "      <td>About Time! Christian Group Sues Amazon and SP...</td>\n",
              "      <td>time christian group sue amazon splc designati...</td>\n",
              "    </tr>\n",
              "  </tbody>\n",
              "</table>\n",
              "</div>"
            ],
            "text/plain": [
              "   label                                            message  \\\n",
              "0      0  LAW ENFORCEMENT ON HIGH ALERT Following Threat...   \n",
              "1      0  UNBELIEVABLE! OBAMA’S ATTORNEY GENERAL SAYS MO...   \n",
              "2      1  Bobby Jindal, raised Hindu, uses story of Chri...   \n",
              "3      0  SATAN 2: Russia unvelis an image of its terrif...   \n",
              "4      0  About Time! Christian Group Sues Amazon and SP...   \n",
              "\n",
              "                                       message_clean  \n",
              "0  law enforcement high alert follow threat cop w...  \n",
              "1  unbelievable obamas attorney general charlotte...  \n",
              "2  bobby jindal raise hindu use story christian c...  \n",
              "3  satan 2 russia unvelis image terrifying new su...  \n",
              "4  time christian group sue amazon splc designati...  "
            ]
          },
          "execution_count": 2,
          "metadata": {},
          "output_type": "execute_result"
        }
      ],
      "source": [
        "fnd_data_0=pd.read_csv('https://fnd-jedha-project.s3.eu-west-3.amazonaws.com/3_WELFake_Embedding_workbase.csv')\n",
        "fnd_data_0.head()"
      ]
    },
    {
      "cell_type": "code",
      "execution_count": 3,
      "metadata": {
        "id": "buvHpNXgYCO7"
      },
      "outputs": [],
      "source": [
        "fnd_data=fnd_data_0.sample(10000)"
      ]
    },
    {
      "cell_type": "code",
      "execution_count": 4,
      "metadata": {
        "id": "2CcDO2LrYCO7"
      },
      "outputs": [],
      "source": [
        "sentences = fnd_data['message_clean'].tolist()\n",
        "labels = fnd_data['label'].tolist()"
      ]
    },
    {
      "cell_type": "code",
      "execution_count": 5,
      "metadata": {
        "colab": {
          "base_uri": "https://localhost:8080/"
        },
        "id": "beHJcMl2YCO7",
        "outputId": "e0a03066-4f6a-4812-df1b-60820669e0a9"
      },
      "outputs": [],
      "source": [
        "# Entraîner le modèle Word2Vec\n",
        "embedding_dim = 8  # Dimension des vecteurs Word2Vec\n",
        "word2vec_model = Word2Vec(sentences, vector_size=embedding_dim, window=5, min_count=1, workers=4)\n"
      ]
    },
    {
      "cell_type": "code",
      "execution_count": 6,
      "metadata": {
        "id": "oLvryFB_YCO7"
      },
      "outputs": [],
      "source": [
        "# Tokenizer Keras\n",
        "tokenizer = Tokenizer()\n",
        "tokenizer.fit_on_texts([\" \".join(sentence) for sentence in sentences])\n",
        "vocab_size = len(tokenizer.word_index) + 1"
      ]
    },
    {
      "cell_type": "code",
      "execution_count": 7,
      "metadata": {
        "id": "QHRj1QMEYCO8"
      },
      "outputs": [],
      "source": [
        "# Créer une matrice d'embedding\n",
        "embedding_matrix = np.zeros((vocab_size, embedding_dim))\n",
        "\n",
        "for word, i in tokenizer.word_index.items():\n",
        "    if word in word2vec_model.wv:\n",
        "        embedding_matrix[i] = word2vec_model.wv[word]"
      ]
    },
    {
      "cell_type": "code",
      "execution_count": 8,
      "metadata": {
        "id": "GquigyTYYCO8"
      },
      "outputs": [],
      "source": [
        "# Définir la longueur maximale des séquences\n",
        "max_length = max(len(sentence) for sentence in sentences)"
      ]
    },
    {
      "cell_type": "markdown",
      "metadata": {
        "id": "P-UsIo9cYCO8"
      },
      "source": [
        "# Modelling"
      ]
    },
    {
      "cell_type": "code",
      "execution_count": 9,
      "metadata": {
        "id": "Y5A2OPdBYCO8"
      },
      "outputs": [],
      "source": [
        "# Préparer les données d'entraînement\n",
        "X_train = tokenizer.texts_to_sequences([\" \".join(sentence) for sentence in sentences])\n",
        "X_train = pad_sequences(X_train, maxlen=100, padding='post')\n",
        "y_train = np.array(labels)"
      ]
    },
    {
      "cell_type": "code",
      "execution_count": 10,
      "metadata": {},
      "outputs": [
        {
          "data": {
            "text/plain": [
              "(10000, 100)"
            ]
          },
          "execution_count": 10,
          "metadata": {},
          "output_type": "execute_result"
        }
      ],
      "source": [
        "X_train.shape"
      ]
    },
    {
      "cell_type": "code",
      "execution_count": 11,
      "metadata": {},
      "outputs": [
        {
          "data": {
            "text/plain": [
              "(10000,)"
            ]
          },
          "execution_count": 11,
          "metadata": {},
          "output_type": "execute_result"
        }
      ],
      "source": [
        "y_train.shape"
      ]
    },
    {
      "cell_type": "code",
      "execution_count": 12,
      "metadata": {
        "id": "Ghbu3LODYCO8"
      },
      "outputs": [
        {
          "name": "stderr",
          "output_type": "stream",
          "text": [
            "/home/zeus/miniconda3/envs/cloudspace/lib/python3.10/site-packages/keras/src/layers/core/embedding.py:90: UserWarning: Argument `input_length` is deprecated. Just remove it.\n",
            "  warnings.warn(\n",
            "2025-01-28 11:14:31.054995: E external/local_xla/xla/stream_executor/cuda/cuda_driver.cc:152] failed call to cuInit: INTERNAL: CUDA error: Failed call to cuInit: UNKNOWN ERROR (303)\n"
          ]
        }
      ],
      "source": [
        "\n",
        "# Définir le modèle Keras\n",
        "base_model = tf.keras.Sequential([\n",
        "    # Couche d'Input Word Embedding avec la matrice d'embedding pré-entraînée\n",
        "    tf.keras.layers.Embedding(vocab_size, embedding_dim, weights=[embedding_matrix], input_length=max_length, trainable=True, name=\"embedding\"),\n",
        "    # Couche LSTM\n",
        "    tf.keras.layers.LSTM(16, return_sequences=True),\n",
        "    # Global Average Pooling\n",
        "    tf.keras.layers.GlobalAveragePooling1D(),\n",
        "    # Couche Dense classique\n",
        "    tf.keras.layers.Dense(64, activation='relu'),\n",
        "    # Couche de sortie\n",
        "    tf.keras.layers.Dense(1, activation=\"sigmoid\")\n",
        "])\n",
        "\n",
        "# Compilation du modèle\n",
        "base_model.compile(\n",
        "    optimizer=tf.keras.optimizers.Adam(learning_rate=0.0001),\n",
        "    loss=tf.keras.losses.BinaryCrossentropy(),\n",
        "    metrics=[\n",
        "        tf.keras.metrics.BinaryAccuracy(),\n",
        "        #tf.keras.metrics.Precision(),\n",
        "        #tf.keras.metrics.Recall(),\n",
        "        #tf.keras.metrics.AUC()\n",
        "    ]\n",
        ")"
      ]
    },
    {
      "cell_type": "code",
      "execution_count": 13,
      "metadata": {
        "id": "D2LPJ9iAYCO9"
      },
      "outputs": [
        {
          "name": "stdout",
          "output_type": "stream",
          "text": [
            "Epoch 1/100\n"
          ]
        },
        {
          "name": "stdout",
          "output_type": "stream",
          "text": [
            "\u001b[1m63/63\u001b[0m \u001b[32m━━━━━━━━━━━━━━━━━━━━\u001b[0m\u001b[37m\u001b[0m \u001b[1m3s\u001b[0m 27ms/step - binary_accuracy: 0.5404 - loss: 0.6900 - val_binary_accuracy: 0.5670 - val_loss: 0.6853\n",
            "Epoch 2/100\n",
            "\u001b[1m63/63\u001b[0m \u001b[32m━━━━━━━━━━━━━━━━━━━━\u001b[0m\u001b[37m\u001b[0m \u001b[1m2s\u001b[0m 25ms/step - binary_accuracy: 0.5490 - loss: 0.6879 - val_binary_accuracy: 0.5670 - val_loss: 0.6839\n",
            "Epoch 3/100\n",
            "\u001b[1m63/63\u001b[0m \u001b[32m━━━━━━━━━━━━━━━━━━━━\u001b[0m\u001b[37m\u001b[0m \u001b[1m2s\u001b[0m 24ms/step - binary_accuracy: 0.5484 - loss: 0.6871 - val_binary_accuracy: 0.5690 - val_loss: 0.6827\n",
            "Epoch 4/100\n",
            "\u001b[1m63/63\u001b[0m \u001b[32m━━━━━━━━━━━━━━━━━━━━\u001b[0m\u001b[37m\u001b[0m \u001b[1m2s\u001b[0m 25ms/step - binary_accuracy: 0.5404 - loss: 0.6875 - val_binary_accuracy: 0.5705 - val_loss: 0.6816\n",
            "Epoch 5/100\n",
            "\u001b[1m63/63\u001b[0m \u001b[32m━━━━━━━━━━━━━━━━━━━━\u001b[0m\u001b[37m\u001b[0m \u001b[1m3s\u001b[0m 25ms/step - binary_accuracy: 0.5502 - loss: 0.6850 - val_binary_accuracy: 0.5725 - val_loss: 0.6807\n",
            "Epoch 6/100\n",
            "\u001b[1m63/63\u001b[0m \u001b[32m━━━━━━━━━━━━━━━━━━━━\u001b[0m\u001b[37m\u001b[0m \u001b[1m2s\u001b[0m 25ms/step - binary_accuracy: 0.5402 - loss: 0.6868 - val_binary_accuracy: 0.5735 - val_loss: 0.6793\n",
            "Epoch 7/100\n",
            "\u001b[1m63/63\u001b[0m \u001b[32m━━━━━━━━━━━━━━━━━━━━\u001b[0m\u001b[37m\u001b[0m \u001b[1m2s\u001b[0m 26ms/step - binary_accuracy: 0.5453 - loss: 0.6848 - val_binary_accuracy: 0.5750 - val_loss: 0.6777\n",
            "Epoch 8/100\n",
            "\u001b[1m63/63\u001b[0m \u001b[32m━━━━━━━━━━━━━━━━━━━━\u001b[0m\u001b[37m\u001b[0m \u001b[1m2s\u001b[0m 24ms/step - binary_accuracy: 0.5421 - loss: 0.6839 - val_binary_accuracy: 0.5805 - val_loss: 0.6752\n",
            "Epoch 9/100\n",
            "\u001b[1m63/63\u001b[0m \u001b[32m━━━━━━━━━━━━━━━━━━━━\u001b[0m\u001b[37m\u001b[0m \u001b[1m2s\u001b[0m 24ms/step - binary_accuracy: 0.5600 - loss: 0.6782 - val_binary_accuracy: 0.5910 - val_loss: 0.6722\n",
            "Epoch 10/100\n",
            "\u001b[1m63/63\u001b[0m \u001b[32m━━━━━━━━━━━━━━━━━━━━\u001b[0m\u001b[37m\u001b[0m \u001b[1m2s\u001b[0m 26ms/step - binary_accuracy: 0.5806 - loss: 0.6741 - val_binary_accuracy: 0.6135 - val_loss: 0.6676\n",
            "Epoch 11/100\n",
            "\u001b[1m63/63\u001b[0m \u001b[32m━━━━━━━━━━━━━━━━━━━━\u001b[0m\u001b[37m\u001b[0m \u001b[1m2s\u001b[0m 26ms/step - binary_accuracy: 0.6039 - loss: 0.6690 - val_binary_accuracy: 0.6185 - val_loss: 0.6655\n",
            "Epoch 12/100\n",
            "\u001b[1m63/63\u001b[0m \u001b[32m━━━━━━━━━━━━━━━━━━━━\u001b[0m\u001b[37m\u001b[0m \u001b[1m2s\u001b[0m 27ms/step - binary_accuracy: 0.6066 - loss: 0.6660 - val_binary_accuracy: 0.6205 - val_loss: 0.6583\n",
            "Epoch 13/100\n",
            "\u001b[1m63/63\u001b[0m \u001b[32m━━━━━━━━━━━━━━━━━━━━\u001b[0m\u001b[37m\u001b[0m \u001b[1m2s\u001b[0m 25ms/step - binary_accuracy: 0.6109 - loss: 0.6629 - val_binary_accuracy: 0.6260 - val_loss: 0.6556\n",
            "Epoch 14/100\n",
            "\u001b[1m63/63\u001b[0m \u001b[32m━━━━━━━━━━━━━━━━━━━━\u001b[0m\u001b[37m\u001b[0m \u001b[1m2s\u001b[0m 26ms/step - binary_accuracy: 0.6114 - loss: 0.6581 - val_binary_accuracy: 0.6260 - val_loss: 0.6532\n",
            "Epoch 15/100\n",
            "\u001b[1m63/63\u001b[0m \u001b[32m━━━━━━━━━━━━━━━━━━━━\u001b[0m\u001b[37m\u001b[0m \u001b[1m2s\u001b[0m 27ms/step - binary_accuracy: 0.6147 - loss: 0.6575 - val_binary_accuracy: 0.6315 - val_loss: 0.6517\n",
            "Epoch 16/100\n",
            "\u001b[1m63/63\u001b[0m \u001b[32m━━━━━━━━━━━━━━━━━━━━\u001b[0m\u001b[37m\u001b[0m \u001b[1m2s\u001b[0m 24ms/step - binary_accuracy: 0.6225 - loss: 0.6550 - val_binary_accuracy: 0.6265 - val_loss: 0.6540\n",
            "Epoch 17/100\n",
            "\u001b[1m63/63\u001b[0m \u001b[32m━━━━━━━━━━━━━━━━━━━━\u001b[0m\u001b[37m\u001b[0m \u001b[1m2s\u001b[0m 27ms/step - binary_accuracy: 0.6190 - loss: 0.6523 - val_binary_accuracy: 0.6380 - val_loss: 0.6476\n",
            "Epoch 18/100\n",
            "\u001b[1m63/63\u001b[0m \u001b[32m━━━━━━━━━━━━━━━━━━━━\u001b[0m\u001b[37m\u001b[0m \u001b[1m2s\u001b[0m 27ms/step - binary_accuracy: 0.6250 - loss: 0.6534 - val_binary_accuracy: 0.6370 - val_loss: 0.6448\n",
            "Epoch 19/100\n",
            "\u001b[1m63/63\u001b[0m \u001b[32m━━━━━━━━━━━━━━━━━━━━\u001b[0m\u001b[37m\u001b[0m \u001b[1m2s\u001b[0m 27ms/step - binary_accuracy: 0.6358 - loss: 0.6450 - val_binary_accuracy: 0.6420 - val_loss: 0.6437\n",
            "Epoch 20/100\n",
            "\u001b[1m63/63\u001b[0m \u001b[32m━━━━━━━━━━━━━━━━━━━━\u001b[0m\u001b[37m\u001b[0m \u001b[1m2s\u001b[0m 27ms/step - binary_accuracy: 0.6290 - loss: 0.6456 - val_binary_accuracy: 0.6335 - val_loss: 0.6414\n",
            "Epoch 21/100\n",
            "\u001b[1m63/63\u001b[0m \u001b[32m━━━━━━━━━━━━━━━━━━━━\u001b[0m\u001b[37m\u001b[0m \u001b[1m2s\u001b[0m 25ms/step - binary_accuracy: 0.6297 - loss: 0.6451 - val_binary_accuracy: 0.6390 - val_loss: 0.6397\n",
            "Epoch 22/100\n",
            "\u001b[1m63/63\u001b[0m \u001b[32m━━━━━━━━━━━━━━━━━━━━\u001b[0m\u001b[37m\u001b[0m \u001b[1m2s\u001b[0m 24ms/step - binary_accuracy: 0.6360 - loss: 0.6432 - val_binary_accuracy: 0.6490 - val_loss: 0.6395\n",
            "Epoch 23/100\n",
            "\u001b[1m63/63\u001b[0m \u001b[32m━━━━━━━━━━━━━━━━━━━━\u001b[0m\u001b[37m\u001b[0m \u001b[1m2s\u001b[0m 25ms/step - binary_accuracy: 0.6392 - loss: 0.6415 - val_binary_accuracy: 0.6510 - val_loss: 0.6361\n",
            "Epoch 24/100\n",
            "\u001b[1m63/63\u001b[0m \u001b[32m━━━━━━━━━━━━━━━━━━━━\u001b[0m\u001b[37m\u001b[0m \u001b[1m2s\u001b[0m 25ms/step - binary_accuracy: 0.6537 - loss: 0.6318 - val_binary_accuracy: 0.6515 - val_loss: 0.6346\n",
            "Epoch 25/100\n",
            "\u001b[1m63/63\u001b[0m \u001b[32m━━━━━━━━━━━━━━━━━━━━\u001b[0m\u001b[37m\u001b[0m \u001b[1m2s\u001b[0m 25ms/step - binary_accuracy: 0.6424 - loss: 0.6400 - val_binary_accuracy: 0.6565 - val_loss: 0.6324\n",
            "Epoch 26/100\n",
            "\u001b[1m63/63\u001b[0m \u001b[32m━━━━━━━━━━━━━━━━━━━━\u001b[0m\u001b[37m\u001b[0m \u001b[1m2s\u001b[0m 26ms/step - binary_accuracy: 0.6474 - loss: 0.6365 - val_binary_accuracy: 0.6505 - val_loss: 0.6327\n",
            "Epoch 27/100\n",
            "\u001b[1m63/63\u001b[0m \u001b[32m━━━━━━━━━━━━━━━━━━━━\u001b[0m\u001b[37m\u001b[0m \u001b[1m2s\u001b[0m 24ms/step - binary_accuracy: 0.6445 - loss: 0.6335 - val_binary_accuracy: 0.6640 - val_loss: 0.6279\n",
            "Epoch 28/100\n",
            "\u001b[1m63/63\u001b[0m \u001b[32m━━━━━━━━━━━━━━━━━━━━\u001b[0m\u001b[37m\u001b[0m \u001b[1m2s\u001b[0m 24ms/step - binary_accuracy: 0.6590 - loss: 0.6264 - val_binary_accuracy: 0.6465 - val_loss: 0.6299\n",
            "Epoch 29/100\n",
            "\u001b[1m63/63\u001b[0m \u001b[32m━━━━━━━━━━━━━━━━━━━━\u001b[0m\u001b[37m\u001b[0m \u001b[1m2s\u001b[0m 25ms/step - binary_accuracy: 0.6513 - loss: 0.6312 - val_binary_accuracy: 0.6595 - val_loss: 0.6249\n",
            "Epoch 30/100\n",
            "\u001b[1m63/63\u001b[0m \u001b[32m━━━━━━━━━━━━━━━━━━━━\u001b[0m\u001b[37m\u001b[0m \u001b[1m2s\u001b[0m 26ms/step - binary_accuracy: 0.6563 - loss: 0.6208 - val_binary_accuracy: 0.6740 - val_loss: 0.6201\n",
            "Epoch 31/100\n",
            "\u001b[1m63/63\u001b[0m \u001b[32m━━━━━━━━━━━━━━━━━━━━\u001b[0m\u001b[37m\u001b[0m \u001b[1m2s\u001b[0m 24ms/step - binary_accuracy: 0.6699 - loss: 0.6205 - val_binary_accuracy: 0.6530 - val_loss: 0.6264\n",
            "Epoch 32/100\n",
            "\u001b[1m63/63\u001b[0m \u001b[32m━━━━━━━━━━━━━━━━━━━━\u001b[0m\u001b[37m\u001b[0m \u001b[1m2s\u001b[0m 24ms/step - binary_accuracy: 0.6584 - loss: 0.6193 - val_binary_accuracy: 0.6800 - val_loss: 0.6140\n",
            "Epoch 33/100\n",
            "\u001b[1m63/63\u001b[0m \u001b[32m━━━━━━━━━━━━━━━━━━━━\u001b[0m\u001b[37m\u001b[0m \u001b[1m2s\u001b[0m 25ms/step - binary_accuracy: 0.6689 - loss: 0.6126 - val_binary_accuracy: 0.6820 - val_loss: 0.6112\n",
            "Epoch 34/100\n",
            "\u001b[1m63/63\u001b[0m \u001b[32m━━━━━━━━━━━━━━━━━━━━\u001b[0m\u001b[37m\u001b[0m \u001b[1m2s\u001b[0m 24ms/step - binary_accuracy: 0.6769 - loss: 0.6066 - val_binary_accuracy: 0.6765 - val_loss: 0.6109\n",
            "Epoch 35/100\n",
            "\u001b[1m63/63\u001b[0m \u001b[32m━━━━━━━━━━━━━━━━━━━━\u001b[0m\u001b[37m\u001b[0m \u001b[1m2s\u001b[0m 24ms/step - binary_accuracy: 0.6713 - loss: 0.6076 - val_binary_accuracy: 0.6795 - val_loss: 0.6088\n",
            "Epoch 36/100\n",
            "\u001b[1m63/63\u001b[0m \u001b[32m━━━━━━━━━━━━━━━━━━━━\u001b[0m\u001b[37m\u001b[0m \u001b[1m2s\u001b[0m 24ms/step - binary_accuracy: 0.6698 - loss: 0.6079 - val_binary_accuracy: 0.6835 - val_loss: 0.6047\n",
            "Epoch 37/100\n",
            "\u001b[1m63/63\u001b[0m \u001b[32m━━━━━━━━━━━━━━━━━━━━\u001b[0m\u001b[37m\u001b[0m \u001b[1m2s\u001b[0m 25ms/step - binary_accuracy: 0.6863 - loss: 0.5992 - val_binary_accuracy: 0.6810 - val_loss: 0.6073\n",
            "Epoch 38/100\n",
            "\u001b[1m63/63\u001b[0m \u001b[32m━━━━━━━━━━━━━━━━━━━━\u001b[0m\u001b[37m\u001b[0m \u001b[1m2s\u001b[0m 25ms/step - binary_accuracy: 0.6747 - loss: 0.6022 - val_binary_accuracy: 0.6880 - val_loss: 0.6002\n",
            "Epoch 39/100\n",
            "\u001b[1m63/63\u001b[0m \u001b[32m━━━━━━━━━━━━━━━━━━━━\u001b[0m\u001b[37m\u001b[0m \u001b[1m2s\u001b[0m 25ms/step - binary_accuracy: 0.6763 - loss: 0.5993 - val_binary_accuracy: 0.6890 - val_loss: 0.5986\n",
            "Epoch 40/100\n",
            "\u001b[1m63/63\u001b[0m \u001b[32m━━━━━━━━━━━━━━━━━━━━\u001b[0m\u001b[37m\u001b[0m \u001b[1m2s\u001b[0m 25ms/step - binary_accuracy: 0.6917 - loss: 0.5933 - val_binary_accuracy: 0.6900 - val_loss: 0.5970\n",
            "Epoch 41/100\n",
            "\u001b[1m63/63\u001b[0m \u001b[32m━━━━━━━━━━━━━━━━━━━━\u001b[0m\u001b[37m\u001b[0m \u001b[1m2s\u001b[0m 25ms/step - binary_accuracy: 0.6833 - loss: 0.5955 - val_binary_accuracy: 0.6910 - val_loss: 0.5951\n",
            "Epoch 42/100\n",
            "\u001b[1m63/63\u001b[0m \u001b[32m━━━━━━━━━━━━━━━━━━━━\u001b[0m\u001b[37m\u001b[0m \u001b[1m2s\u001b[0m 25ms/step - binary_accuracy: 0.6887 - loss: 0.5910 - val_binary_accuracy: 0.6965 - val_loss: 0.5913\n",
            "Epoch 43/100\n",
            "\u001b[1m63/63\u001b[0m \u001b[32m━━━━━━━━━━━━━━━━━━━━\u001b[0m\u001b[37m\u001b[0m \u001b[1m2s\u001b[0m 24ms/step - binary_accuracy: 0.6962 - loss: 0.5828 - val_binary_accuracy: 0.6945 - val_loss: 0.5895\n",
            "Epoch 44/100\n",
            "\u001b[1m63/63\u001b[0m \u001b[32m━━━━━━━━━━━━━━━━━━━━\u001b[0m\u001b[37m\u001b[0m \u001b[1m2s\u001b[0m 24ms/step - binary_accuracy: 0.7007 - loss: 0.5799 - val_binary_accuracy: 0.6970 - val_loss: 0.5874\n",
            "Epoch 45/100\n",
            "\u001b[1m63/63\u001b[0m \u001b[32m━━━━━━━━━━━━━━━━━━━━\u001b[0m\u001b[37m\u001b[0m \u001b[1m2s\u001b[0m 26ms/step - binary_accuracy: 0.6919 - loss: 0.5858 - val_binary_accuracy: 0.6975 - val_loss: 0.5894\n",
            "Epoch 46/100\n",
            "\u001b[1m63/63\u001b[0m \u001b[32m━━━━━━━━━━━━━━━━━━━━\u001b[0m\u001b[37m\u001b[0m \u001b[1m2s\u001b[0m 27ms/step - binary_accuracy: 0.6866 - loss: 0.5832 - val_binary_accuracy: 0.6995 - val_loss: 0.5848\n",
            "Epoch 47/100\n",
            "\u001b[1m63/63\u001b[0m \u001b[32m━━━━━━━━━━━━━━━━━━━━\u001b[0m\u001b[37m\u001b[0m \u001b[1m2s\u001b[0m 27ms/step - binary_accuracy: 0.6980 - loss: 0.5799 - val_binary_accuracy: 0.7005 - val_loss: 0.5833\n",
            "Epoch 48/100\n",
            "\u001b[1m63/63\u001b[0m \u001b[32m━━━━━━━━━━━━━━━━━━━━\u001b[0m\u001b[37m\u001b[0m \u001b[1m2s\u001b[0m 25ms/step - binary_accuracy: 0.7005 - loss: 0.5802 - val_binary_accuracy: 0.7070 - val_loss: 0.5797\n",
            "Epoch 49/100\n",
            "\u001b[1m63/63\u001b[0m \u001b[32m━━━━━━━━━━━━━━━━━━━━\u001b[0m\u001b[37m\u001b[0m \u001b[1m2s\u001b[0m 24ms/step - binary_accuracy: 0.7019 - loss: 0.5775 - val_binary_accuracy: 0.7050 - val_loss: 0.5790\n",
            "Epoch 50/100\n",
            "\u001b[1m63/63\u001b[0m \u001b[32m━━━━━━━━━━━━━━━━━━━━\u001b[0m\u001b[37m\u001b[0m \u001b[1m2s\u001b[0m 26ms/step - binary_accuracy: 0.6983 - loss: 0.5761 - val_binary_accuracy: 0.7025 - val_loss: 0.5814\n",
            "Epoch 51/100\n",
            "\u001b[1m63/63\u001b[0m \u001b[32m━━━━━━━━━━━━━━━━━━━━\u001b[0m\u001b[37m\u001b[0m \u001b[1m2s\u001b[0m 25ms/step - binary_accuracy: 0.7152 - loss: 0.5686 - val_binary_accuracy: 0.7040 - val_loss: 0.5840\n",
            "Epoch 52/100\n",
            "\u001b[1m63/63\u001b[0m \u001b[32m━━━━━━━━━━━━━━━━━━━━\u001b[0m\u001b[37m\u001b[0m \u001b[1m2s\u001b[0m 25ms/step - binary_accuracy: 0.7098 - loss: 0.5672 - val_binary_accuracy: 0.7145 - val_loss: 0.5740\n",
            "Epoch 53/100\n",
            "\u001b[1m63/63\u001b[0m \u001b[32m━━━━━━━━━━━━━━━━━━━━\u001b[0m\u001b[37m\u001b[0m \u001b[1m2s\u001b[0m 25ms/step - binary_accuracy: 0.7043 - loss: 0.5704 - val_binary_accuracy: 0.7115 - val_loss: 0.5726\n",
            "Epoch 54/100\n",
            "\u001b[1m63/63\u001b[0m \u001b[32m━━━━━━━━━━━━━━━━━━━━\u001b[0m\u001b[37m\u001b[0m \u001b[1m2s\u001b[0m 24ms/step - binary_accuracy: 0.7123 - loss: 0.5591 - val_binary_accuracy: 0.7110 - val_loss: 0.5738\n",
            "Epoch 55/100\n",
            "\u001b[1m63/63\u001b[0m \u001b[32m━━━━━━━━━━━━━━━━━━━━\u001b[0m\u001b[37m\u001b[0m \u001b[1m2s\u001b[0m 25ms/step - binary_accuracy: 0.6974 - loss: 0.5682 - val_binary_accuracy: 0.7150 - val_loss: 0.5704\n",
            "Epoch 56/100\n",
            "\u001b[1m63/63\u001b[0m \u001b[32m━━━━━━━━━━━━━━━━━━━━\u001b[0m\u001b[37m\u001b[0m \u001b[1m2s\u001b[0m 24ms/step - binary_accuracy: 0.7146 - loss: 0.5633 - val_binary_accuracy: 0.7135 - val_loss: 0.5727\n",
            "Epoch 57/100\n",
            "\u001b[1m63/63\u001b[0m \u001b[32m━━━━━━━━━━━━━━━━━━━━\u001b[0m\u001b[37m\u001b[0m \u001b[1m2s\u001b[0m 24ms/step - binary_accuracy: 0.7132 - loss: 0.5613 - val_binary_accuracy: 0.7150 - val_loss: 0.5685\n",
            "Epoch 58/100\n",
            "\u001b[1m63/63\u001b[0m \u001b[32m━━━━━━━━━━━━━━━━━━━━\u001b[0m\u001b[37m\u001b[0m \u001b[1m2s\u001b[0m 25ms/step - binary_accuracy: 0.7038 - loss: 0.5654 - val_binary_accuracy: 0.7200 - val_loss: 0.5662\n",
            "Epoch 59/100\n",
            "\u001b[1m63/63\u001b[0m \u001b[32m━━━━━━━━━━━━━━━━━━━━\u001b[0m\u001b[37m\u001b[0m \u001b[1m2s\u001b[0m 24ms/step - binary_accuracy: 0.7117 - loss: 0.5627 - val_binary_accuracy: 0.7105 - val_loss: 0.5718\n",
            "Epoch 60/100\n",
            "\u001b[1m63/63\u001b[0m \u001b[32m━━━━━━━━━━━━━━━━━━━━\u001b[0m\u001b[37m\u001b[0m \u001b[1m2s\u001b[0m 24ms/step - binary_accuracy: 0.7113 - loss: 0.5587 - val_binary_accuracy: 0.7230 - val_loss: 0.5640\n",
            "Epoch 61/100\n",
            "\u001b[1m63/63\u001b[0m \u001b[32m━━━━━━━━━━━━━━━━━━━━\u001b[0m\u001b[37m\u001b[0m \u001b[1m2s\u001b[0m 24ms/step - binary_accuracy: 0.7138 - loss: 0.5547 - val_binary_accuracy: 0.7265 - val_loss: 0.5624\n",
            "Epoch 62/100\n",
            "\u001b[1m63/63\u001b[0m \u001b[32m━━━━━━━━━━━━━━━━━━━━\u001b[0m\u001b[37m\u001b[0m \u001b[1m2s\u001b[0m 24ms/step - binary_accuracy: 0.7066 - loss: 0.5617 - val_binary_accuracy: 0.7215 - val_loss: 0.5625\n",
            "Epoch 63/100\n",
            "\u001b[1m63/63\u001b[0m \u001b[32m━━━━━━━━━━━━━━━━━━━━\u001b[0m\u001b[37m\u001b[0m \u001b[1m2s\u001b[0m 24ms/step - binary_accuracy: 0.7145 - loss: 0.5513 - val_binary_accuracy: 0.7270 - val_loss: 0.5604\n",
            "Epoch 64/100\n",
            "\u001b[1m63/63\u001b[0m \u001b[32m━━━━━━━━━━━━━━━━━━━━\u001b[0m\u001b[37m\u001b[0m \u001b[1m2s\u001b[0m 25ms/step - binary_accuracy: 0.7069 - loss: 0.5611 - val_binary_accuracy: 0.7185 - val_loss: 0.5629\n",
            "Epoch 65/100\n",
            "\u001b[1m63/63\u001b[0m \u001b[32m━━━━━━━━━━━━━━━━━━━━\u001b[0m\u001b[37m\u001b[0m \u001b[1m1s\u001b[0m 23ms/step - binary_accuracy: 0.7094 - loss: 0.5576 - val_binary_accuracy: 0.7230 - val_loss: 0.5606\n",
            "Epoch 66/100\n",
            "\u001b[1m63/63\u001b[0m \u001b[32m━━━━━━━━━━━━━━━━━━━━\u001b[0m\u001b[37m\u001b[0m \u001b[1m2s\u001b[0m 24ms/step - binary_accuracy: 0.7195 - loss: 0.5514 - val_binary_accuracy: 0.7220 - val_loss: 0.5594\n",
            "Epoch 67/100\n",
            "\u001b[1m63/63\u001b[0m \u001b[32m━━━━━━━━━━━━━━━━━━━━\u001b[0m\u001b[37m\u001b[0m \u001b[1m2s\u001b[0m 24ms/step - binary_accuracy: 0.7005 - loss: 0.5635 - val_binary_accuracy: 0.7270 - val_loss: 0.5579\n",
            "Epoch 68/100\n",
            "\u001b[1m63/63\u001b[0m \u001b[32m━━━━━━━━━━━━━━━━━━━━\u001b[0m\u001b[37m\u001b[0m \u001b[1m2s\u001b[0m 26ms/step - binary_accuracy: 0.7143 - loss: 0.5568 - val_binary_accuracy: 0.7190 - val_loss: 0.5595\n",
            "Epoch 69/100\n",
            "\u001b[1m63/63\u001b[0m \u001b[32m━━━━━━━━━━━━━━━━━━━━\u001b[0m\u001b[37m\u001b[0m \u001b[1m2s\u001b[0m 25ms/step - binary_accuracy: 0.7159 - loss: 0.5492 - val_binary_accuracy: 0.7190 - val_loss: 0.5592\n",
            "Epoch 70/100\n",
            "\u001b[1m63/63\u001b[0m \u001b[32m━━━━━━━━━━━━━━━━━━━━\u001b[0m\u001b[37m\u001b[0m \u001b[1m1s\u001b[0m 23ms/step - binary_accuracy: 0.7089 - loss: 0.5565 - val_binary_accuracy: 0.7310 - val_loss: 0.5540\n",
            "Epoch 71/100\n",
            "\u001b[1m63/63\u001b[0m \u001b[32m━━━━━━━━━━━━━━━━━━━━\u001b[0m\u001b[37m\u001b[0m \u001b[1m2s\u001b[0m 24ms/step - binary_accuracy: 0.7099 - loss: 0.5519 - val_binary_accuracy: 0.7205 - val_loss: 0.5555\n",
            "Epoch 72/100\n",
            "\u001b[1m63/63\u001b[0m \u001b[32m━━━━━━━━━━━━━━━━━━━━\u001b[0m\u001b[37m\u001b[0m \u001b[1m2s\u001b[0m 26ms/step - binary_accuracy: 0.7159 - loss: 0.5522 - val_binary_accuracy: 0.7205 - val_loss: 0.5561\n",
            "Epoch 73/100\n",
            "\u001b[1m63/63\u001b[0m \u001b[32m━━━━━━━━━━━━━━━━━━━━\u001b[0m\u001b[37m\u001b[0m \u001b[1m2s\u001b[0m 26ms/step - binary_accuracy: 0.7219 - loss: 0.5500 - val_binary_accuracy: 0.7320 - val_loss: 0.5510\n",
            "Epoch 74/100\n",
            "\u001b[1m63/63\u001b[0m \u001b[32m━━━━━━━━━━━━━━━━━━━━\u001b[0m\u001b[37m\u001b[0m \u001b[1m2s\u001b[0m 24ms/step - binary_accuracy: 0.7135 - loss: 0.5500 - val_binary_accuracy: 0.7220 - val_loss: 0.5545\n",
            "Epoch 75/100\n",
            "\u001b[1m63/63\u001b[0m \u001b[32m━━━━━━━━━━━━━━━━━━━━\u001b[0m\u001b[37m\u001b[0m \u001b[1m2s\u001b[0m 26ms/step - binary_accuracy: 0.7095 - loss: 0.5520 - val_binary_accuracy: 0.7240 - val_loss: 0.5521\n",
            "Epoch 76/100\n",
            "\u001b[1m63/63\u001b[0m \u001b[32m━━━━━━━━━━━━━━━━━━━━\u001b[0m\u001b[37m\u001b[0m \u001b[1m2s\u001b[0m 24ms/step - binary_accuracy: 0.7190 - loss: 0.5438 - val_binary_accuracy: 0.7210 - val_loss: 0.5538\n",
            "Epoch 77/100\n",
            "\u001b[1m63/63\u001b[0m \u001b[32m━━━━━━━━━━━━━━━━━━━━\u001b[0m\u001b[37m\u001b[0m \u001b[1m2s\u001b[0m 25ms/step - binary_accuracy: 0.7113 - loss: 0.5508 - val_binary_accuracy: 0.7320 - val_loss: 0.5479\n",
            "Epoch 78/100\n",
            "\u001b[1m63/63\u001b[0m \u001b[32m━━━━━━━━━━━━━━━━━━━━\u001b[0m\u001b[37m\u001b[0m \u001b[1m2s\u001b[0m 25ms/step - binary_accuracy: 0.7199 - loss: 0.5457 - val_binary_accuracy: 0.7335 - val_loss: 0.5465\n",
            "Epoch 79/100\n",
            "\u001b[1m63/63\u001b[0m \u001b[32m━━━━━━━━━━━━━━━━━━━━\u001b[0m\u001b[37m\u001b[0m \u001b[1m2s\u001b[0m 25ms/step - binary_accuracy: 0.7197 - loss: 0.5437 - val_binary_accuracy: 0.7295 - val_loss: 0.5472\n",
            "Epoch 80/100\n",
            "\u001b[1m63/63\u001b[0m \u001b[32m━━━━━━━━━━━━━━━━━━━━\u001b[0m\u001b[37m\u001b[0m \u001b[1m2s\u001b[0m 26ms/step - binary_accuracy: 0.7216 - loss: 0.5369 - val_binary_accuracy: 0.7320 - val_loss: 0.5452\n",
            "Epoch 81/100\n",
            "\u001b[1m63/63\u001b[0m \u001b[32m━━━━━━━━━━━━━━━━━━━━\u001b[0m\u001b[37m\u001b[0m \u001b[1m2s\u001b[0m 25ms/step - binary_accuracy: 0.7169 - loss: 0.5492 - val_binary_accuracy: 0.7325 - val_loss: 0.5446\n",
            "Epoch 82/100\n",
            "\u001b[1m63/63\u001b[0m \u001b[32m━━━━━━━━━━━━━━━━━━━━\u001b[0m\u001b[37m\u001b[0m \u001b[1m2s\u001b[0m 25ms/step - binary_accuracy: 0.7183 - loss: 0.5401 - val_binary_accuracy: 0.7320 - val_loss: 0.5428\n",
            "Epoch 83/100\n",
            "\u001b[1m63/63\u001b[0m \u001b[32m━━━━━━━━━━━━━━━━━━━━\u001b[0m\u001b[37m\u001b[0m \u001b[1m2s\u001b[0m 24ms/step - binary_accuracy: 0.7331 - loss: 0.5319 - val_binary_accuracy: 0.7225 - val_loss: 0.5488\n",
            "Epoch 84/100\n",
            "\u001b[1m63/63\u001b[0m \u001b[32m━━━━━━━━━━━━━━━━━━━━\u001b[0m\u001b[37m\u001b[0m \u001b[1m2s\u001b[0m 24ms/step - binary_accuracy: 0.7237 - loss: 0.5414 - val_binary_accuracy: 0.7295 - val_loss: 0.5440\n",
            "Epoch 85/100\n",
            "\u001b[1m63/63\u001b[0m \u001b[32m━━━━━━━━━━━━━━━━━━━━\u001b[0m\u001b[37m\u001b[0m \u001b[1m2s\u001b[0m 25ms/step - binary_accuracy: 0.7202 - loss: 0.5439 - val_binary_accuracy: 0.7230 - val_loss: 0.5484\n",
            "Epoch 86/100\n",
            "\u001b[1m63/63\u001b[0m \u001b[32m━━━━━━━━━━━━━━━━━━━━\u001b[0m\u001b[37m\u001b[0m \u001b[1m2s\u001b[0m 27ms/step - binary_accuracy: 0.7223 - loss: 0.5391 - val_binary_accuracy: 0.7285 - val_loss: 0.5424\n",
            "Epoch 87/100\n",
            "\u001b[1m63/63\u001b[0m \u001b[32m━━━━━━━━━━━━━━━━━━━━\u001b[0m\u001b[37m\u001b[0m \u001b[1m2s\u001b[0m 24ms/step - binary_accuracy: 0.7159 - loss: 0.5476 - val_binary_accuracy: 0.7315 - val_loss: 0.5394\n",
            "Epoch 88/100\n",
            "\u001b[1m63/63\u001b[0m \u001b[32m━━━━━━━━━━━━━━━━━━━━\u001b[0m\u001b[37m\u001b[0m \u001b[1m2s\u001b[0m 24ms/step - binary_accuracy: 0.7160 - loss: 0.5426 - val_binary_accuracy: 0.7395 - val_loss: 0.5386\n",
            "Epoch 89/100\n",
            "\u001b[1m63/63\u001b[0m \u001b[32m━━━━━━━━━━━━━━━━━━━━\u001b[0m\u001b[37m\u001b[0m \u001b[1m2s\u001b[0m 28ms/step - binary_accuracy: 0.7247 - loss: 0.5390 - val_binary_accuracy: 0.7305 - val_loss: 0.5390\n",
            "Epoch 90/100\n",
            "\u001b[1m63/63\u001b[0m \u001b[32m━━━━━━━━━━━━━━━━━━━━\u001b[0m\u001b[37m\u001b[0m \u001b[1m2s\u001b[0m 25ms/step - binary_accuracy: 0.7272 - loss: 0.5366 - val_binary_accuracy: 0.7385 - val_loss: 0.5364\n",
            "Epoch 91/100\n",
            "\u001b[1m63/63\u001b[0m \u001b[32m━━━━━━━━━━━━━━━━━━━━\u001b[0m\u001b[37m\u001b[0m \u001b[1m2s\u001b[0m 25ms/step - binary_accuracy: 0.7216 - loss: 0.5422 - val_binary_accuracy: 0.7320 - val_loss: 0.5372\n",
            "Epoch 92/100\n",
            "\u001b[1m63/63\u001b[0m \u001b[32m━━━━━━━━━━━━━━━━━━━━\u001b[0m\u001b[37m\u001b[0m \u001b[1m2s\u001b[0m 25ms/step - binary_accuracy: 0.7220 - loss: 0.5406 - val_binary_accuracy: 0.7315 - val_loss: 0.5373\n",
            "Epoch 93/100\n",
            "\u001b[1m63/63\u001b[0m \u001b[32m━━━━━━━━━━━━━━━━━━━━\u001b[0m\u001b[37m\u001b[0m \u001b[1m2s\u001b[0m 26ms/step - binary_accuracy: 0.7268 - loss: 0.5367 - val_binary_accuracy: 0.7340 - val_loss: 0.5344\n",
            "Epoch 94/100\n",
            "\u001b[1m63/63\u001b[0m \u001b[32m━━━━━━━━━━━━━━━━━━━━\u001b[0m\u001b[37m\u001b[0m \u001b[1m2s\u001b[0m 26ms/step - binary_accuracy: 0.7237 - loss: 0.5367 - val_binary_accuracy: 0.7310 - val_loss: 0.5360\n",
            "Epoch 95/100\n",
            "\u001b[1m63/63\u001b[0m \u001b[32m━━━━━━━━━━━━━━━━━━━━\u001b[0m\u001b[37m\u001b[0m \u001b[1m2s\u001b[0m 24ms/step - binary_accuracy: 0.7238 - loss: 0.5306 - val_binary_accuracy: 0.7385 - val_loss: 0.5329\n",
            "Epoch 96/100\n",
            "\u001b[1m63/63\u001b[0m \u001b[32m━━━━━━━━━━━━━━━━━━━━\u001b[0m\u001b[37m\u001b[0m \u001b[1m2s\u001b[0m 26ms/step - binary_accuracy: 0.7279 - loss: 0.5357 - val_binary_accuracy: 0.7275 - val_loss: 0.5372\n",
            "Epoch 97/100\n",
            "\u001b[1m63/63\u001b[0m \u001b[32m━━━━━━━━━━━━━━━━━━━━\u001b[0m\u001b[37m\u001b[0m \u001b[1m2s\u001b[0m 26ms/step - binary_accuracy: 0.7250 - loss: 0.5324 - val_binary_accuracy: 0.7340 - val_loss: 0.5315\n",
            "Epoch 98/100\n",
            "\u001b[1m63/63\u001b[0m \u001b[32m━━━━━━━━━━━━━━━━━━━━\u001b[0m\u001b[37m\u001b[0m \u001b[1m2s\u001b[0m 26ms/step - binary_accuracy: 0.7204 - loss: 0.5372 - val_binary_accuracy: 0.7370 - val_loss: 0.5308\n",
            "Epoch 99/100\n",
            "\u001b[1m63/63\u001b[0m \u001b[32m━━━━━━━━━━━━━━━━━━━━\u001b[0m\u001b[37m\u001b[0m \u001b[1m2s\u001b[0m 25ms/step - binary_accuracy: 0.7257 - loss: 0.5290 - val_binary_accuracy: 0.7405 - val_loss: 0.5298\n",
            "Epoch 100/100\n",
            "\u001b[1m63/63\u001b[0m \u001b[32m━━━━━━━━━━━━━━━━━━━━\u001b[0m\u001b[37m\u001b[0m \u001b[1m2s\u001b[0m 25ms/step - binary_accuracy: 0.7265 - loss: 0.5344 - val_binary_accuracy: 0.7355 - val_loss: 0.5299\n"
          ]
        }
      ],
      "source": [
        "# Entraînement du modèle\n",
        "history=base_model.fit(X_train, y_train, epochs=100, batch_size=128, validation_split=0.2)"
      ]
    },
    {
      "cell_type": "markdown",
      "metadata": {
        "id": "bFLWPdn3YCO9"
      },
      "source": [
        "## Check Metrics"
      ]
    },
    {
      "cell_type": "code",
      "execution_count": 14,
      "metadata": {
        "id": "24xWGbIWYCO9"
      },
      "outputs": [
        {
          "data": {
            "image/png": "[encoded data removed]",
            "text/plain": [
              "<Figure size 640x480 with 1 Axes>"
            ]
          },
          "metadata": {},
          "output_type": "display_data"
        }
      ],
      "source": [
        "plt.plot(history.history['loss'], color='b', label='loss')\n",
        "plt.plot(history.history['val_loss'], color='r', label='val_loss')\n",
        "plt.ylabel('loss')\n",
        "plt.xlabel('Epochs')\n",
        "plt.legend()\n",
        "plt.show()"
      ]
    },
    {
      "cell_type": "code",
      "execution_count": 15,
      "metadata": {
        "id": "ZeBEDdz4YCO9"
      },
      "outputs": [
        {
          "data": {
            "image/png": "[encoded data removed]",
            "text/plain": [
              "<Figure size 640x480 with 1 Axes>"
            ]
          },
          "metadata": {},
          "output_type": "display_data"
        }
      ],
      "source": [
        "plt.plot(history.history['binary_accuracy'], color='b', label='binary_accuracy')\n",
        "plt.plot(history.history['val_binary_accuracy'], color='r', label='val_binary_accuracy')\n",
        "plt.ylabel('accuracy')\n",
        "plt.xlabel('Epochs')\n",
        "plt.legend()\n",
        "plt.show()"
      ]
    },
    {
      "cell_type": "markdown",
      "metadata": {},
      "source": [
        "# ML Flow - Log Model"
      ]
    },
    {
      "cell_type": "code",
      "execution_count": 20,
      "metadata": {},
      "outputs": [
        {
          "name": "stderr",
          "output_type": "stream",
          "text": [
            "2025/01/28 11:32:43 INFO mlflow.tracking.fluent: Experiment with name 'Fake News Detector - Word2vec Model' does not exist. Creating a new experiment.\n",
            "/home/zeus/miniconda3/envs/cloudspace/lib/python3.10/site-packages/keras/src/layers/core/embedding.py:90: UserWarning: Argument `input_length` is deprecated. Just remove it.\n",
            "  warnings.warn(\n"
          ]
        },
        {
          "data": {
            "text/html": [
              "<pre style=\"white-space:pre;overflow-x:auto;line-height:normal;font-family:Menlo,'DejaVu Sans Mono',consolas,'Courier New',monospace\"></pre>\n"
            ],
            "text/plain": []
          },
          "metadata": {},
          "output_type": "display_data"
        },
        {
          "name": "stderr",
          "output_type": "stream",
          "text": [
            "2025/01/28 11:33:05 WARNING mlflow.utils.autologging_utils: Encountered unexpected error during autologging: Failed to upload /tmp/tmpztu_e5jd/model_summary.txt to fnd-jedha-project/9/f7e8b336d90b47638a0b370a6bcfc30d/artifacts/model_summary.txt: An error occurred (AccessDenied) when calling the PutObject operation: Access Denied\n"
          ]
        },
        {
          "name": "stdout",
          "output_type": "stream",
          "text": [
            "Epoch 1/100\n",
            "\u001b[1m63/63\u001b[0m \u001b[32m━━━━━━━━━━━━━━━━━━━━\u001b[0m\u001b[37m\u001b[0m \u001b[1m3s\u001b[0m 28ms/step - accuracy: 0.5490 - loss: 0.6906 - val_accuracy: 0.5775 - val_loss: 0.6824\n",
            "Epoch 2/100\n",
            "\u001b[1m63/63\u001b[0m \u001b[32m━━━━━━━━━━━━━━━━━━━━\u001b[0m\u001b[37m\u001b[0m \u001b[1m2s\u001b[0m 25ms/step - accuracy: 0.5530 - loss: 0.6871 - val_accuracy: 0.5765 - val_loss: 0.6803\n",
            "Epoch 3/100\n",
            "\u001b[1m63/63\u001b[0m \u001b[32m━━━━━━━━━━━━━━━━━━━━\u001b[0m\u001b[37m\u001b[0m \u001b[1m2s\u001b[0m 24ms/step - accuracy: 0.5524 - loss: 0.6843 - val_accuracy: 0.5770 - val_loss: 0.6782\n",
            "Epoch 4/100\n",
            "\u001b[1m63/63\u001b[0m \u001b[32m━━━━━━━━━━━━━━━━━━━━\u001b[0m\u001b[37m\u001b[0m \u001b[1m2s\u001b[0m 25ms/step - accuracy: 0.5485 - loss: 0.6829 - val_accuracy: 0.5760 - val_loss: 0.6761\n",
            "Epoch 5/100\n",
            "\u001b[1m63/63\u001b[0m \u001b[32m━━━━━━━━━━━━━━━━━━━━\u001b[0m\u001b[37m\u001b[0m \u001b[1m2s\u001b[0m 25ms/step - accuracy: 0.5477 - loss: 0.6792 - val_accuracy: 0.5740 - val_loss: 0.6740\n",
            "Epoch 6/100\n",
            "\u001b[1m63/63\u001b[0m \u001b[32m━━━━━━━━━━━━━━━━━━━━\u001b[0m\u001b[37m\u001b[0m \u001b[1m2s\u001b[0m 25ms/step - accuracy: 0.5546 - loss: 0.6764 - val_accuracy: 0.6085 - val_loss: 0.6719\n",
            "Epoch 7/100\n",
            "\u001b[1m63/63\u001b[0m \u001b[32m━━━━━━━━━━━━━━━━━━━━\u001b[0m\u001b[37m\u001b[0m \u001b[1m2s\u001b[0m 28ms/step - accuracy: 0.6070 - loss: 0.6742 - val_accuracy: 0.6230 - val_loss: 0.6696\n",
            "Epoch 8/100\n",
            "\u001b[1m63/63\u001b[0m \u001b[32m━━━━━━━━━━━━━━━━━━━━\u001b[0m\u001b[37m\u001b[0m \u001b[1m2s\u001b[0m 26ms/step - accuracy: 0.6047 - loss: 0.6727 - val_accuracy: 0.6250 - val_loss: 0.6673\n",
            "Epoch 9/100\n",
            "\u001b[1m63/63\u001b[0m \u001b[32m━━━━━━━━━━━━━━━━━━━━\u001b[0m\u001b[37m\u001b[0m \u001b[1m2s\u001b[0m 29ms/step - accuracy: 0.6127 - loss: 0.6694 - val_accuracy: 0.6245 - val_loss: 0.6643\n",
            "Epoch 10/100\n",
            "\u001b[1m63/63\u001b[0m \u001b[32m━━━━━━━━━━━━━━━━━━━━\u001b[0m\u001b[37m\u001b[0m \u001b[1m2s\u001b[0m 30ms/step - accuracy: 0.6058 - loss: 0.6673 - val_accuracy: 0.6275 - val_loss: 0.6611\n",
            "Epoch 11/100\n",
            "\u001b[1m63/63\u001b[0m \u001b[32m━━━━━━━━━━━━━━━━━━━━\u001b[0m\u001b[37m\u001b[0m \u001b[1m2s\u001b[0m 26ms/step - accuracy: 0.6191 - loss: 0.6609 - val_accuracy: 0.6325 - val_loss: 0.6570\n",
            "Epoch 12/100\n",
            "\u001b[1m63/63\u001b[0m \u001b[32m━━━━━━━━━━━━━━━━━━━━\u001b[0m\u001b[37m\u001b[0m \u001b[1m2s\u001b[0m 25ms/step - accuracy: 0.6211 - loss: 0.6595 - val_accuracy: 0.6370 - val_loss: 0.6511\n",
            "Epoch 13/100\n",
            "\u001b[1m63/63\u001b[0m \u001b[32m━━━━━━━━━━━━━━━━━━━━\u001b[0m\u001b[37m\u001b[0m \u001b[1m2s\u001b[0m 25ms/step - accuracy: 0.6244 - loss: 0.6535 - val_accuracy: 0.6510 - val_loss: 0.6428\n",
            "Epoch 14/100\n",
            "\u001b[1m63/63\u001b[0m \u001b[32m━━━━━━━━━━━━━━━━━━━━\u001b[0m\u001b[37m\u001b[0m \u001b[1m2s\u001b[0m 26ms/step - accuracy: 0.6497 - loss: 0.6412 - val_accuracy: 0.6615 - val_loss: 0.6333\n",
            "Epoch 15/100\n",
            "\u001b[1m63/63\u001b[0m \u001b[32m━━━━━━━━━━━━━━━━━━━━\u001b[0m\u001b[37m\u001b[0m \u001b[1m2s\u001b[0m 24ms/step - accuracy: 0.6582 - loss: 0.6326 - val_accuracy: 0.6770 - val_loss: 0.6260\n",
            "Epoch 16/100\n",
            "\u001b[1m63/63\u001b[0m \u001b[32m━━━━━━━━━━━━━━━━━━━━\u001b[0m\u001b[37m\u001b[0m \u001b[1m2s\u001b[0m 24ms/step - accuracy: 0.6566 - loss: 0.6302 - val_accuracy: 0.6835 - val_loss: 0.6197\n",
            "Epoch 17/100\n",
            "\u001b[1m63/63\u001b[0m \u001b[32m━━━━━━━━━━━━━━━━━━━━\u001b[0m\u001b[37m\u001b[0m \u001b[1m3s\u001b[0m 24ms/step - accuracy: 0.6725 - loss: 0.6174 - val_accuracy: 0.6815 - val_loss: 0.6141\n",
            "Epoch 18/100\n",
            "\u001b[1m63/63\u001b[0m \u001b[32m━━━━━━━━━━━━━━━━━━━━\u001b[0m\u001b[37m\u001b[0m \u001b[1m2s\u001b[0m 28ms/step - accuracy: 0.6727 - loss: 0.6163 - val_accuracy: 0.6875 - val_loss: 0.6088\n",
            "Epoch 19/100\n",
            "\u001b[1m63/63\u001b[0m \u001b[32m━━━━━━━━━━━━━━━━━━━━\u001b[0m\u001b[37m\u001b[0m \u001b[1m2s\u001b[0m 25ms/step - accuracy: 0.6647 - loss: 0.6144 - val_accuracy: 0.6960 - val_loss: 0.6050\n",
            "Epoch 20/100\n",
            "\u001b[1m63/63\u001b[0m \u001b[32m━━━━━━━━━━━━━━━━━━━━\u001b[0m\u001b[37m\u001b[0m \u001b[1m2s\u001b[0m 25ms/step - accuracy: 0.6865 - loss: 0.6054 - val_accuracy: 0.7030 - val_loss: 0.5988\n",
            "Epoch 21/100\n",
            "\u001b[1m63/63\u001b[0m \u001b[32m━━━━━━━━━━━━━━━━━━━━\u001b[0m\u001b[37m\u001b[0m \u001b[1m2s\u001b[0m 28ms/step - accuracy: 0.6939 - loss: 0.5949 - val_accuracy: 0.7090 - val_loss: 0.5957\n",
            "Epoch 22/100\n",
            "\u001b[1m63/63\u001b[0m \u001b[32m━━━━━━━━━━━━━━━━━━━━\u001b[0m\u001b[37m\u001b[0m \u001b[1m2s\u001b[0m 25ms/step - accuracy: 0.6898 - loss: 0.5956 - val_accuracy: 0.7100 - val_loss: 0.5908\n",
            "Epoch 23/100\n",
            "\u001b[1m63/63\u001b[0m \u001b[32m━━━━━━━━━━━━━━━━━━━━\u001b[0m\u001b[37m\u001b[0m \u001b[1m2s\u001b[0m 26ms/step - accuracy: 0.6846 - loss: 0.5975 - val_accuracy: 0.7105 - val_loss: 0.5875\n",
            "Epoch 24/100\n",
            "\u001b[1m63/63\u001b[0m \u001b[32m━━━━━━━━━━━━━━━━━━━━\u001b[0m\u001b[37m\u001b[0m \u001b[1m2s\u001b[0m 26ms/step - accuracy: 0.6912 - loss: 0.5942 - val_accuracy: 0.7100 - val_loss: 0.5845\n",
            "Epoch 25/100\n",
            "\u001b[1m63/63\u001b[0m \u001b[32m━━━━━━━━━━━━━━━━━━━━\u001b[0m\u001b[37m\u001b[0m \u001b[1m2s\u001b[0m 26ms/step - accuracy: 0.6924 - loss: 0.5920 - val_accuracy: 0.7170 - val_loss: 0.5814\n",
            "Epoch 26/100\n",
            "\u001b[1m63/63\u001b[0m \u001b[32m━━━━━━━━━━━━━━━━━━━━\u001b[0m\u001b[37m\u001b[0m \u001b[1m2s\u001b[0m 25ms/step - accuracy: 0.6935 - loss: 0.5939 - val_accuracy: 0.7195 - val_loss: 0.5790\n",
            "Epoch 27/100\n",
            "\u001b[1m63/63\u001b[0m \u001b[32m━━━━━━━━━━━━━━━━━━━━\u001b[0m\u001b[37m\u001b[0m \u001b[1m2s\u001b[0m 26ms/step - accuracy: 0.6914 - loss: 0.5884 - val_accuracy: 0.7205 - val_loss: 0.5768\n",
            "Epoch 28/100\n",
            "\u001b[1m63/63\u001b[0m \u001b[32m━━━━━━━━━━━━━━━━━━━━\u001b[0m\u001b[37m\u001b[0m \u001b[1m2s\u001b[0m 26ms/step - accuracy: 0.6984 - loss: 0.5780 - val_accuracy: 0.7200 - val_loss: 0.5748\n",
            "Epoch 29/100\n",
            "\u001b[1m63/63\u001b[0m \u001b[32m━━━━━━━━━━━━━━━━━━━━\u001b[0m\u001b[37m\u001b[0m \u001b[1m2s\u001b[0m 24ms/step - accuracy: 0.6980 - loss: 0.5826 - val_accuracy: 0.7225 - val_loss: 0.5732\n",
            "Epoch 30/100\n",
            "\u001b[1m63/63\u001b[0m \u001b[32m━━━━━━━━━━━━━━━━━━━━\u001b[0m\u001b[37m\u001b[0m \u001b[1m1s\u001b[0m 24ms/step - accuracy: 0.7096 - loss: 0.5743 - val_accuracy: 0.7205 - val_loss: 0.5713\n",
            "Epoch 31/100\n",
            "\u001b[1m63/63\u001b[0m \u001b[32m━━━━━━━━━━━━━━━━━━━━\u001b[0m\u001b[37m\u001b[0m \u001b[1m2s\u001b[0m 24ms/step - accuracy: 0.6978 - loss: 0.5809 - val_accuracy: 0.7185 - val_loss: 0.5697\n",
            "Epoch 32/100\n",
            "\u001b[1m63/63\u001b[0m \u001b[32m━━━━━━━━━━━━━━━━━━━━\u001b[0m\u001b[37m\u001b[0m \u001b[1m1s\u001b[0m 24ms/step - accuracy: 0.6969 - loss: 0.5795 - val_accuracy: 0.7190 - val_loss: 0.5681\n",
            "Epoch 33/100\n",
            "\u001b[1m63/63\u001b[0m \u001b[32m━━━━━━━━━━━━━━━━━━━━\u001b[0m\u001b[37m\u001b[0m \u001b[1m2s\u001b[0m 25ms/step - accuracy: 0.6944 - loss: 0.5750 - val_accuracy: 0.7150 - val_loss: 0.5672\n",
            "Epoch 34/100\n",
            "\u001b[1m63/63\u001b[0m \u001b[32m━━━━━━━━━━━━━━━━━━━━\u001b[0m\u001b[37m\u001b[0m \u001b[1m2s\u001b[0m 24ms/step - accuracy: 0.6990 - loss: 0.5736 - val_accuracy: 0.7200 - val_loss: 0.5652\n",
            "Epoch 35/100\n",
            "\u001b[1m63/63\u001b[0m \u001b[32m━━━━━━━━━━━━━━━━━━━━\u001b[0m\u001b[37m\u001b[0m \u001b[1m2s\u001b[0m 25ms/step - accuracy: 0.7027 - loss: 0.5715 - val_accuracy: 0.7130 - val_loss: 0.5647\n",
            "Epoch 36/100\n",
            "\u001b[1m63/63\u001b[0m \u001b[32m━━━━━━━━━━━━━━━━━━━━\u001b[0m\u001b[37m\u001b[0m \u001b[1m2s\u001b[0m 24ms/step - accuracy: 0.7005 - loss: 0.5723 - val_accuracy: 0.7165 - val_loss: 0.5629\n",
            "Epoch 37/100\n",
            "\u001b[1m63/63\u001b[0m \u001b[32m━━━━━━━━━━━━━━━━━━━━\u001b[0m\u001b[37m\u001b[0m \u001b[1m2s\u001b[0m 29ms/step - accuracy: 0.7011 - loss: 0.5722 - val_accuracy: 0.7185 - val_loss: 0.5615\n",
            "Epoch 38/100\n",
            "\u001b[1m63/63\u001b[0m \u001b[32m━━━━━━━━━━━━━━━━━━━━\u001b[0m\u001b[37m\u001b[0m \u001b[1m2s\u001b[0m 25ms/step - accuracy: 0.6998 - loss: 0.5719 - val_accuracy: 0.7180 - val_loss: 0.5607\n",
            "Epoch 39/100\n",
            "\u001b[1m63/63\u001b[0m \u001b[32m━━━━━━━━━━━━━━━━━━━━\u001b[0m\u001b[37m\u001b[0m \u001b[1m2s\u001b[0m 24ms/step - accuracy: 0.7025 - loss: 0.5692 - val_accuracy: 0.7165 - val_loss: 0.5601\n",
            "Epoch 40/100\n",
            "\u001b[1m63/63\u001b[0m \u001b[32m━━━━━━━━━━━━━━━━━━━━\u001b[0m\u001b[37m\u001b[0m \u001b[1m2s\u001b[0m 24ms/step - accuracy: 0.7008 - loss: 0.5675 - val_accuracy: 0.7180 - val_loss: 0.5590\n",
            "Epoch 41/100\n",
            "\u001b[1m63/63\u001b[0m \u001b[32m━━━━━━━━━━━━━━━━━━━━\u001b[0m\u001b[37m\u001b[0m \u001b[1m1s\u001b[0m 23ms/step - accuracy: 0.7095 - loss: 0.5621 - val_accuracy: 0.7180 - val_loss: 0.5576\n",
            "Epoch 42/100\n",
            "\u001b[1m63/63\u001b[0m \u001b[32m━━━━━━━━━━━━━━━━━━━━\u001b[0m\u001b[37m\u001b[0m \u001b[1m1s\u001b[0m 24ms/step - accuracy: 0.6964 - loss: 0.5716 - val_accuracy: 0.7170 - val_loss: 0.5569\n",
            "Epoch 43/100\n",
            "\u001b[1m63/63\u001b[0m \u001b[32m━━━━━━━━━━━━━━━━━━━━\u001b[0m\u001b[37m\u001b[0m \u001b[1m3s\u001b[0m 23ms/step - accuracy: 0.7014 - loss: 0.5640 - val_accuracy: 0.7160 - val_loss: 0.5559\n",
            "Epoch 44/100\n",
            "\u001b[1m63/63\u001b[0m \u001b[32m━━━━━━━━━━━━━━━━━━━━\u001b[0m\u001b[37m\u001b[0m \u001b[1m2s\u001b[0m 24ms/step - accuracy: 0.7032 - loss: 0.5649 - val_accuracy: 0.7185 - val_loss: 0.5543\n",
            "Epoch 45/100\n",
            "\u001b[1m63/63\u001b[0m \u001b[32m━━━━━━━━━━━━━━━━━━━━\u001b[0m\u001b[37m\u001b[0m \u001b[1m2s\u001b[0m 24ms/step - accuracy: 0.7121 - loss: 0.5578 - val_accuracy: 0.7180 - val_loss: 0.5528\n",
            "Epoch 46/100\n",
            "\u001b[1m63/63\u001b[0m \u001b[32m━━━━━━━━━━━━━━━━━━━━\u001b[0m\u001b[37m\u001b[0m \u001b[1m1s\u001b[0m 23ms/step - accuracy: 0.7175 - loss: 0.5508 - val_accuracy: 0.7160 - val_loss: 0.5528\n",
            "Epoch 47/100\n",
            "\u001b[1m63/63\u001b[0m \u001b[32m━━━━━━━━━━━━━━━━━━━━\u001b[0m\u001b[37m\u001b[0m \u001b[1m2s\u001b[0m 24ms/step - accuracy: 0.7132 - loss: 0.5533 - val_accuracy: 0.7155 - val_loss: 0.5521\n",
            "Epoch 48/100\n",
            "\u001b[1m63/63\u001b[0m \u001b[32m━━━━━━━━━━━━━━━━━━━━\u001b[0m\u001b[37m\u001b[0m \u001b[1m2s\u001b[0m 24ms/step - accuracy: 0.7055 - loss: 0.5588 - val_accuracy: 0.7190 - val_loss: 0.5506\n",
            "Epoch 49/100\n",
            "\u001b[1m63/63\u001b[0m \u001b[32m━━━━━━━━━━━━━━━━━━━━\u001b[0m\u001b[37m\u001b[0m \u001b[1m2s\u001b[0m 24ms/step - accuracy: 0.7053 - loss: 0.5588 - val_accuracy: 0.7180 - val_loss: 0.5498\n",
            "Epoch 50/100\n",
            "\u001b[1m63/63\u001b[0m \u001b[32m━━━━━━━━━━━━━━━━━━━━\u001b[0m\u001b[37m\u001b[0m \u001b[1m2s\u001b[0m 24ms/step - accuracy: 0.7098 - loss: 0.5548 - val_accuracy: 0.7190 - val_loss: 0.5487\n",
            "Epoch 51/100\n",
            "\u001b[1m63/63\u001b[0m \u001b[32m━━━━━━━━━━━━━━━━━━━━\u001b[0m\u001b[37m\u001b[0m \u001b[1m1s\u001b[0m 24ms/step - accuracy: 0.7069 - loss: 0.5586 - val_accuracy: 0.7190 - val_loss: 0.5475\n",
            "Epoch 52/100\n",
            "\u001b[1m63/63\u001b[0m \u001b[32m━━━━━━━━━━━━━━━━━━━━\u001b[0m\u001b[37m\u001b[0m \u001b[1m2s\u001b[0m 28ms/step - accuracy: 0.7067 - loss: 0.5551 - val_accuracy: 0.7185 - val_loss: 0.5468\n",
            "Epoch 53/100\n",
            "\u001b[1m63/63\u001b[0m \u001b[32m━━━━━━━━━━━━━━━━━━━━\u001b[0m\u001b[37m\u001b[0m \u001b[1m2s\u001b[0m 27ms/step - accuracy: 0.7132 - loss: 0.5482 - val_accuracy: 0.7170 - val_loss: 0.5456\n",
            "Epoch 54/100\n",
            "\u001b[1m63/63\u001b[0m \u001b[32m━━━━━━━━━━━━━━━━━━━━\u001b[0m\u001b[37m\u001b[0m \u001b[1m2s\u001b[0m 24ms/step - accuracy: 0.7211 - loss: 0.5391 - val_accuracy: 0.7220 - val_loss: 0.5469\n",
            "Epoch 55/100\n",
            "\u001b[1m63/63\u001b[0m \u001b[32m━━━━━━━━━━━━━━━━━━━━\u001b[0m\u001b[37m\u001b[0m \u001b[1m2s\u001b[0m 24ms/step - accuracy: 0.7124 - loss: 0.5508 - val_accuracy: 0.7210 - val_loss: 0.5454\n",
            "Epoch 56/100\n",
            "\u001b[1m63/63\u001b[0m \u001b[32m━━━━━━━━━━━━━━━━━━━━\u001b[0m\u001b[37m\u001b[0m \u001b[1m2s\u001b[0m 25ms/step - accuracy: 0.7100 - loss: 0.5498 - val_accuracy: 0.7210 - val_loss: 0.5441\n",
            "Epoch 57/100\n",
            "\u001b[1m63/63\u001b[0m \u001b[32m━━━━━━━━━━━━━━━━━━━━\u001b[0m\u001b[37m\u001b[0m \u001b[1m2s\u001b[0m 24ms/step - accuracy: 0.7117 - loss: 0.5503 - val_accuracy: 0.7210 - val_loss: 0.5445\n",
            "Epoch 58/100\n",
            "\u001b[1m63/63\u001b[0m \u001b[32m━━━━━━━━━━━━━━━━━━━━\u001b[0m\u001b[37m\u001b[0m \u001b[1m2s\u001b[0m 24ms/step - accuracy: 0.7206 - loss: 0.5437 - val_accuracy: 0.7205 - val_loss: 0.5439\n",
            "Epoch 59/100\n",
            "\u001b[1m63/63\u001b[0m \u001b[32m━━━━━━━━━━━━━━━━━━━━\u001b[0m\u001b[37m\u001b[0m \u001b[1m2s\u001b[0m 24ms/step - accuracy: 0.7128 - loss: 0.5493 - val_accuracy: 0.7220 - val_loss: 0.5441\n",
            "Epoch 60/100\n",
            "\u001b[1m63/63\u001b[0m \u001b[32m━━━━━━━━━━━━━━━━━━━━\u001b[0m\u001b[37m\u001b[0m \u001b[1m2s\u001b[0m 24ms/step - accuracy: 0.7154 - loss: 0.5450 - val_accuracy: 0.7185 - val_loss: 0.5422\n",
            "Epoch 61/100\n",
            "\u001b[1m63/63\u001b[0m \u001b[32m━━━━━━━━━━━━━━━━━━━━\u001b[0m\u001b[37m\u001b[0m \u001b[1m2s\u001b[0m 25ms/step - accuracy: 0.7159 - loss: 0.5449 - val_accuracy: 0.7185 - val_loss: 0.5418\n",
            "Epoch 62/100\n",
            "\u001b[1m63/63\u001b[0m \u001b[32m━━━━━━━━━━━━━━━━━━━━\u001b[0m\u001b[37m\u001b[0m \u001b[1m2s\u001b[0m 26ms/step - accuracy: 0.7187 - loss: 0.5386 - val_accuracy: 0.7200 - val_loss: 0.5420\n",
            "Epoch 63/100\n",
            "\u001b[1m63/63\u001b[0m \u001b[32m━━━━━━━━━━━━━━━━━━━━\u001b[0m\u001b[37m\u001b[0m \u001b[1m1s\u001b[0m 23ms/step - accuracy: 0.7293 - loss: 0.5362 - val_accuracy: 0.7195 - val_loss: 0.5418\n",
            "Epoch 64/100\n",
            "\u001b[1m63/63\u001b[0m \u001b[32m━━━━━━━━━━━━━━━━━━━━\u001b[0m\u001b[37m\u001b[0m \u001b[1m1s\u001b[0m 24ms/step - accuracy: 0.7190 - loss: 0.5450 - val_accuracy: 0.7215 - val_loss: 0.5426\n",
            "Epoch 65/100\n",
            "\u001b[1m63/63\u001b[0m \u001b[32m━━━━━━━━━━━━━━━━━━━━\u001b[0m\u001b[37m\u001b[0m \u001b[1m2s\u001b[0m 24ms/step - accuracy: 0.7160 - loss: 0.5444 - val_accuracy: 0.7205 - val_loss: 0.5414\n",
            "Epoch 66/100\n",
            "\u001b[1m63/63\u001b[0m \u001b[32m━━━━━━━━━━━━━━━━━━━━\u001b[0m\u001b[37m\u001b[0m \u001b[1m1s\u001b[0m 23ms/step - accuracy: 0.7270 - loss: 0.5376 - val_accuracy: 0.7175 - val_loss: 0.5405\n",
            "Epoch 67/100\n",
            "\u001b[1m63/63\u001b[0m \u001b[32m━━━━━━━━━━━━━━━━━━━━\u001b[0m\u001b[37m\u001b[0m \u001b[1m1s\u001b[0m 23ms/step - accuracy: 0.7092 - loss: 0.5475 - val_accuracy: 0.7225 - val_loss: 0.5388\n",
            "Epoch 68/100\n",
            "\u001b[1m63/63\u001b[0m \u001b[32m━━━━━━━━━━━━━━━━━━━━\u001b[0m\u001b[37m\u001b[0m \u001b[1m2s\u001b[0m 26ms/step - accuracy: 0.7150 - loss: 0.5508 - val_accuracy: 0.7200 - val_loss: 0.5382\n",
            "Epoch 69/100\n",
            "\u001b[1m63/63\u001b[0m \u001b[32m━━━━━━━━━━━━━━━━━━━━\u001b[0m\u001b[37m\u001b[0m \u001b[1m1s\u001b[0m 23ms/step - accuracy: 0.7074 - loss: 0.5479 - val_accuracy: 0.7195 - val_loss: 0.5387\n",
            "Epoch 70/100\n",
            "\u001b[1m63/63\u001b[0m \u001b[32m━━━━━━━━━━━━━━━━━━━━\u001b[0m\u001b[37m\u001b[0m \u001b[1m2s\u001b[0m 24ms/step - accuracy: 0.7125 - loss: 0.5430 - val_accuracy: 0.7205 - val_loss: 0.5379\n",
            "Epoch 71/100\n",
            "\u001b[1m63/63\u001b[0m \u001b[32m━━━━━━━━━━━━━━━━━━━━\u001b[0m\u001b[37m\u001b[0m \u001b[1m2s\u001b[0m 24ms/step - accuracy: 0.7265 - loss: 0.5333 - val_accuracy: 0.7200 - val_loss: 0.5380\n",
            "Epoch 72/100\n",
            "\u001b[1m63/63\u001b[0m \u001b[32m━━━━━━━━━━━━━━━━━━━━\u001b[0m\u001b[37m\u001b[0m \u001b[1m2s\u001b[0m 24ms/step - accuracy: 0.7192 - loss: 0.5438 - val_accuracy: 0.7215 - val_loss: 0.5391\n",
            "Epoch 73/100\n",
            "\u001b[1m63/63\u001b[0m \u001b[32m━━━━━━━━━━━━━━━━━━━━\u001b[0m\u001b[37m\u001b[0m \u001b[1m2s\u001b[0m 24ms/step - accuracy: 0.7171 - loss: 0.5412 - val_accuracy: 0.7200 - val_loss: 0.5395\n",
            "Epoch 74/100\n",
            "\u001b[1m63/63\u001b[0m \u001b[32m━━━━━━━━━━━━━━━━━━━━\u001b[0m\u001b[37m\u001b[0m \u001b[1m2s\u001b[0m 24ms/step - accuracy: 0.7106 - loss: 0.5466 - val_accuracy: 0.7200 - val_loss: 0.5385\n",
            "Epoch 75/100\n",
            "\u001b[1m63/63\u001b[0m \u001b[32m━━━━━━━━━━━━━━━━━━━━\u001b[0m\u001b[37m\u001b[0m \u001b[1m2s\u001b[0m 27ms/step - accuracy: 0.7226 - loss: 0.5307 - val_accuracy: 0.7275 - val_loss: 0.5349\n",
            "Epoch 76/100\n",
            "\u001b[1m63/63\u001b[0m \u001b[32m━━━━━━━━━━━━━━━━━━━━\u001b[0m\u001b[37m\u001b[0m \u001b[1m1s\u001b[0m 23ms/step - accuracy: 0.7206 - loss: 0.5387 - val_accuracy: 0.7230 - val_loss: 0.5372\n",
            "Epoch 77/100\n",
            "\u001b[1m63/63\u001b[0m \u001b[32m━━━━━━━━━━━━━━━━━━━━\u001b[0m\u001b[37m\u001b[0m \u001b[1m2s\u001b[0m 25ms/step - accuracy: 0.7184 - loss: 0.5380 - val_accuracy: 0.7215 - val_loss: 0.5362\n",
            "Epoch 78/100\n",
            "\u001b[1m63/63\u001b[0m \u001b[32m━━━━━━━━━━━━━━━━━━━━\u001b[0m\u001b[37m\u001b[0m \u001b[1m2s\u001b[0m 24ms/step - accuracy: 0.7306 - loss: 0.5245 - val_accuracy: 0.7205 - val_loss: 0.5359\n",
            "Epoch 79/100\n",
            "\u001b[1m63/63\u001b[0m \u001b[32m━━━━━━━━━━━━━━━━━━━━\u001b[0m\u001b[37m\u001b[0m \u001b[1m1s\u001b[0m 23ms/step - accuracy: 0.7250 - loss: 0.5369 - val_accuracy: 0.7225 - val_loss: 0.5359\n",
            "Epoch 80/100\n",
            "\u001b[1m63/63\u001b[0m \u001b[32m━━━━━━━━━━━━━━━━━━━━\u001b[0m\u001b[37m\u001b[0m \u001b[1m1s\u001b[0m 23ms/step - accuracy: 0.7228 - loss: 0.5301 - val_accuracy: 0.7225 - val_loss: 0.5350\n",
            "Epoch 81/100\n",
            "\u001b[1m63/63\u001b[0m \u001b[32m━━━━━━━━━━━━━━━━━━━━\u001b[0m\u001b[37m\u001b[0m \u001b[1m2s\u001b[0m 24ms/step - accuracy: 0.7305 - loss: 0.5296 - val_accuracy: 0.7230 - val_loss: 0.5348\n",
            "Epoch 82/100\n",
            "\u001b[1m63/63\u001b[0m \u001b[32m━━━━━━━━━━━━━━━━━━━━\u001b[0m\u001b[37m\u001b[0m \u001b[1m2s\u001b[0m 24ms/step - accuracy: 0.7277 - loss: 0.5275 - val_accuracy: 0.7255 - val_loss: 0.5348\n",
            "Epoch 83/100\n",
            "\u001b[1m63/63\u001b[0m \u001b[32m━━━━━━━━━━━━━━━━━━━━\u001b[0m\u001b[37m\u001b[0m \u001b[1m1s\u001b[0m 24ms/step - accuracy: 0.7204 - loss: 0.5350 - val_accuracy: 0.7265 - val_loss: 0.5345\n",
            "Epoch 84/100\n",
            "\u001b[1m63/63\u001b[0m \u001b[32m━━━━━━━━━━━━━━━━━━━━\u001b[0m\u001b[37m\u001b[0m \u001b[1m1s\u001b[0m 24ms/step - accuracy: 0.7324 - loss: 0.5247 - val_accuracy: 0.7235 - val_loss: 0.5351\n",
            "Epoch 85/100\n",
            "\u001b[1m63/63\u001b[0m \u001b[32m━━━━━━━━━━━━━━━━━━━━\u001b[0m\u001b[37m\u001b[0m \u001b[1m2s\u001b[0m 24ms/step - accuracy: 0.7231 - loss: 0.5352 - val_accuracy: 0.7310 - val_loss: 0.5335\n",
            "Epoch 86/100\n",
            "\u001b[1m63/63\u001b[0m \u001b[32m━━━━━━━━━━━━━━━━━━━━\u001b[0m\u001b[37m\u001b[0m \u001b[1m1s\u001b[0m 23ms/step - accuracy: 0.7195 - loss: 0.5417 - val_accuracy: 0.7305 - val_loss: 0.5335\n",
            "Epoch 87/100\n",
            "\u001b[1m63/63\u001b[0m \u001b[32m━━━━━━━━━━━━━━━━━━━━\u001b[0m\u001b[37m\u001b[0m \u001b[1m1s\u001b[0m 23ms/step - accuracy: 0.7256 - loss: 0.5299 - val_accuracy: 0.7305 - val_loss: 0.5338\n",
            "Epoch 88/100\n",
            "\u001b[1m63/63\u001b[0m \u001b[32m━━━━━━━━━━━━━━━━━━━━\u001b[0m\u001b[37m\u001b[0m \u001b[1m2s\u001b[0m 25ms/step - accuracy: 0.7224 - loss: 0.5338 - val_accuracy: 0.7275 - val_loss: 0.5343\n",
            "Epoch 89/100\n",
            "\u001b[1m63/63\u001b[0m \u001b[32m━━━━━━━━━━━━━━━━━━━━\u001b[0m\u001b[37m\u001b[0m \u001b[1m2s\u001b[0m 25ms/step - accuracy: 0.7283 - loss: 0.5303 - val_accuracy: 0.7295 - val_loss: 0.5335\n",
            "Epoch 90/100\n",
            "\u001b[1m63/63\u001b[0m \u001b[32m━━━━━━━━━━━━━━━━━━━━\u001b[0m\u001b[37m\u001b[0m \u001b[1m2s\u001b[0m 24ms/step - accuracy: 0.7278 - loss: 0.5316 - val_accuracy: 0.7305 - val_loss: 0.5332\n",
            "Epoch 91/100\n",
            "\u001b[1m63/63\u001b[0m \u001b[32m━━━━━━━━━━━━━━━━━━━━\u001b[0m\u001b[37m\u001b[0m \u001b[1m2s\u001b[0m 26ms/step - accuracy: 0.7256 - loss: 0.5353 - val_accuracy: 0.7335 - val_loss: 0.5322\n",
            "Epoch 92/100\n",
            "\u001b[1m63/63\u001b[0m \u001b[32m━━━━━━━━━━━━━━━━━━━━\u001b[0m\u001b[37m\u001b[0m \u001b[1m2s\u001b[0m 24ms/step - accuracy: 0.7247 - loss: 0.5286 - val_accuracy: 0.7290 - val_loss: 0.5334\n",
            "Epoch 93/100\n",
            "\u001b[1m63/63\u001b[0m \u001b[32m━━━━━━━━━━━━━━━━━━━━\u001b[0m\u001b[37m\u001b[0m \u001b[1m1s\u001b[0m 23ms/step - accuracy: 0.7274 - loss: 0.5294 - val_accuracy: 0.7295 - val_loss: 0.5332\n",
            "Epoch 94/100\n",
            "\u001b[1m63/63\u001b[0m \u001b[32m━━━━━━━━━━━━━━━━━━━━\u001b[0m\u001b[37m\u001b[0m \u001b[1m2s\u001b[0m 25ms/step - accuracy: 0.7274 - loss: 0.5311 - val_accuracy: 0.7330 - val_loss: 0.5316\n",
            "Epoch 95/100\n",
            "\u001b[1m63/63\u001b[0m \u001b[32m━━━━━━━━━━━━━━━━━━━━\u001b[0m\u001b[37m\u001b[0m \u001b[1m2s\u001b[0m 24ms/step - accuracy: 0.7333 - loss: 0.5253 - val_accuracy: 0.7285 - val_loss: 0.5332\n",
            "Epoch 96/100\n",
            "\u001b[1m63/63\u001b[0m \u001b[32m━━━━━━━━━━━━━━━━━━━━\u001b[0m\u001b[37m\u001b[0m \u001b[1m2s\u001b[0m 24ms/step - accuracy: 0.7309 - loss: 0.5231 - val_accuracy: 0.7340 - val_loss: 0.5317\n",
            "Epoch 97/100\n",
            "\u001b[1m63/63\u001b[0m \u001b[32m━━━━━━━━━━━━━━━━━━━━\u001b[0m\u001b[37m\u001b[0m \u001b[1m2s\u001b[0m 24ms/step - accuracy: 0.7381 - loss: 0.5218 - val_accuracy: 0.7320 - val_loss: 0.5304\n",
            "Epoch 98/100\n",
            "\u001b[1m63/63\u001b[0m \u001b[32m━━━━━━━━━━━━━━━━━━━━\u001b[0m\u001b[37m\u001b[0m \u001b[1m2s\u001b[0m 24ms/step - accuracy: 0.7335 - loss: 0.5284 - val_accuracy: 0.7325 - val_loss: 0.5306\n",
            "Epoch 99/100\n",
            "\u001b[1m63/63\u001b[0m \u001b[32m━━━━━━━━━━━━━━━━━━━━\u001b[0m\u001b[37m\u001b[0m \u001b[1m1s\u001b[0m 23ms/step - accuracy: 0.7324 - loss: 0.5260 - val_accuracy: 0.7325 - val_loss: 0.5298\n",
            "Epoch 100/100\n",
            "\u001b[1m63/63\u001b[0m \u001b[32m━━━━━━━━━━━━━━━━━━━━\u001b[0m\u001b[37m\u001b[0m \u001b[1m2s\u001b[0m 24ms/step - accuracy: 0.7260 - loss: 0.5293 - val_accuracy: 0.7350 - val_loss: 0.5306\n"
          ]
        },
        {
          "name": "stderr",
          "output_type": "stream",
          "text": [
            "2025/01/28 11:35:53 WARNING mlflow.utils.autologging_utils: Encountered unexpected error during keras autologging: Failed to upload /tmp/tmphb8lh2h2/model/requirements.txt to fnd-jedha-project/9/f7e8b336d90b47638a0b370a6bcfc30d/artifacts/model/requirements.txt: An error occurred (AccessDenied) when calling the PutObject operation: Access Denied\n"
          ]
        },
        {
          "name": "stdout",
          "output_type": "stream",
          "text": [
            "\u001b[1m313/313\u001b[0m \u001b[32m━━━━━━━━━━━━━━━━━━━━\u001b[0m\u001b[37m\u001b[0m \u001b[1m1s\u001b[0m 4ms/step\n",
            "Modèle Word2Vec + Keras\n",
            "Accuracy sur l'ensemble d'entraînement : 0.7329\n",
            "🏃 View run invincible-sow-174 at: https://fmendes13-fake-news-detector.hf.space/#/experiments/9/runs/f7e8b336d90b47638a0b370a6bcfc30d\n",
            "🧪 View experiment at: https://fmendes13-fake-news-detector.hf.space/#/experiments/9\n"
          ]
        }
      ],
      "source": [
        "# Configuration de MLflow\n",
        "EXPERIMENT_NAME = \"Fake News Detector - Word2vec Model\"\n",
        "mlflow.set_tracking_uri('https://fmendes13-fake-news-detector.hf.space')\n",
        "mlflow.set_experiment(EXPERIMENT_NAME)\n",
        "\n",
        "experiment = mlflow.get_experiment_by_name(EXPERIMENT_NAME)\n",
        "\n",
        "# Activer l'autologging pour Keras\n",
        "mlflow.keras.autolog()\n",
        "\n",
        "# Démarrer une nouvelle run MLflow\n",
        "with mlflow.start_run(experiment_id=experiment.experiment_id):\n",
        "    # Entraînement du modèle Word2Vec\n",
        "    word2vec_model = Word2Vec(sentences, vector_size=embedding_dim, window=5, min_count=1, workers=4)\n",
        "    \n",
        "    # Création de la matrice d'embedding\n",
        "    embedding_matrix = np.zeros((vocab_size, embedding_dim))\n",
        "    for word, i in tokenizer.word_index.items():\n",
        "        if word in word2vec_model.wv:\n",
        "            embedding_matrix[i] = word2vec_model.wv[word]\n",
        "\n",
        "    # Construction du modèle Keras\n",
        "    base_model = tf.keras.Sequential([\n",
        "        tf.keras.layers.Embedding(vocab_size, embedding_dim, weights=[embedding_matrix], input_length=max_length, trainable=True),\n",
        "        tf.keras.layers.LSTM(16),\n",
        "        tf.keras.layers.Dense(1, activation=\"sigmoid\")\n",
        "    ])\n",
        "\n",
        "    # Compilation du modèle\n",
        "    base_model.compile(\n",
        "        optimizer=tf.keras.optimizers.Adam(learning_rate=0.0001),\n",
        "        loss=tf.keras.losses.BinaryCrossentropy(),\n",
        "        metrics=['accuracy']\n",
        "    )\n",
        "\n",
        "    # Entraînement du modèle\n",
        "    history = base_model.fit(X_train, y_train, epochs=100, batch_size=128, validation_split=0.2)\n",
        "\n",
        "    # Évaluation du modèle\n",
        "    y_pred = (base_model.predict(X_train) > 0.5).astype(\"int32\")\n",
        "    accuracy = accuracy_score(y_train, y_pred)\n",
        "\n",
        "    # Affichage des résultats\n",
        "    print(\"Modèle Word2Vec + Keras\")\n",
        "    print(f\"Accuracy sur l'ensemble d'entraînement : {accuracy}\")"
      ]
    }
  ],
  "metadata": {
    "colab": {
      "provenance": []
    },
    "kernelspec": {
      "display_name": "Python 3",
      "name": "python3"
    },
    "language_info": {
      "name": "python"
    }
  },
  "nbformat": 4,
  "nbformat_minor": 0
}
