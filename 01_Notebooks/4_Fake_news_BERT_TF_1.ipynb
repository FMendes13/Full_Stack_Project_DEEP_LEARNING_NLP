{
  "cells": [
    {
      "cell_type": "markdown",
      "metadata": {},
      "source": [
        "# Library"
      ]
    },
    {
      "cell_type": "code",
      "execution_count": 53,
      "metadata": {},
      "outputs": [],
      "source": [
        "import pandas as pd\n",
        "import numpy as np\n",
        "import re\n",
        "\n",
        "from sklearn.model_selection import train_test_split\n",
        "from sklearn.metrics import confusion_matrix, f1_score, ConfusionMatrixDisplay\n",
        "\n",
        "from transformers import BertTokenizer, TFBertModel, TFDistilBertModel\n",
        "\n",
        "import tensorflow as tf\n",
        "from tensorflow.keras.layers import Dense, Dropout\n",
        "from tensorflow.keras.models import Model\n",
        "\n",
        "import matplotlib.pyplot as plt"
      ]
    },
    {
      "cell_type": "markdown",
      "metadata": {},
      "source": [
        "# Preprocessing"
      ]
    },
    {
      "cell_type": "markdown",
      "metadata": {},
      "source": [
        "## Processing_text"
      ]
    },
    {
      "cell_type": "code",
      "execution_count": 5,
      "metadata": {
        "colab": {
          "base_uri": "https://localhost:8080/"
        },
        "id": "ubsSeYSNr_Um",
        "outputId": "b1982355-6b20-4d8d-f4bb-4f2c2c188ebf"
      },
      "outputs": [
        {
          "name": "stdout",
          "output_type": "stream",
          "text": [
            "   label                                            message\n",
            "0      0  LAW ENFORCEMENT ON HIGH ALERT Following Threat...\n",
            "1      0  UNBELIEVABLE! OBAMA’S ATTORNEY GENERAL SAYS MO...\n",
            "2      1  Bobby Jindal, raised Hindu, uses story of Chri...\n",
            "3      0  SATAN 2: Russia unvelis an image of its terrif...\n",
            "4      0  About Time! Christian Group Sues Amazon and SP...\n"
          ]
        }
      ],
      "source": [
        "# URL du dataset\n",
        "url = 'https://fnd-jedha-project.s3.eu-west-3.amazonaws.com/0_WELFake_workbase.csv'\n",
        "\n",
        "# Chargement du dataset\n",
        "df = pd.read_csv(url)\n",
        "\n",
        "# Affichage des premières lignes du dataset\n",
        "print(df.head())\n"
      ]
    },
    {
      "cell_type": "code",
      "execution_count": 6,
      "metadata": {
        "colab": {
          "base_uri": "https://localhost:8080/"
        },
        "id": "Y5gfo-5br__D",
        "outputId": "719599a9-f9dd-4f25-9931-910da8b4b4cf"
      },
      "outputs": [
        {
          "name": "stdout",
          "output_type": "stream",
          "text": [
            "   label                                            message\n",
            "0      0  LAW ENFORCEMENT ON HIGH ALERT Following Threat...\n",
            "1      0  UNBELIEVABLE! OBAMA’S ATTORNEY GENERAL SAYS MO...\n",
            "2      1  Bobby Jindal, raised Hindu, uses story of Chri...\n",
            "3      0  SATAN 2: Russia unvelis an image of its terrif...\n",
            "4      0  About Time! Christian Group Sues Amazon and SP...\n"
          ]
        }
      ],
      "source": [
        "# Fonction de suppression des URLs\n",
        "def remove_urls(text):\n",
        "    # Supprimer les URLs\n",
        "    text = re.sub(r'http\\S+|www\\S+|https\\S+', '', text, flags=re.MULTILINE)\n",
        "    return text\n",
        "\n",
        "# Appliquer la fonction de suppression des URLs aux textes\n",
        "df['message'] = df['message'].apply(remove_urls)\n",
        "\n",
        "# Affichage des premières lignes du dataset nettoyé\n",
        "print(df.head())\n"
      ]
    },
    {
      "cell_type": "code",
      "execution_count": 7,
      "metadata": {
        "colab": {
          "base_uri": "https://localhost:8080/"
        },
        "id": "FdIljgKrtkBL",
        "outputId": "711bd2ca-6650-4a3a-8b40-90383e568d6c"
      },
      "outputs": [
        {
          "name": "stdout",
          "output_type": "stream",
          "text": [
            "Training set size: 50496\n",
            "Validation set size: 12625\n"
          ]
        }
      ],
      "source": [
        "# Séparation des données\n",
        "train_texts, val_texts, train_labels, val_labels = train_test_split(\n",
        "    df['message'], df['label'], test_size=0.2, random_state=42)\n",
        "\n",
        "print(f'Training set size: {len(train_texts)}')\n",
        "print(f'Validation set size: {len(val_texts)}')\n"
      ]
    },
    {
      "cell_type": "code",
      "execution_count": 8,
      "metadata": {
        "colab": {
          "base_uri": "https://localhost:8080/"
        },
        "id": "3Zi0ClGeABcK",
        "outputId": "43b841c3-d89d-4363-fb65-6fa5a3a65335"
      },
      "outputs": [
        {
          "name": "stderr",
          "output_type": "stream",
          "text": [
            "Truncation was not explicitly activated but `max_length` is provided a specific value, please use `truncation=True` to explicitly truncate examples to max length. Defaulting to 'longest_first' truncation strategy. If you encode pairs of sequences (GLUE-style) with the tokenizer you can select this strategy more precisely by providing a specific strategy to `truncation`.\n"
          ]
        },
        {
          "name": "stderr",
          "output_type": "stream",
          "text": [
            "/home/zeus/miniconda3/envs/cloudspace/lib/python3.10/site-packages/transformers/tokenization_utils_base.py:2681: FutureWarning: The `pad_to_max_length` argument is deprecated and will be removed in a future version, use `padding=True` or `padding='longest'` to pad to the longest sequence in the batch, or use `padding='max_length'` to pad to a max length. In this case, you can give a specific length with `max_length` (e.g. `max_length=45`) or leave max_length to None to pad to the maximal input size of the model (e.g. 512 for Bert).\n",
            "  warnings.warn(\n",
            "2025-02-03 15:13:10.709721: E external/local_xla/xla/stream_executor/cuda/cuda_driver.cc:152] failed call to cuInit: INTERNAL: CUDA error: Failed call to cuInit: UNKNOWN ERROR (303)\n"
          ]
        },
        {
          "name": "stdout",
          "output_type": "stream",
          "text": [
            "Train input_ids shape: (50496, 1, 128)\n",
            "Train attention_masks shape: (50496, 1, 128)\n",
            "Val input_ids shape: (12625, 1, 128)\n",
            "Val attention_masks shape: (12625, 1, 128)\n"
          ]
        }
      ],
      "source": [
        "# Chargement du tokenizer BERT\n",
        "tokenizer = BertTokenizer.from_pretrained('bert-base-uncased')\n",
        "\n",
        "# Fonction de tokenisation\n",
        "def encode_data(texts, tokenizer, max_len):\n",
        "    input_ids = []\n",
        "    attention_masks = []\n",
        "\n",
        "    for text in texts:\n",
        "        encoded_dict = tokenizer.encode_plus(\n",
        "            text,\n",
        "            add_special_tokens=True,\n",
        "            max_length=max_len,\n",
        "            pad_to_max_length=True,\n",
        "            return_attention_mask=True,\n",
        "            return_tensors='tf',\n",
        "        )\n",
        "        input_ids.append(encoded_dict['input_ids'])\n",
        "        attention_masks.append(encoded_dict['attention_mask'])\n",
        "\n",
        "    return tf.convert_to_tensor(input_ids), tf.convert_to_tensor(attention_masks)\n",
        "\n",
        "# Tokenisation des textes\n",
        "max_len = 128\n",
        "train_input_ids, train_attention_masks = encode_data(train_texts, tokenizer, max_len)\n",
        "val_input_ids, val_attention_masks = encode_data(val_texts, tokenizer, max_len)\n",
        "\n",
        "# Affichage des dimensions des tenseurs\n",
        "print(f'Train input_ids shape: {train_input_ids.shape}')\n",
        "print(f'Train attention_masks shape: {train_attention_masks.shape}')\n",
        "print(f'Val input_ids shape: {val_input_ids.shape}')\n",
        "print(f'Val attention_masks shape: {val_attention_masks.shape}')\n"
      ]
    },
    {
      "cell_type": "code",
      "execution_count": 9,
      "metadata": {
        "colab": {
          "base_uri": "https://localhost:8080/"
        },
        "id": "ww109s1Vt2go",
        "outputId": "ed4520b7-f9fa-4c65-dc59-d3ffc01e84b2"
      },
      "outputs": [
        {
          "name": "stdout",
          "output_type": "stream",
          "text": [
            "Train input_ids shape: (50496, 128)\n",
            "Train attention_masks shape: (50496, 128)\n",
            "Val input_ids shape: (12625, 128)\n",
            "Val attention_masks shape: (12625, 128)\n"
          ]
        }
      ],
      "source": [
        "# Chargement du tokenizer BERT\n",
        "tokenizer = BertTokenizer.from_pretrained('bert-base-uncased')\n",
        "\n",
        "# Fonction de tokenisation\n",
        "def encode_data(texts, tokenizer, max_len):\n",
        "    input_ids = []\n",
        "    attention_masks = []\n",
        "\n",
        "    for text in texts:\n",
        "        encoded_dict = tokenizer.encode_plus(\n",
        "            text,\n",
        "            add_special_tokens=True,\n",
        "            max_length=max_len,\n",
        "            pad_to_max_length=True,\n",
        "            return_attention_mask=True,\n",
        "            return_tensors='tf',\n",
        "            truncation=True  # Ajout de l'argument truncation\n",
        "        )\n",
        "        input_ids.append(encoded_dict['input_ids'][0])  # Suppression de la dimension supplémentaire\n",
        "        attention_masks.append(encoded_dict['attention_mask'][0])  # Suppression de la dimension supplémentaire\n",
        "\n",
        "    return tf.convert_to_tensor(input_ids), tf.convert_to_tensor(attention_masks)\n",
        "\n",
        "# Tokenisation des textes\n",
        "max_len = 128\n",
        "train_input_ids, train_attention_masks = encode_data(train_texts, tokenizer, max_len)\n",
        "val_input_ids, val_attention_masks = encode_data(val_texts, tokenizer, max_len)\n",
        "\n",
        "# Affichage des dimensions des tenseurs\n",
        "print(f'Train input_ids shape: {train_input_ids.shape}')\n",
        "print(f'Train attention_masks shape: {train_attention_masks.shape}')\n",
        "print(f'Val input_ids shape: {val_input_ids.shape}')\n",
        "print(f'Val attention_masks shape: {val_attention_masks.shape}')\n"
      ]
    },
    {
      "cell_type": "markdown",
      "metadata": {
        "id": "HPbnGGvE0MGX"
      },
      "source": [
        "# Model"
      ]
    },
    {
      "cell_type": "code",
      "execution_count": 10,
      "metadata": {
        "colab": {
          "base_uri": "https://localhost:8080/",
          "height": 311
        },
        "id": "FHkWEgPew-LE",
        "outputId": "9323b3a7-7e87-4ece-fb02-43f36ad92c68"
      },
      "outputs": [
        {
          "name": "stderr",
          "output_type": "stream",
          "text": [
            "Some weights of the PyTorch model were not used when initializing the TF 2.0 model TFBertModel: ['cls.predictions.transform.LayerNorm.bias', 'cls.predictions.transform.LayerNorm.weight', 'cls.predictions.transform.dense.bias', 'cls.predictions.bias', 'cls.predictions.transform.dense.weight', 'cls.seq_relationship.bias', 'cls.seq_relationship.weight']\n",
            "- This IS expected if you are initializing TFBertModel from a PyTorch model trained on another task or with another architecture (e.g. initializing a TFBertForSequenceClassification model from a BertForPreTraining model).\n",
            "- This IS NOT expected if you are initializing TFBertModel from a PyTorch model that you expect to be exactly identical (e.g. initializing a TFBertForSequenceClassification model from a BertForSequenceClassification model).\n",
            "All the weights of TFBertModel were initialized from the PyTorch model.\n",
            "If your task is similar to the task the model of the checkpoint was trained on, you can already use TFBertModel for predictions without further training.\n"
          ]
        },
        {
          "data": {
            "text/html": [
              "<pre style=\"white-space:pre;overflow-x:auto;line-height:normal;font-family:Menlo,'DejaVu Sans Mono',consolas,'Courier New',monospace\"><span style=\"font-weight: bold\">Model: \"news_classifier\"</span>\n",
              "</pre>\n"
            ],
            "text/plain": [
              "\u001b[1mModel: \"news_classifier\"\u001b[0m\n"
            ]
          },
          "metadata": {},
          "output_type": "display_data"
        },
        {
          "data": {
            "text/html": [
              "<pre style=\"white-space:pre;overflow-x:auto;line-height:normal;font-family:Menlo,'DejaVu Sans Mono',consolas,'Courier New',monospace\">┏━━━━━━━━━━━━━━━━━━━━━━━━━━━━━━━━━┳━━━━━━━━━━━━━━━━━━━━━━━━┳━━━━━━━━━━━━━━━┓\n",
              "┃<span style=\"font-weight: bold\"> Layer (type)                    </span>┃<span style=\"font-weight: bold\"> Output Shape           </span>┃<span style=\"font-weight: bold\">       Param # </span>┃\n",
              "┡━━━━━━━━━━━━━━━━━━━━━━━━━━━━━━━━━╇━━━━━━━━━━━━━━━━━━━━━━━━╇━━━━━━━━━━━━━━━┩\n",
              "│ dropout (<span style=\"color: #0087ff; text-decoration-color: #0087ff\">Dropout</span>)               │ ?                      │             <span style=\"color: #00af00; text-decoration-color: #00af00\">0</span> │\n",
              "├─────────────────────────────────┼────────────────────────┼───────────────┤\n",
              "│ dense (<span style=\"color: #0087ff; text-decoration-color: #0087ff\">Dense</span>)                   │ ?                      │   <span style=\"color: #00af00; text-decoration-color: #00af00\">0</span> (unbuilt) │\n",
              "└─────────────────────────────────┴────────────────────────┴───────────────┘\n",
              "</pre>\n"
            ],
            "text/plain": [
              "┏━━━━━━━━━━━━━━━━━━━━━━━━━━━━━━━━━┳━━━━━━━━━━━━━━━━━━━━━━━━┳━━━━━━━━━━━━━━━┓\n",
              "┃\u001b[1m \u001b[0m\u001b[1mLayer (type)                   \u001b[0m\u001b[1m \u001b[0m┃\u001b[1m \u001b[0m\u001b[1mOutput Shape          \u001b[0m\u001b[1m \u001b[0m┃\u001b[1m \u001b[0m\u001b[1m      Param #\u001b[0m\u001b[1m \u001b[0m┃\n",
              "┡━━━━━━━━━━━━━━━━━━━━━━━━━━━━━━━━━╇━━━━━━━━━━━━━━━━━━━━━━━━╇━━━━━━━━━━━━━━━┩\n",
              "│ dropout (\u001b[38;5;33mDropout\u001b[0m)               │ ?                      │             \u001b[38;5;34m0\u001b[0m │\n",
              "├─────────────────────────────────┼────────────────────────┼───────────────┤\n",
              "│ dense (\u001b[38;5;33mDense\u001b[0m)                   │ ?                      │   \u001b[38;5;34m0\u001b[0m (unbuilt) │\n",
              "└─────────────────────────────────┴────────────────────────┴───────────────┘\n"
            ]
          },
          "metadata": {},
          "output_type": "display_data"
        },
        {
          "data": {
            "text/html": [
              "<pre style=\"white-space:pre;overflow-x:auto;line-height:normal;font-family:Menlo,'DejaVu Sans Mono',consolas,'Courier New',monospace\"><span style=\"font-weight: bold\"> Total params: </span><span style=\"color: #00af00; text-decoration-color: #00af00\">0</span> (0.00 B)\n",
              "</pre>\n"
            ],
            "text/plain": [
              "\u001b[1m Total params: \u001b[0m\u001b[38;5;34m0\u001b[0m (0.00 B)\n"
            ]
          },
          "metadata": {},
          "output_type": "display_data"
        },
        {
          "data": {
            "text/html": [
              "<pre style=\"white-space:pre;overflow-x:auto;line-height:normal;font-family:Menlo,'DejaVu Sans Mono',consolas,'Courier New',monospace\"><span style=\"font-weight: bold\"> Trainable params: </span><span style=\"color: #00af00; text-decoration-color: #00af00\">0</span> (0.00 B)\n",
              "</pre>\n"
            ],
            "text/plain": [
              "\u001b[1m Trainable params: \u001b[0m\u001b[38;5;34m0\u001b[0m (0.00 B)\n"
            ]
          },
          "metadata": {},
          "output_type": "display_data"
        },
        {
          "data": {
            "text/html": [
              "<pre style=\"white-space:pre;overflow-x:auto;line-height:normal;font-family:Menlo,'DejaVu Sans Mono',consolas,'Courier New',monospace\"><span style=\"font-weight: bold\"> Non-trainable params: </span><span style=\"color: #00af00; text-decoration-color: #00af00\">0</span> (0.00 B)\n",
              "</pre>\n"
            ],
            "text/plain": [
              "\u001b[1m Non-trainable params: \u001b[0m\u001b[38;5;34m0\u001b[0m (0.00 B)\n"
            ]
          },
          "metadata": {},
          "output_type": "display_data"
        }
      ],
      "source": [
        "class NewsClassifier(tf.keras.Model):\n",
        "    def __init__(self, n_classes):\n",
        "        super(NewsClassifier, self).__init__()\n",
        "        self.bert = TFBertModel.from_pretrained('bert-base-uncased')\n",
        "        self.dropout = Dropout(0.3)\n",
        "        self.classifier = Dense(n_classes, activation='softmax')\n",
        "\n",
        "    def call(self, inputs, attention_mask=None, token_type_ids=None, training=False):\n",
        "        outputs = self.bert(inputs, attention_mask=attention_mask, token_type_ids=token_type_ids)\n",
        "        pooled_output = outputs[1]\n",
        "        pooled_output = self.dropout(pooled_output, training=training)\n",
        "        return self.classifier(pooled_output)\n",
        "\n",
        "# Création du modèle\n",
        "model = NewsClassifier(n_classes=2)\n",
        "\n",
        "# Affichage de la structure du modèle\n",
        "model.summary()\n"
      ]
    },
    {
      "cell_type": "code",
      "execution_count": 11,
      "metadata": {
        "colab": {
          "base_uri": "https://localhost:8080/"
        },
        "id": "bI2RiVis0I6I",
        "outputId": "35907737-fffa-4147-da89-06abb8299160"
      },
      "outputs": [
        {
          "name": "stdout",
          "output_type": "stream",
          "text": [
            "Model: \"tf_bert_model\"\n",
            "_________________________________________________________________\n",
            " Layer (type)                Output Shape              Param #   \n",
            "=================================================================\n",
            " bert (TFBertMainLayer)      multiple                  109482240 \n",
            "                                                                 \n",
            "=================================================================\n",
            "Total params: 109482240 (417.64 MB)\n",
            "Trainable params: 109482240 (417.64 MB)\n",
            "Non-trainable params: 0 (0.00 Byte)\n",
            "_________________________________________________________________\n"
          ]
        }
      ],
      "source": [
        "# Affichage de la structure complète du modèle BERT\n",
        "model.bert.summary()\n"
      ]
    },
    {
      "cell_type": "code",
      "execution_count": 12,
      "metadata": {
        "colab": {
          "base_uri": "https://localhost:8080/"
        },
        "id": "TtdryLSXKgRP",
        "outputId": "0de88d4e-a7cf-4a6b-aa73-dcf5868d9c7d"
      },
      "outputs": [
        {
          "name": "stderr",
          "output_type": "stream",
          "text": [
            "Some weights of the PyTorch model were not used when initializing the TF 2.0 model TFDistilBertModel: ['vocab_layer_norm.bias', 'vocab_transform.weight', 'vocab_transform.bias', 'vocab_layer_norm.weight', 'vocab_projector.bias']\n",
            "- This IS expected if you are initializing TFDistilBertModel from a PyTorch model trained on another task or with another architecture (e.g. initializing a TFBertForSequenceClassification model from a BertForPreTraining model).\n",
            "- This IS NOT expected if you are initializing TFDistilBertModel from a PyTorch model that you expect to be exactly identical (e.g. initializing a TFBertForSequenceClassification model from a BertForSequenceClassification model).\n",
            "All the weights of TFDistilBertModel were initialized from the PyTorch model.\n",
            "If your task is similar to the task the model of the checkpoint was trained on, you can already use TFDistilBertModel for predictions without further training.\n"
          ]
        },
        {
          "name": "stdout",
          "output_type": "stream",
          "text": [
            "Epoch 1/10\n",
            "\u001b[1m3156/3156\u001b[0m \u001b[32m━━━━━━━━━━━━━━━━━━━━\u001b[0m\u001b[37m\u001b[0m \u001b[1m2209s\u001b[0m 699ms/step - accuracy: 0.7070 - loss: 0.5600 - val_accuracy: 0.8351 - val_loss: 0.3938\n",
            "Epoch 2/10\n",
            "\u001b[1m3156/3156\u001b[0m \u001b[32m━━━━━━━━━━━━━━━━━━━━\u001b[0m\u001b[37m\u001b[0m \u001b[1m2204s\u001b[0m 698ms/step - accuracy: 0.8252 - loss: 0.3970 - val_accuracy: 0.8568 - val_loss: 0.3476\n",
            "Epoch 3/10\n",
            "\u001b[1m3156/3156\u001b[0m \u001b[32m━━━━━━━━━━━━━━━━━━━━\u001b[0m\u001b[37m\u001b[0m \u001b[1m2206s\u001b[0m 699ms/step - accuracy: 0.8494 - loss: 0.3573 - val_accuracy: 0.8688 - val_loss: 0.3234\n",
            "Epoch 4/10\n",
            "\u001b[1m3156/3156\u001b[0m \u001b[32m━━━━━━━━━━━━━━━━━━━━\u001b[0m\u001b[37m\u001b[0m \u001b[1m2199s\u001b[0m 697ms/step - accuracy: 0.8590 - loss: 0.3357 - val_accuracy: 0.8743 - val_loss: 0.3079\n",
            "Epoch 5/10\n",
            "\u001b[1m3156/3156\u001b[0m \u001b[32m━━━━━━━━━━━━━━━━━━━━\u001b[0m\u001b[37m\u001b[0m \u001b[1m2188s\u001b[0m 693ms/step - accuracy: 0.8632 - loss: 0.3226 - val_accuracy: 0.8800 - val_loss: 0.2973\n",
            "Epoch 6/10\n",
            "\u001b[1m3156/3156\u001b[0m \u001b[32m━━━━━━━━━━━━━━━━━━━━\u001b[0m\u001b[37m\u001b[0m \u001b[1m2186s\u001b[0m 693ms/step - accuracy: 0.8710 - loss: 0.3109 - val_accuracy: 0.8837 - val_loss: 0.2889\n",
            "Epoch 7/10\n",
            "\u001b[1m3156/3156\u001b[0m \u001b[32m━━━━━━━━━━━━━━━━━━━━\u001b[0m\u001b[37m\u001b[0m \u001b[1m2388s\u001b[0m 757ms/step - accuracy: 0.8741 - loss: 0.3027 - val_accuracy: 0.8858 - val_loss: 0.2817\n",
            "Epoch 8/10\n",
            "\u001b[1m3156/3156\u001b[0m \u001b[32m━━━━━━━━━━━━━━━━━━━━\u001b[0m\u001b[37m\u001b[0m \u001b[1m2575s\u001b[0m 816ms/step - accuracy: 0.8768 - loss: 0.2976 - val_accuracy: 0.8881 - val_loss: 0.2764\n",
            "Epoch 9/10\n",
            "\u001b[1m3156/3156\u001b[0m \u001b[32m━━━━━━━━━━━━━━━━━━━━\u001b[0m\u001b[37m\u001b[0m \u001b[1m2588s\u001b[0m 820ms/step - accuracy: 0.8744 - loss: 0.2972 - val_accuracy: 0.8888 - val_loss: 0.2721\n",
            "Epoch 10/10\n",
            "\u001b[1m3156/3156\u001b[0m \u001b[32m━━━━━━━━━━━━━━━━━━━━\u001b[0m\u001b[37m\u001b[0m \u001b[1m2579s\u001b[0m 817ms/step - accuracy: 0.8774 - loss: 0.2925 - val_accuracy: 0.8929 - val_loss: 0.2687\n"
          ]
        },
        {
          "data": {
            "text/plain": [
              "<keras.src.callbacks.history.History at 0x7f8f962a1fc0>"
            ]
          },
          "execution_count": 12,
          "metadata": {},
          "output_type": "execute_result"
        }
      ],
      "source": [
        "class NewsClassifier(tf.keras.Model):\n",
        "    def __init__(self, n_classes):\n",
        "        super(NewsClassifier, self).__init__()\n",
        "        self.bert = TFDistilBertModel.from_pretrained('distilbert-base-uncased')\n",
        "        self.dropout = Dropout(0.3)\n",
        "        self.classifier = Dense(n_classes)  # Suppression de l'activation softmax\n",
        "\n",
        "    def call(self, inputs, attention_mask=None, training=False):\n",
        "        outputs = self.bert(inputs, attention_mask=attention_mask)\n",
        "        pooled_output = outputs[0][:, 0, :]  # Utiliser la sortie du premier token [CLS]\n",
        "        pooled_output = self.dropout(pooled_output, training=training)\n",
        "        return self.classifier(pooled_output)\n",
        "\n",
        "# Création du modèle\n",
        "model = NewsClassifier(n_classes=2)\n",
        "\n",
        "# Compilation du modèle avec un taux d'apprentissage plus élevé\n",
        "model.compile(optimizer=tf.keras.optimizers.Adam(learning_rate=5e-5),\n",
        "              loss=tf.keras.losses.SparseCategoricalCrossentropy(from_logits=True),\n",
        "              metrics=['accuracy'])\n",
        "\n",
        "# Création des datasets TensorFlow\n",
        "train_dataset = tf.data.Dataset.from_tensor_slices(({'input_ids': train_input_ids, 'attention_mask': train_attention_masks}, train_labels))\n",
        "val_dataset = tf.data.Dataset.from_tensor_slices(({'input_ids': val_input_ids, 'attention_mask': val_attention_masks}, val_labels))\n",
        "\n",
        "# Batching et shuffling des datasets avec une taille de batch plus petite\n",
        "train_dataset = train_dataset.shuffle(1000).batch(16)\n",
        "val_dataset = val_dataset.batch(16)\n",
        "\n",
        "# Entraînement du modèle avec plus d'époques\n",
        "model.fit(train_dataset, epochs=10, validation_data=val_dataset)\n"
      ]
    },
    {
      "cell_type": "code",
      "execution_count": 13,
      "metadata": {
        "colab": {
          "base_uri": "https://localhost:8080/"
        },
        "id": "HFKqxVbIWEut",
        "outputId": "00fa4de0-ef01-4989-be39-c41a34e568fe"
      },
      "outputs": [
        {
          "name": "stdout",
          "output_type": "stream",
          "text": [
            "\u001b[1m790/790\u001b[0m \u001b[32m━━━━━━━━━━━━━━━━━━━━\u001b[0m\u001b[37m\u001b[0m \u001b[1m434s\u001b[0m 549ms/step - accuracy: 0.8886 - loss: 0.2743\n",
            "Validation Loss: 0.26867467164993286\n",
            "Validation Accuracy: 0.892910897731781\n"
          ]
        }
      ],
      "source": [
        "# Évaluation du modèle\n",
        "val_loss, val_accuracy = model.evaluate(val_dataset)\n",
        "print(f'Validation Loss: {val_loss}')\n",
        "print(f'Validation Accuracy: {val_accuracy}')\n"
      ]
    },
    {
      "cell_type": "code",
      "execution_count": 18,
      "metadata": {},
      "outputs": [
        {
          "name": "stdout",
          "output_type": "stream",
          "text": [
            "\u001b[1m1/1\u001b[0m \u001b[32m━━━━━━━━━━━━━━━━━━━━\u001b[0m\u001b[37m\u001b[0m \u001b[1m1s\u001b[0m 535ms/step\n",
            "[[ 0.7785117 -1.0290569]\n",
            " [ 0.5046627 -0.8220246]]\n"
          ]
        }
      ],
      "source": [
        "def preprocess_function(texts):\n",
        "    return tokenizer(texts, padding=True, truncation=True, return_tensors=\"tf\")\n",
        "\n",
        "# Créer un tf.data.Dataset à partir des données textuelles\n",
        "texts = [\"This is a positive sentence.\", \"This is a negative sentence.\"]\n",
        "inputs = preprocess_function(texts)\n",
        "dataset = tf.data.Dataset.from_tensor_slices((inputs['input_ids'], inputs['attention_mask']))\n",
        "\n",
        "# Faire des prédictions\n",
        "predictions = model.predict(dataset.batch(2))  # Batch size = 2\n",
        "print(predictions)"
      ]
    },
    {
      "cell_type": "code",
      "execution_count": 21,
      "metadata": {},
      "outputs": [
        {
          "name": "stderr",
          "output_type": "stream",
          "text": [
            "2025-02-03 22:18:36.209399: I tensorflow/core/framework/local_rendezvous.cc:405] Local rendezvous is aborting with status: OUT_OF_RANGE: End of sequence\n"
          ]
        }
      ],
      "source": [
        "X_train = []\n",
        "y_train = []\n",
        "\n",
        "for features, labels in dataset:\n",
        "    X_train.append(features.numpy())\n",
        "    y_train.append(labels.numpy())\n",
        "\n",
        "# Convertir en tableaux NumPy\n",
        "X_train = np.array(X_train)\n",
        "y_train = np.array(y_train)"
      ]
    },
    {
      "cell_type": "code",
      "execution_count": 29,
      "metadata": {},
      "outputs": [
        {
          "name": "stdout",
          "output_type": "stream",
          "text": [
            "({'input_ids': <tf.Tensor: shape=(16, 128), dtype=int32, numpy=\n",
            "array([[  101,  6221,  8398, ...,  2009,  3310,   102],\n",
            "       [  101,  1056, 28394, ...,  1055,  2880,   102],\n",
            "       [  101, 14548,  3695, ...,  2032,  1012,   102],\n",
            "       ...,\n",
            "       [  101, 14910,  2050, ...,  1996,  2069,   102],\n",
            "       [  101,  4845,  2600, ...,  2600,  1006,   102],\n",
            "       [  101,  8112,  1521, ...,  9221,  2018,   102]], dtype=int32)>, 'attention_mask': <tf.Tensor: shape=(16, 128), dtype=int32, numpy=\n",
            "array([[1, 1, 1, ..., 1, 1, 1],\n",
            "       [1, 1, 1, ..., 1, 1, 1],\n",
            "       [1, 1, 1, ..., 1, 1, 1],\n",
            "       ...,\n",
            "       [1, 1, 1, ..., 1, 1, 1],\n",
            "       [1, 1, 1, ..., 1, 1, 1],\n",
            "       [1, 1, 1, ..., 1, 1, 1]], dtype=int32)>}, <tf.Tensor: shape=(16,), dtype=int64, numpy=array([0, 0, 1, 1, 0, 0, 0, 1, 1, 1, 0, 1, 1, 0, 0, 0])>)\n"
          ]
        },
        {
          "name": "stderr",
          "output_type": "stream",
          "text": [
            "2025-02-03 22:26:56.661553: I tensorflow/core/framework/local_rendezvous.cc:405] Local rendezvous is aborting with status: OUT_OF_RANGE: End of sequence\n"
          ]
        },
        {
          "data": {
            "text/plain": [
              "tuple"
            ]
          },
          "execution_count": 29,
          "metadata": {},
          "output_type": "execute_result"
        }
      ],
      "source": [
        "for batch in val_dataset.take(1):\n",
        "    print(batch)\n",
        "\n",
        "type(batch)"
      ]
    },
    {
      "cell_type": "code",
      "execution_count": 42,
      "metadata": {},
      "outputs": [],
      "source": [
        "# Accéder au dictionnaire (input_ids et attention_mask)\n",
        "input_ids = batch[0]['input_ids'].numpy()  # Extraire input_ids\n",
        "attention_mask = batch[0]['attention_mask'].numpy()  # Extraire attention_mask\n",
        "\n",
        "# Accéder aux étiquettes (labels)\n",
        "labels = batch[1].numpy()  # Extraire les étiquettes"
      ]
    },
    {
      "cell_type": "code",
      "execution_count": 44,
      "metadata": {},
      "outputs": [
        {
          "name": "stdout",
          "output_type": "stream",
          "text": [
            "Forme de X_val_input_ids après concaténation : (12625, 128)\n",
            "Forme de y_val après concaténation : (12625,)\n"
          ]
        }
      ],
      "source": [
        "# Fusionner les batches\n",
        "X_val_input_ids = np.concatenate(X_val_input_ids, axis=0)\n",
        "X_val_attention_mask = np.concatenate(X_val_attention_mask, axis=0)\n",
        "y_val = np.concatenate(y_val, axis=0)\n",
        "\n",
        "# Vérifier les formes\n",
        "print(\"Forme de X_val_input_ids après concaténation :\", X_val_input_ids.shape)\n",
        "print(\"Forme de y_val après concaténation :\", y_val.shape)"
      ]
    },
    {
      "cell_type": "code",
      "execution_count": 48,
      "metadata": {},
      "outputs": [
        {
          "name": "stdout",
          "output_type": "stream",
          "text": [
            "\u001b[1m395/395\u001b[0m \u001b[32m━━━━━━━━━━━━━━━━━━━━\u001b[0m\u001b[37m\u001b[0m \u001b[1m438s\u001b[0m 1s/step\n"
          ]
        }
      ],
      "source": [
        "# Préparer les entrées pour le modèle\n",
        "inputs = {\n",
        "    'input_ids': X_val_input_ids,\n",
        "    'attention_mask': X_val_attention_mask\n",
        "}\n",
        "\n",
        "# Faire des prédictions\n",
        "y_pred = model.predict(inputs)\n",
        "\n",
        "# Convertir les prédictions en classes (si c'est un problème de classification)\n",
        "y_pred_classes = np.argmax(y_pred, axis=1)"
      ]
    },
    {
      "cell_type": "code",
      "execution_count": 49,
      "metadata": {},
      "outputs": [
        {
          "name": "stdout",
          "output_type": "stream",
          "text": [
            "F1 Score : 0.8928785861584273\n"
          ]
        }
      ],
      "source": [
        "# Calculer le F1 score\n",
        "f1 = f1_score(y_val, y_pred_classes, average='weighted')  # 'weighted' pour prendre en compte les classes déséquilibrées\n",
        "print(\"F1 Score :\", f1)"
      ]
    },
    {
      "cell_type": "code",
      "execution_count": 50,
      "metadata": {},
      "outputs": [
        {
          "name": "stdout",
          "output_type": "stream",
          "text": [
            "Matrice de confusion :\n",
            "[[4976  694]\n",
            " [ 658 6297]]\n",
            "Matrice de confusion en pourcentages :\n",
            "[[87.76014109 12.23985891]\n",
            " [ 9.46081955 90.53918045]]\n"
          ]
        }
      ],
      "source": [
        "conf_matrix = confusion_matrix(y_val, y_pred_classes)\n",
        "print(\"Matrice de confusion :\")\n",
        "print(conf_matrix)\n",
        "\n",
        "# Normaliser la matrice de confusion en pourcentages\n",
        "conf_matrix_percent = conf_matrix.astype('float') / conf_matrix.sum(axis=1)[:, np.newaxis] * 100\n",
        "\n",
        "# Afficher la matrice de confusion en pourcentages\n",
        "print(\"Matrice de confusion en pourcentages :\")\n",
        "print(conf_matrix_percent)"
      ]
    },
    {
      "cell_type": "code",
      "execution_count": 58,
      "metadata": {},
      "outputs": [
        {
          "name": "stdout",
          "output_type": "stream",
          "text": [
            "Matrice de confusion :\n",
            "[[4976  694]\n",
            " [ 658 6297]]\n"
          ]
        },
        {
          "data": {
            "image/png": "[encoded data removed]",
            "text/plain": [
              "<Figure size 640x480 with 2 Axes>"
            ]
          },
          "metadata": {},
          "output_type": "display_data"
        }
      ],
      "source": [
        "# Calculer la matrice de confusion\n",
        "conf_matrix = confusion_matrix(y_val, y_pred_classes)\n",
        "print(\"Matrice de confusion :\")\n",
        "print(conf_matrix)\n",
        "\n",
        "# Supposons que vous avez des noms de classes\n",
        "class_names = ['Fake', 'Real']\n",
        "\n",
        "# Créer une visualisation de la matrice de confusion\n",
        "disp = ConfusionMatrixDisplay(confusion_matrix=conf_matrix, display_labels=class_names)\n",
        "\n",
        "# Afficher la matrice de confusion\n",
        "disp.plot(cmap='Blues', values_format='d')  # 'd' pour afficher les valeurs en entiers\n",
        "plt.title(\"Matrice de confusion - BERT\")\n",
        "plt.show()\n"
      ]
    },
    {
      "cell_type": "code",
      "execution_count": 59,
      "metadata": {},
      "outputs": [
        {
          "data": {
            "image/png": "[encoded data removed]",
            "text/plain": [
              "<Figure size 640x480 with 2 Axes>"
            ]
          },
          "metadata": {},
          "output_type": "display_data"
        }
      ],
      "source": [
        "# Normaliser la matrice de confusion en pourcentages\n",
        "conf_matrix_percent = conf_matrix.astype('float') / conf_matrix.sum(axis=1)[:, np.newaxis] * 100\n",
        "\n",
        "# Créer une visualisation de la matrice de confusion en pourcentages\n",
        "disp = ConfusionMatrixDisplay(confusion_matrix=conf_matrix_percent, display_labels=class_names)\n",
        "\n",
        "# Afficher la matrice de confusion en pourcentages\n",
        "disp.plot(cmap='Blues', values_format='.2f')  # '.2f' pour afficher les valeurs avec 2 décimales\n",
        "plt.title(\"Matrice de confusion - BERT - en pourcentages\")\n",
        "plt.show()"
      ]
    },
    {
      "cell_type": "markdown",
      "metadata": {
        "id": "-jpXeGJcXf07"
      },
      "source": [
        "# Saving"
      ]
    },
    {
      "cell_type": "code",
      "execution_count": null,
      "metadata": {
        "id": "chIxCncPWeak"
      },
      "outputs": [],
      "source": [
        "# Création du répertoire s'il n'existe pas\n",
        "os.makedirs('fake_news_detector', exist_ok=True)\n",
        "\n",
        "# Sauvegarde du modèle en format .keras\n",
        "model.save('fake_news_detector/model.keras')\n"
      ]
    },
    {
      "cell_type": "code",
      "execution_count": null,
      "metadata": {
        "id": "P5WLX3kUW_6Y"
      },
      "outputs": [],
      "source": [
        "# Sauvegarde des poids du modèle\n",
        "model.save_weights('fake_news_detector/model_weights.weights.h5')\n"
      ]
    },
    {
      "cell_type": "markdown",
      "metadata": {
        "id": "x9dACb9XXvdx"
      },
      "source": [
        "## Téléchargement des Fichiers Sauvegardés sur pc"
      ]
    },
    {
      "cell_type": "code",
      "execution_count": null,
      "metadata": {
        "colab": {
          "base_uri": "https://localhost:8080/",
          "height": 17
        },
        "id": "h7lnTzDmXVLU",
        "outputId": "05a730e5-124f-44ce-a534-88950c0a713b"
      },
      "outputs": [
        {
          "data": {
            "application/javascript": "\n    async function download(id, filename, size) {\n      if (!google.colab.kernel.accessAllowed) {\n        return;\n      }\n      const div = document.createElement('div');\n      const label = document.createElement('label');\n      label.textContent = `Downloading \"${filename}\": `;\n      div.appendChild(label);\n      const progress = document.createElement('progress');\n      progress.max = size;\n      div.appendChild(progress);\n      document.body.appendChild(div);\n\n      const buffers = [];\n      let downloaded = 0;\n\n      const channel = await google.colab.kernel.comms.open(id);\n      // Send a message to notify the kernel that we're ready.\n      channel.send({})\n\n      for await (const message of channel.messages) {\n        // Send a message to notify the kernel that we're ready.\n        channel.send({})\n        if (message.buffers) {\n          for (const buffer of message.buffers) {\n            buffers.push(buffer);\n            downloaded += buffer.byteLength;\n            progress.value = downloaded;\n          }\n        }\n      }\n      const blob = new Blob(buffers, {type: 'application/binary'});\n      const a = document.createElement('a');\n      a.href = window.URL.createObjectURL(blob);\n      a.download = filename;\n      div.appendChild(a);\n      a.click();\n      div.remove();\n    }\n  ",
            "text/plain": [
              "<IPython.core.display.Javascript object>"
            ]
          },
          "metadata": {},
          "output_type": "display_data"
        },
        {
          "data": {
            "application/javascript": "download(\"download_e321aa05-db56-4dc4-9000-a8b4660f2b6d\", \"model.keras\", 29909)",
            "text/plain": [
              "<IPython.core.display.Javascript object>"
            ]
          },
          "metadata": {},
          "output_type": "display_data"
        },
        {
          "data": {
            "application/javascript": "\n    async function download(id, filename, size) {\n      if (!google.colab.kernel.accessAllowed) {\n        return;\n      }\n      const div = document.createElement('div');\n      const label = document.createElement('label');\n      label.textContent = `Downloading \"${filename}\": `;\n      div.appendChild(label);\n      const progress = document.createElement('progress');\n      progress.max = size;\n      div.appendChild(progress);\n      document.body.appendChild(div);\n\n      const buffers = [];\n      let downloaded = 0;\n\n      const channel = await google.colab.kernel.comms.open(id);\n      // Send a message to notify the kernel that we're ready.\n      channel.send({})\n\n      for await (const message of channel.messages) {\n        // Send a message to notify the kernel that we're ready.\n        channel.send({})\n        if (message.buffers) {\n          for (const buffer of message.buffers) {\n            buffers.push(buffer);\n            downloaded += buffer.byteLength;\n            progress.value = downloaded;\n          }\n        }\n      }\n      const blob = new Blob(buffers, {type: 'application/binary'});\n      const a = document.createElement('a');\n      a.href = window.URL.createObjectURL(blob);\n      a.download = filename;\n      div.appendChild(a);\n      a.click();\n      div.remove();\n    }\n  ",
            "text/plain": [
              "<IPython.core.display.Javascript object>"
            ]
          },
          "metadata": {},
          "output_type": "display_data"
        },
        {
          "data": {
            "application/javascript": "download(\"download_14fb560b-25ec-48a8-9c18-99266f1b6305\", \"model_weights.weights.h5\", 31584)",
            "text/plain": [
              "<IPython.core.display.Javascript object>"
            ]
          },
          "metadata": {},
          "output_type": "display_data"
        }
      ],
      "source": [
        "# Téléchargement du fichier du modèle\n",
        "files.download('fake_news_detector/model.keras')\n",
        "\n",
        "# Téléchargement du fichier des poids du modèle\n",
        "files.download('fake_news_detector/model_weights.weights.h5')\n"
      ]
    },
    {
      "cell_type": "code",
      "execution_count": null,
      "metadata": {
        "colab": {
          "base_uri": "https://localhost:8080/"
        },
        "id": "WvSMLh8GZipG",
        "outputId": "11a12bfe-3142-4245-a0db-b5c495bbff0b"
      },
      "outputs": [
        {
          "name": "stdout",
          "output_type": "stream",
          "text": [
            "['model.pkl', 'model.keras', 'model_weights.weights.h5']\n"
          ]
        }
      ],
      "source": [
        "# Lister les fichiers dans le répertoire fake_news_detector\n",
        "files = os.listdir('fake_news_detector')\n",
        "print(files)\n"
      ]
    },
    {
      "cell_type": "code",
      "execution_count": null,
      "metadata": {
        "colab": {
          "base_uri": "https://localhost:8080/"
        },
        "id": "fUSFPQtNXZhU",
        "outputId": "8a66d8ad-32e5-4f02-98ea-fe106d78647b"
      },
      "outputs": [
        {
          "name": "stdout",
          "output_type": "stream",
          "text": [
            "['.config', 'fake_news_detector', 'sample_data']\n"
          ]
        }
      ],
      "source": [
        "# Lister les fichiers dans le répertoire courant\n",
        "files = os.listdir('.')\n",
        "print(files)\n"
      ]
    }
  ],
  "metadata": {
    "accelerator": "GPU",
    "colab": {
      "gpuType": "T4",
      "provenance": []
    },
    "kernelspec": {
      "display_name": "Python 3",
      "name": "python3"
    },
    "language_info": {
      "name": "python"
    }
  },
  "nbformat": 4,
  "nbformat_minor": 0
}
